{
 "cells": [
  {
   "cell_type": "markdown",
   "id": "d0e11489",
   "metadata": {},
   "source": [
    "# Names and IDs"
   ]
  },
  {
   "cell_type": "code",
   "execution_count": null,
   "id": "8c9187ef",
   "metadata": {},
   "outputs": [],
   "source": []
  },
  {
   "cell_type": "markdown",
   "id": "3a230e00",
   "metadata": {},
   "source": [
    "# Research Question, Motivation and Related works"
   ]
  },
  {
   "cell_type": "code",
   "execution_count": null,
   "id": "f5930c45",
   "metadata": {},
   "outputs": [],
   "source": []
  },
  {
   "cell_type": "markdown",
   "id": "9fafadeb",
   "metadata": {},
   "source": [
    "# Hypothesis"
   ]
  },
  {
   "cell_type": "markdown",
   "id": "9d0f0198",
   "metadata": {},
   "source": [
    "# The Dataset"
   ]
  },
  {
   "cell_type": "code",
   "execution_count": null,
   "id": "79880625",
   "metadata": {},
   "outputs": [],
   "source": []
  },
  {
   "cell_type": "markdown",
   "id": "c19c8f73",
   "metadata": {},
   "source": [
    "# Analyses Description"
   ]
  },
  {
   "cell_type": "markdown",
   "id": "442e458a",
   "metadata": {},
   "source": [
    "# The Models"
   ]
  },
  {
   "cell_type": "markdown",
   "id": "6ea7a63f",
   "metadata": {},
   "source": [
    "# 1st Analysis for Rough Draft"
   ]
  },
  {
   "cell_type": "code",
   "execution_count": null,
   "id": "37474808",
   "metadata": {},
   "outputs": [],
   "source": []
  },
  {
   "cell_type": "markdown",
   "id": "67793d6b",
   "metadata": {},
   "source": [
    "# Conclusion"
   ]
  }
 ],
 "metadata": {
  "kernelspec": {
   "display_name": "base",
   "language": "python",
   "name": "python3"
  },
  "language_info": {
   "name": "python",
   "version": "3.12.7"
  }
 },
 "nbformat": 4,
 "nbformat_minor": 5
}
