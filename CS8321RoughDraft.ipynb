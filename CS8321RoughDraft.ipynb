{
 "cells": [
  {
   "cell_type": "markdown",
   "id": "1e7d169e",
   "metadata": {},
   "source": [
    "We began by organizing all the core libraries we knew we’d rely on throughout the pipeline. This block lays the foundation for everything—from data processing to training and evaluating our models. Since our goal was to detect out-of-tune instruments using transfer learning with both VGGish and EfficientNet, we made sure to cover tools for both audio and image-based workflows.\n",
    "\n",
    "We brought in standard Python libraries like os, numpy, and pandas to handle file structures, numerical computations, and dataframes, respectively. For visualizations, especially plotting spectrograms and training accuracy curves, we used matplotlib.pyplot, and for any image-related manipulations, we included PIL.Image.\n",
    "\n",
    "For preprocessing and evaluation, we used scikit-learn tools like train_test_split for splitting our dataset, LabelEncoder for turning instrument labels into numerical form, and classification_report and confusion_matrix to help us understand how well our models performed later on.\n",
    "\n",
    "Since our modeling was centered around deep learning, we used TensorFlow and Keras as our main frameworks. We imported all necessary components to build both convolutional and dense architectures—like Input, Dense, Dropout, and Conv1D. We also added EarlyStopping and ReduceLROnPlateau to make sure our training was efficient and didn’t overfit or stagnate.\n",
    "\n",
    "Finally, we included librosa for all our audio-specific needs, like loading .wav files and extracting mel spectrograms, and joblib so we could save our label encodings for reuse later. This import block may look standard, but for us, it was about setting up a toolkit that could handle the unique nature of our problem—analyzing audio in a polyphonic setting and translating that into a classification task."
   ]
  },
  {
   "cell_type": "code",
   "execution_count": 7,
   "id": "3124d360",
   "metadata": {},
   "outputs": [],
   "source": [
    "# Out-of-Tune Instrument Detection using VGGish & EfficientNet\n",
    "\n",
    "import os\n",
    "import numpy as np\n",
    "import pandas as pd\n",
    "from PIL import Image\n",
    "import matplotlib.pyplot as plt\n",
    "\n",
    "from sklearn.model_selection import train_test_split\n",
    "from sklearn.preprocessing import LabelEncoder\n",
    "from sklearn.metrics import classification_report, confusion_matrix\n",
    "from tensorflow.keras.utils import to_categorical\n",
    "\n",
    "from tensorflow.keras.models import Model\n",
    "from tensorflow.keras.callbacks import EarlyStopping, ReduceLROnPlateau\n",
    "from tensorflow.keras.optimizers import Adam\n",
    "import joblib\n",
    "import librosa\n",
    "from tensorflow.keras.layers import Input, Dense, Dropout, Conv1D, MaxPooling1D, GlobalAveragePooling1D\n"
   ]
  },
  {
   "cell_type": "markdown",
   "id": "1adffec1",
   "metadata": {},
   "source": [
    "Once we had our libraries in place, the next thing we did was set up all the key configuration values that would drive our audio processing pipeline. This section of the code below essentially defines the behavior of our feature extraction and helps standardize the input format for our models.\n",
    "\n",
    "We began by specifying the path to our audio dataset (AUDIO_DIR) and the corresponding labels CSV (LABELS_CSV). These .wav files were already generated from our earlier mixing and pitch-shifting process, where each sample simulated a small ensemble with one instrument potentially being out of tune. The labels.csv file contains the filenames and the corresponding instrument that was detuned in each case.\n",
    "\n",
    "Then we locked in our audio parameters. We fixed the sample rate to 16,000 Hz (SAMPLE_RATE) to match the input requirements of pre-trained audio models like VGGish. Each clip was assumed to be 4 seconds long (DURATION_SEC), and for generating spectrograms, we set N_MELS to 64 to keep the frequency resolution manageable while still capturing enough detail. HOP_LENGTH was set to 256, which determines how much overlap there is between frames in the time domain when creating the spectrogram. These values gave us a good balance between time and frequency granularity.\n",
    "\n",
    "Next, we defined a helper function called extract_melspec, which became our core utility to transform raw audio into a consistent feature format. For each .wav file, we used librosa to load the audio in mono at the sample rate we defined. Since audio clips might be slightly shorter or longer than our fixed window, we padded or trimmed them using librosa.util.fix_length to make sure every input was exactly 4 seconds. Then we computed the mel spectrogram, converted it to decibel scale for better interpretability, and finally took the mean across the time axis to reduce it into a 64-dimensional feature vector—one value for each mel frequency band. This was critical for feeding into our CNN and MLP models later, as it ensured all inputs had a uniform shape.\n",
    "\n",
    "Once the feature extraction pipeline was in place, we moved on to loading our labels. We read the labels.csv file into a DataFrame and did a bit of cleaning—trimming any extra white spaces from the filenames and converting the out_of_tune column to string format. This helped avoid mismatches or parsing issues down the line. Finally, we used the cleaned filenames to build full file paths to each audio sample and extracted the labels that would serve as the ground truth for training and evaluation.\n",
    "\n",
    "This part of the code really set the stage for everything that followed. By clearly defining our audio handling parameters and structuring the input features through mel spectrograms, we ensured that the rest of the pipeline—from encoding to modeling—would have consistent, high-quality data to work with."
   ]
  },
  {
   "cell_type": "code",
   "execution_count": 15,
   "id": "5bf9164d",
   "metadata": {},
   "outputs": [],
   "source": [
    "# ===== CONFIG =====\n",
    "AUDIO_DIR = \"E:/CS8321Final/CS8321FinalProject/out_of_tune_instruments/audio\"\n",
    "LABELS_CSV = \"E:/CS8321Final/CS8321FinalProject/out_of_tune_instruments/labels.csv\"\n",
    "SAMPLE_RATE = 16000\n",
    "DURATION_SEC = 4.0\n",
    "N_MELS = 64\n",
    "HOP_LENGTH = 256\n",
    "\n",
    "\n",
    "# ===== MEL-SPECTROGRAM EXTRACTION =====\n",
    "def extract_melspec(wav_path, n_mels=N_MELS, hop_length=HOP_LENGTH):\n",
    "    y, _ = librosa.load(wav_path, sr=SAMPLE_RATE, mono=True)\n",
    "    y = librosa.util.fix_length(y, size=int(SAMPLE_RATE * DURATION_SEC))\n",
    "    S = librosa.feature.melspectrogram(y=y, sr=SAMPLE_RATE, n_mels=n_mels, hop_length=hop_length)\n",
    "    S_db = librosa.power_to_db(S, ref=np.max)\n",
    "    return np.mean(S_db, axis=1)  # (n_mels,)\n",
    "\n",
    "# ===== LOAD LABELS =====\n",
    "df = pd.read_csv(LABELS_CSV)\n",
    "df['filename'] = df['filename'].str.strip()\n",
    "df['out_of_tune'] = df['out_of_tune'].astype(str).str.strip()\n",
    "\n",
    "filepaths = [os.path.join(AUDIO_DIR, fname) for fname in df['filename']]\n",
    "labels = df['out_of_tune'].values"
   ]
  },
  {
   "cell_type": "markdown",
   "id": "029f7a80",
   "metadata": {},
   "source": [
    "After prepping the filepaths and labels from our dataset, our next step was to convert these raw labels into a machine-friendly format. Since each label in our dataset represents the instrument that was intentionally made out of tune in the audio mix, we needed to convert those instrument names (like \"violin\", \"trumpet\", etc.) into numerical values that a neural network can work with.\n",
    "\n",
    "To do that, we used LabelEncoder from sklearn, which mapped each unique instrument label to an integer. Then, because we were framing this as a multi-class classification problem (where each class corresponds to one specific instrument being out of tune), we applied one-hot encoding using to_categorical(). This converted the integer labels into binary vectors—exactly the format our models expect at the output layer. As an extra step, we saved the fitted encoder using joblib.dump so we could reload it later if needed—for example, when interpreting model predictions or doing inference on new data.\n",
    "\n",
    "Once we had the labels ready, we turned our attention to extracting features from the audio files. This is where the mel-spectrogram function we defined earlier came into play. For each .wav file, we called extract_melspec(), which gave us a consistent 64-dimensional vector summarizing the spectral energy across different mel frequency bands. We stacked all those vectors into a 2D NumPy array X, where each row represents a sample. Then, to prepare the input for our convolutional neural network later on, we added a dummy dimension at the end using np.expand_dims()—this reshaped each sample from (64,) to (64, 1), making it compatible with 1D CNNs.\n",
    "\n",
    "At the end of this block, we had everything in place: a clean feature matrix X, properly formatted labels y, and both ready to be used for training."
   ]
  },
  {
   "cell_type": "code",
   "execution_count": 16,
   "id": "f10afbc1",
   "metadata": {},
   "outputs": [],
   "source": [
    "# ===== ENCODE LABELS =====\n",
    "label_encoder = LabelEncoder()\n",
    "encoded_labels = label_encoder.fit_transform(labels)\n",
    "one_hot_labels = to_categorical(encoded_labels)\n",
    "joblib.dump(label_encoder, 'label_encoder.joblib')\n",
    "\n",
    "# ===== EXTRACT MEL FEATURES =====\n",
    "X = np.stack([extract_melspec(fp) for fp in filepaths])  # Shape: (N, 64)\n",
    "X = np.expand_dims(X, axis=-1)  # Shape: (N, 64, 1) → for CNN input\n",
    "y = one_hot_labels"
   ]
  },
  {
   "cell_type": "markdown",
   "id": "11fd5e9d",
   "metadata": {},
   "source": [
    "Filtering Low-Sample Classes & Train-Test Split\n",
    "\n",
    "At this point in our pipeline, we had a full set of mel-spectrogram features and corresponding one-hot encoded labels for each sample. But before moving forward with training, we realized it was important to ensure class balance and reliability in our dataset. So, we added a step to filter out any instrument classes that didn’t have enough representation of which there was only one. That being saxophone as we mention in the dataset description.\n",
    "\n",
    "Using np.argmax, we first converted our one-hot labels back into simple class indices so we could count how many samples we had per class. Then we used np.unique to calculate the frequency of each class. If a particular instrument (i.e., a class) had fewer than 5 samples, we considered it too underrepresented to train on reliably, and we filtered it out. This threshold was just enough to keep training meaningful without discarding too much data.\n",
    "\n",
    "To do this cleanly, we created a list of valid_indices—samples whose class belonged to a group with at least 5 examples. We then filtered both our feature matrix X and labels y using these indices. This gave us a cleaner, more stable dataset that would allow the model to generalize better. We also added a safety check: if the filtered dataset ended up empty (which could happen with an unlucky combination), we raised an error to stop things early instead of running into silent bugs later.\n",
    "\n",
    "Once that filtering was done, we performed our train-test split using train_test_split from sklearn. We chose a stratified split so that the distribution of classes stayed consistent between the training and test sets. We used and 80/20 split for our train test split.\n"
   ]
  },
  {
   "cell_type": "code",
   "execution_count": 17,
   "id": "5c733dfc",
   "metadata": {},
   "outputs": [],
   "source": [
    "# ===== FILTER CLASSES WITH ≥5 SAMPLES =====\n",
    "class_indices = np.argmax(y, axis=1)\n",
    "(unique, counts) = np.unique(class_indices, return_counts=True)\n",
    "valid_classes = unique[counts >= 5]\n",
    "valid_indices = [i for i, cls in enumerate(class_indices) if cls in valid_classes]\n",
    "\n",
    "X = X[valid_indices]\n",
    "y = y[valid_indices]\n",
    "class_indices = np.argmax(y, axis=1)\n",
    "\n",
    "if len(X) == 0:\n",
    "    raise ValueError(\"No valid samples left after filtering. Try reducing the min sample threshold.\")\n",
    "\n",
    "# ===== TRAIN TEST SPLIT =====\n",
    "X_train, X_test, y_train, y_test = train_test_split(\n",
    "    X, y, stratify=class_indices, test_size=0.2, random_state=42)"
   ]
  },
  {
   "cell_type": "markdown",
   "id": "59db510d",
   "metadata": {},
   "source": [
    "Our 1D CNN Model for Out-of-Tune Instrument Detection:\n",
    "Once we had our cleaned dataset and extracted mel-spectrogram features, we were ready to start experimenting with our first learning architecture. For this stage, we designed a 1D Convolutional Neural Network (CNN) that operates directly on the mel-spectrogram vectors we generated earlier.\n",
    "\n",
    "Why CNN? And Why Now?\n",
    "Even though our broader research goal centers around using VGGish and transfer learning in future iterations, we wanted to first build a strong CNN baseline from scratch. Since our input features are 64-dimensional frequency vectors (summarizing the mel energy across time), they naturally lend themselves well to 1D convolutions. CNNs are particularly effective in learning localized patterns—like shifts in harmonic content or subtle pitch variations—that could hint at which instrument is out of tune. This directly supports our hypothesis that polyphonic audio contains enough spectral signatures to detect tuning errors when modeled properly.\n",
    "\n",
    "And unlike 2D CNNs used for image data, this 1D CNN is computationally lighter, yet still powerful enough to extract meaningful trends across the frequency bands.\n",
    "\n",
    "What We Built:\n",
    "We began by defining the input layer to accept data in the shape (64, 1), which corresponds to the number of mel bands and a dummy channel dimension.\n",
    "\n",
    "The network starts with a Conv1D layer with 64 filters and a kernel size of 3, followed by max pooling to reduce dimensionality and a dropout layer to prevent overfitting. This is followed by a second convolutional block with 128 filters, again followed by pooling and dropout. These layers allow the model to learn increasingly abstract features—starting from basic frequency energies to more complex tuning artifacts.\n",
    "\n",
    "We then used a GlobalAveragePooling1D layer instead of flattening. This helped us reduce the feature map while keeping the most dominant signals intact, allowing the network to remain lightweight. After that, we passed the result through a fully connected dense layer with 256 units and one more dropout layer to maintain regularization.\n",
    "\n",
    "Finally, we used a softmax output layer to produce a probability distribution over all possible instrument classes—effectively letting the model predict which instrument in the mix is most likely out of tune.\n",
    "\n",
    "We compiled the model using categorical_crossentropy (since this is a multi-class classification task), optimized with Adam, and tracked accuracy as our performance metric.\n",
    "\n",
    "The Bigger Picture:\n",
    "This CNN serves as an essential proof-of-concept for our research question. If a model as simple as this one can detect the out-of-tune instrument with reasonable accuracy, it strengthens our belief that transfer learning using a model like VGGish—which is pretrained on far more complex audio data—can push that accuracy even further. Essentially, this architecture gave us a strong starting point, and a valuable benchmark to compare against more advanced approaches like MLPs."
   ]
  },
  {
   "cell_type": "code",
   "execution_count": 18,
   "id": "3695c3ea",
   "metadata": {},
   "outputs": [
    {
     "name": "stdout",
     "output_type": "stream",
     "text": [
      "WARNING:tensorflow:From c:\\Users\\mmthe\\anaconda3\\Lib\\site-packages\\keras\\src\\backend\\common\\global_state.py:82: The name tf.reset_default_graph is deprecated. Please use tf.compat.v1.reset_default_graph instead.\n",
      "\n"
     ]
    },
    {
     "data": {
      "text/html": [
       "<pre style=\"white-space:pre;overflow-x:auto;line-height:normal;font-family:Menlo,'DejaVu Sans Mono',consolas,'Courier New',monospace\"><span style=\"font-weight: bold\">Model: \"functional\"</span>\n",
       "</pre>\n"
      ],
      "text/plain": [
       "\u001b[1mModel: \"functional\"\u001b[0m\n"
      ]
     },
     "metadata": {},
     "output_type": "display_data"
    },
    {
     "data": {
      "text/html": [
       "<pre style=\"white-space:pre;overflow-x:auto;line-height:normal;font-family:Menlo,'DejaVu Sans Mono',consolas,'Courier New',monospace\">┏━━━━━━━━━━━━━━━━━━━━━━━━━━━━━━━━━┳━━━━━━━━━━━━━━━━━━━━━━━━┳━━━━━━━━━━━━━━━┓\n",
       "┃<span style=\"font-weight: bold\"> Layer (type)                    </span>┃<span style=\"font-weight: bold\"> Output Shape           </span>┃<span style=\"font-weight: bold\">       Param # </span>┃\n",
       "┡━━━━━━━━━━━━━━━━━━━━━━━━━━━━━━━━━╇━━━━━━━━━━━━━━━━━━━━━━━━╇━━━━━━━━━━━━━━━┩\n",
       "│ input_layer (<span style=\"color: #0087ff; text-decoration-color: #0087ff\">InputLayer</span>)        │ (<span style=\"color: #00d7ff; text-decoration-color: #00d7ff\">None</span>, <span style=\"color: #00af00; text-decoration-color: #00af00\">64</span>, <span style=\"color: #00af00; text-decoration-color: #00af00\">1</span>)          │             <span style=\"color: #00af00; text-decoration-color: #00af00\">0</span> │\n",
       "├─────────────────────────────────┼────────────────────────┼───────────────┤\n",
       "│ conv1d (<span style=\"color: #0087ff; text-decoration-color: #0087ff\">Conv1D</span>)                 │ (<span style=\"color: #00d7ff; text-decoration-color: #00d7ff\">None</span>, <span style=\"color: #00af00; text-decoration-color: #00af00\">64</span>, <span style=\"color: #00af00; text-decoration-color: #00af00\">64</span>)         │           <span style=\"color: #00af00; text-decoration-color: #00af00\">256</span> │\n",
       "├─────────────────────────────────┼────────────────────────┼───────────────┤\n",
       "│ max_pooling1d (<span style=\"color: #0087ff; text-decoration-color: #0087ff\">MaxPooling1D</span>)    │ (<span style=\"color: #00d7ff; text-decoration-color: #00d7ff\">None</span>, <span style=\"color: #00af00; text-decoration-color: #00af00\">32</span>, <span style=\"color: #00af00; text-decoration-color: #00af00\">64</span>)         │             <span style=\"color: #00af00; text-decoration-color: #00af00\">0</span> │\n",
       "├─────────────────────────────────┼────────────────────────┼───────────────┤\n",
       "│ dropout (<span style=\"color: #0087ff; text-decoration-color: #0087ff\">Dropout</span>)               │ (<span style=\"color: #00d7ff; text-decoration-color: #00d7ff\">None</span>, <span style=\"color: #00af00; text-decoration-color: #00af00\">32</span>, <span style=\"color: #00af00; text-decoration-color: #00af00\">64</span>)         │             <span style=\"color: #00af00; text-decoration-color: #00af00\">0</span> │\n",
       "├─────────────────────────────────┼────────────────────────┼───────────────┤\n",
       "│ conv1d_1 (<span style=\"color: #0087ff; text-decoration-color: #0087ff\">Conv1D</span>)               │ (<span style=\"color: #00d7ff; text-decoration-color: #00d7ff\">None</span>, <span style=\"color: #00af00; text-decoration-color: #00af00\">32</span>, <span style=\"color: #00af00; text-decoration-color: #00af00\">128</span>)        │        <span style=\"color: #00af00; text-decoration-color: #00af00\">24,704</span> │\n",
       "├─────────────────────────────────┼────────────────────────┼───────────────┤\n",
       "│ max_pooling1d_1 (<span style=\"color: #0087ff; text-decoration-color: #0087ff\">MaxPooling1D</span>)  │ (<span style=\"color: #00d7ff; text-decoration-color: #00d7ff\">None</span>, <span style=\"color: #00af00; text-decoration-color: #00af00\">16</span>, <span style=\"color: #00af00; text-decoration-color: #00af00\">128</span>)        │             <span style=\"color: #00af00; text-decoration-color: #00af00\">0</span> │\n",
       "├─────────────────────────────────┼────────────────────────┼───────────────┤\n",
       "│ dropout_1 (<span style=\"color: #0087ff; text-decoration-color: #0087ff\">Dropout</span>)             │ (<span style=\"color: #00d7ff; text-decoration-color: #00d7ff\">None</span>, <span style=\"color: #00af00; text-decoration-color: #00af00\">16</span>, <span style=\"color: #00af00; text-decoration-color: #00af00\">128</span>)        │             <span style=\"color: #00af00; text-decoration-color: #00af00\">0</span> │\n",
       "├─────────────────────────────────┼────────────────────────┼───────────────┤\n",
       "│ global_average_pooling1d        │ (<span style=\"color: #00d7ff; text-decoration-color: #00d7ff\">None</span>, <span style=\"color: #00af00; text-decoration-color: #00af00\">128</span>)            │             <span style=\"color: #00af00; text-decoration-color: #00af00\">0</span> │\n",
       "│ (<span style=\"color: #0087ff; text-decoration-color: #0087ff\">GlobalAveragePooling1D</span>)        │                        │               │\n",
       "├─────────────────────────────────┼────────────────────────┼───────────────┤\n",
       "│ dense (<span style=\"color: #0087ff; text-decoration-color: #0087ff\">Dense</span>)                   │ (<span style=\"color: #00d7ff; text-decoration-color: #00d7ff\">None</span>, <span style=\"color: #00af00; text-decoration-color: #00af00\">256</span>)            │        <span style=\"color: #00af00; text-decoration-color: #00af00\">33,024</span> │\n",
       "├─────────────────────────────────┼────────────────────────┼───────────────┤\n",
       "│ dropout_2 (<span style=\"color: #0087ff; text-decoration-color: #0087ff\">Dropout</span>)             │ (<span style=\"color: #00d7ff; text-decoration-color: #00d7ff\">None</span>, <span style=\"color: #00af00; text-decoration-color: #00af00\">256</span>)            │             <span style=\"color: #00af00; text-decoration-color: #00af00\">0</span> │\n",
       "├─────────────────────────────────┼────────────────────────┼───────────────┤\n",
       "│ dense_1 (<span style=\"color: #0087ff; text-decoration-color: #0087ff\">Dense</span>)                 │ (<span style=\"color: #00d7ff; text-decoration-color: #00d7ff\">None</span>, <span style=\"color: #00af00; text-decoration-color: #00af00\">12</span>)             │         <span style=\"color: #00af00; text-decoration-color: #00af00\">3,084</span> │\n",
       "└─────────────────────────────────┴────────────────────────┴───────────────┘\n",
       "</pre>\n"
      ],
      "text/plain": [
       "┏━━━━━━━━━━━━━━━━━━━━━━━━━━━━━━━━━┳━━━━━━━━━━━━━━━━━━━━━━━━┳━━━━━━━━━━━━━━━┓\n",
       "┃\u001b[1m \u001b[0m\u001b[1mLayer (type)                   \u001b[0m\u001b[1m \u001b[0m┃\u001b[1m \u001b[0m\u001b[1mOutput Shape          \u001b[0m\u001b[1m \u001b[0m┃\u001b[1m \u001b[0m\u001b[1m      Param #\u001b[0m\u001b[1m \u001b[0m┃\n",
       "┡━━━━━━━━━━━━━━━━━━━━━━━━━━━━━━━━━╇━━━━━━━━━━━━━━━━━━━━━━━━╇━━━━━━━━━━━━━━━┩\n",
       "│ input_layer (\u001b[38;5;33mInputLayer\u001b[0m)        │ (\u001b[38;5;45mNone\u001b[0m, \u001b[38;5;34m64\u001b[0m, \u001b[38;5;34m1\u001b[0m)          │             \u001b[38;5;34m0\u001b[0m │\n",
       "├─────────────────────────────────┼────────────────────────┼───────────────┤\n",
       "│ conv1d (\u001b[38;5;33mConv1D\u001b[0m)                 │ (\u001b[38;5;45mNone\u001b[0m, \u001b[38;5;34m64\u001b[0m, \u001b[38;5;34m64\u001b[0m)         │           \u001b[38;5;34m256\u001b[0m │\n",
       "├─────────────────────────────────┼────────────────────────┼───────────────┤\n",
       "│ max_pooling1d (\u001b[38;5;33mMaxPooling1D\u001b[0m)    │ (\u001b[38;5;45mNone\u001b[0m, \u001b[38;5;34m32\u001b[0m, \u001b[38;5;34m64\u001b[0m)         │             \u001b[38;5;34m0\u001b[0m │\n",
       "├─────────────────────────────────┼────────────────────────┼───────────────┤\n",
       "│ dropout (\u001b[38;5;33mDropout\u001b[0m)               │ (\u001b[38;5;45mNone\u001b[0m, \u001b[38;5;34m32\u001b[0m, \u001b[38;5;34m64\u001b[0m)         │             \u001b[38;5;34m0\u001b[0m │\n",
       "├─────────────────────────────────┼────────────────────────┼───────────────┤\n",
       "│ conv1d_1 (\u001b[38;5;33mConv1D\u001b[0m)               │ (\u001b[38;5;45mNone\u001b[0m, \u001b[38;5;34m32\u001b[0m, \u001b[38;5;34m128\u001b[0m)        │        \u001b[38;5;34m24,704\u001b[0m │\n",
       "├─────────────────────────────────┼────────────────────────┼───────────────┤\n",
       "│ max_pooling1d_1 (\u001b[38;5;33mMaxPooling1D\u001b[0m)  │ (\u001b[38;5;45mNone\u001b[0m, \u001b[38;5;34m16\u001b[0m, \u001b[38;5;34m128\u001b[0m)        │             \u001b[38;5;34m0\u001b[0m │\n",
       "├─────────────────────────────────┼────────────────────────┼───────────────┤\n",
       "│ dropout_1 (\u001b[38;5;33mDropout\u001b[0m)             │ (\u001b[38;5;45mNone\u001b[0m, \u001b[38;5;34m16\u001b[0m, \u001b[38;5;34m128\u001b[0m)        │             \u001b[38;5;34m0\u001b[0m │\n",
       "├─────────────────────────────────┼────────────────────────┼───────────────┤\n",
       "│ global_average_pooling1d        │ (\u001b[38;5;45mNone\u001b[0m, \u001b[38;5;34m128\u001b[0m)            │             \u001b[38;5;34m0\u001b[0m │\n",
       "│ (\u001b[38;5;33mGlobalAveragePooling1D\u001b[0m)        │                        │               │\n",
       "├─────────────────────────────────┼────────────────────────┼───────────────┤\n",
       "│ dense (\u001b[38;5;33mDense\u001b[0m)                   │ (\u001b[38;5;45mNone\u001b[0m, \u001b[38;5;34m256\u001b[0m)            │        \u001b[38;5;34m33,024\u001b[0m │\n",
       "├─────────────────────────────────┼────────────────────────┼───────────────┤\n",
       "│ dropout_2 (\u001b[38;5;33mDropout\u001b[0m)             │ (\u001b[38;5;45mNone\u001b[0m, \u001b[38;5;34m256\u001b[0m)            │             \u001b[38;5;34m0\u001b[0m │\n",
       "├─────────────────────────────────┼────────────────────────┼───────────────┤\n",
       "│ dense_1 (\u001b[38;5;33mDense\u001b[0m)                 │ (\u001b[38;5;45mNone\u001b[0m, \u001b[38;5;34m12\u001b[0m)             │         \u001b[38;5;34m3,084\u001b[0m │\n",
       "└─────────────────────────────────┴────────────────────────┴───────────────┘\n"
      ]
     },
     "metadata": {},
     "output_type": "display_data"
    },
    {
     "data": {
      "text/html": [
       "<pre style=\"white-space:pre;overflow-x:auto;line-height:normal;font-family:Menlo,'DejaVu Sans Mono',consolas,'Courier New',monospace\"><span style=\"font-weight: bold\"> Total params: </span><span style=\"color: #00af00; text-decoration-color: #00af00\">61,068</span> (238.55 KB)\n",
       "</pre>\n"
      ],
      "text/plain": [
       "\u001b[1m Total params: \u001b[0m\u001b[38;5;34m61,068\u001b[0m (238.55 KB)\n"
      ]
     },
     "metadata": {},
     "output_type": "display_data"
    },
    {
     "data": {
      "text/html": [
       "<pre style=\"white-space:pre;overflow-x:auto;line-height:normal;font-family:Menlo,'DejaVu Sans Mono',consolas,'Courier New',monospace\"><span style=\"font-weight: bold\"> Trainable params: </span><span style=\"color: #00af00; text-decoration-color: #00af00\">61,068</span> (238.55 KB)\n",
       "</pre>\n"
      ],
      "text/plain": [
       "\u001b[1m Trainable params: \u001b[0m\u001b[38;5;34m61,068\u001b[0m (238.55 KB)\n"
      ]
     },
     "metadata": {},
     "output_type": "display_data"
    },
    {
     "data": {
      "text/html": [
       "<pre style=\"white-space:pre;overflow-x:auto;line-height:normal;font-family:Menlo,'DejaVu Sans Mono',consolas,'Courier New',monospace\"><span style=\"font-weight: bold\"> Non-trainable params: </span><span style=\"color: #00af00; text-decoration-color: #00af00\">0</span> (0.00 B)\n",
       "</pre>\n"
      ],
      "text/plain": [
       "\u001b[1m Non-trainable params: \u001b[0m\u001b[38;5;34m0\u001b[0m (0.00 B)\n"
      ]
     },
     "metadata": {},
     "output_type": "display_data"
    }
   ],
   "source": [
    "from tensorflow.keras import backend as K\n",
    "K.clear_session()\n",
    "\n",
    "# ===== 1D CNN MODEL FOR AUDIO FEATURES =====\n",
    "input_layer = Input(shape=(64, 1))\n",
    "\n",
    "x = Conv1D(64, kernel_size=3, activation='relu', padding='same')(input_layer)\n",
    "x = MaxPooling1D(pool_size=2)(x)\n",
    "x = Dropout(0.3)(x)\n",
    "\n",
    "x = Conv1D(128, kernel_size=3, activation='relu', padding='same')(x)\n",
    "x = MaxPooling1D(pool_size=2)(x)\n",
    "x = Dropout(0.3)(x)\n",
    "\n",
    "x = GlobalAveragePooling1D()(x)\n",
    "x = Dense(256, activation='relu')(x)\n",
    "x = Dropout(0.3)(x)\n",
    "\n",
    "output = Dense(y.shape[1], activation='softmax')(x)\n",
    "\n",
    "model = Model(inputs=input_layer, outputs=output)\n",
    "model.compile(optimizer=Adam(learning_rate=1e-4), loss='categorical_crossentropy', metrics=['accuracy'])\n",
    "\n",
    "model.summary()"
   ]
  },
  {
   "cell_type": "markdown",
   "id": "bc7bc4af",
   "metadata": {},
   "source": [
    "Once we finalized our CNN architecture, we jumped into training. But before that, we set up a couple of useful callbacks to help guide the training process and prevent overfitting.\n",
    "\n",
    "We added EarlyStopping, which monitors validation loss and stops training if it doesn’t improve for 5 consecutive epochs. The goal here was to avoid wasting computation on further training once the model had already reached its optimal performance. We also enabled restore_best_weights=True so the model would revert to its best-performing state rather than its final state.\n",
    "\n",
    "Alongside that, we included ReduceLROnPlateau, which gradually reduces the learning rate when the model plateaus. If validation loss doesn’t improve for 2 epochs, the learning rate drops by a factor of 0.2. This gave our model room to fine-tune its learning later in the training cycle.\n",
    "\n",
    "We then kicked off the training using the model.fit() function, training for up to 30 epochs with a batch size of 32. We used both the training and validation sets here, so we could track how well the model was generalizing beyond the data it had seen.\n",
    "\n",
    "After training, we evaluated the model using the test set. We predicted class probabilities with model.predict() and then converted those into class predictions using np.argmax. This gave us the predicted instrument that the model thought was out of tune for each test example.\n",
    "\n",
    "We printed a classification report to see precision, recall, and F1-score across each class, and a confusion matrix to understand where the model was getting confused—especially useful since some instruments might be more difficult to distinguish from others.\n",
    "\n",
    "To make sure we didn’t lose the trained weights, we saved the model to disk using model.save(), naming it \"fused_out_of_tune_model.h5\" for future reference or fine-tuning.\n",
    "\n",
    "All of this wrapped up the first major phase of our project—getting a fully functional 1D CNN pipeline from raw audio to model predictions. Next up, we transitioned to experimenting with deeper architectures like MLPs and transfer learning, using this CNN as a strong benchmark for comparison."
   ]
  },
  {
   "cell_type": "code",
   "execution_count": 19,
   "id": "0ae4f2e4",
   "metadata": {},
   "outputs": [
    {
     "name": "stdout",
     "output_type": "stream",
     "text": [
      "Epoch 1/30\n",
      "\u001b[1m6295/6295\u001b[0m \u001b[32m━━━━━━━━━━━━━━━━━━━━\u001b[0m\u001b[37m\u001b[0m \u001b[1m26s\u001b[0m 4ms/step - accuracy: 0.1148 - loss: 2.6212 - val_accuracy: 0.1543 - val_loss: 2.4091 - learning_rate: 1.0000e-04\n",
      "Epoch 2/30\n",
      "\u001b[1m6295/6295\u001b[0m \u001b[32m━━━━━━━━━━━━━━━━━━━━\u001b[0m\u001b[37m\u001b[0m \u001b[1m24s\u001b[0m 4ms/step - accuracy: 0.1544 - loss: 2.3906 - val_accuracy: 0.1907 - val_loss: 2.3453 - learning_rate: 1.0000e-04\n",
      "Epoch 3/30\n",
      "\u001b[1m6295/6295\u001b[0m \u001b[32m━━━━━━━━━━━━━━━━━━━━\u001b[0m\u001b[37m\u001b[0m \u001b[1m23s\u001b[0m 4ms/step - accuracy: 0.2038 - loss: 2.2985 - val_accuracy: 0.2510 - val_loss: 2.2063 - learning_rate: 1.0000e-04\n",
      "Epoch 4/30\n",
      "\u001b[1m6295/6295\u001b[0m \u001b[32m━━━━━━━━━━━━━━━━━━━━\u001b[0m\u001b[37m\u001b[0m \u001b[1m24s\u001b[0m 4ms/step - accuracy: 0.2357 - loss: 2.2191 - val_accuracy: 0.2701 - val_loss: 2.1382 - learning_rate: 1.0000e-04\n",
      "Epoch 5/30\n",
      "\u001b[1m6295/6295\u001b[0m \u001b[32m━━━━━━━━━━━━━━━━━━━━\u001b[0m\u001b[37m\u001b[0m \u001b[1m23s\u001b[0m 4ms/step - accuracy: 0.2495 - loss: 2.1771 - val_accuracy: 0.2811 - val_loss: 2.1083 - learning_rate: 1.0000e-04\n",
      "Epoch 6/30\n",
      "\u001b[1m6295/6295\u001b[0m \u001b[32m━━━━━━━━━━━━━━━━━━━━\u001b[0m\u001b[37m\u001b[0m \u001b[1m24s\u001b[0m 4ms/step - accuracy: 0.2609 - loss: 2.1419 - val_accuracy: 0.2892 - val_loss: 2.0846 - learning_rate: 1.0000e-04\n",
      "Epoch 7/30\n",
      "\u001b[1m6295/6295\u001b[0m \u001b[32m━━━━━━━━━━━━━━━━━━━━\u001b[0m\u001b[37m\u001b[0m \u001b[1m24s\u001b[0m 4ms/step - accuracy: 0.2687 - loss: 2.1183 - val_accuracy: 0.3005 - val_loss: 2.0449 - learning_rate: 1.0000e-04\n",
      "Epoch 8/30\n",
      "\u001b[1m6295/6295\u001b[0m \u001b[32m━━━━━━━━━━━━━━━━━━━━\u001b[0m\u001b[37m\u001b[0m \u001b[1m24s\u001b[0m 4ms/step - accuracy: 0.2765 - loss: 2.0954 - val_accuracy: 0.3057 - val_loss: 2.0353 - learning_rate: 1.0000e-04\n",
      "Epoch 9/30\n",
      "\u001b[1m6295/6295\u001b[0m \u001b[32m━━━━━━━━━━━━━━━━━━━━\u001b[0m\u001b[37m\u001b[0m \u001b[1m24s\u001b[0m 4ms/step - accuracy: 0.2821 - loss: 2.0766 - val_accuracy: 0.3093 - val_loss: 2.0114 - learning_rate: 1.0000e-04\n",
      "Epoch 10/30\n",
      "\u001b[1m6295/6295\u001b[0m \u001b[32m━━━━━━━━━━━━━━━━━━━━\u001b[0m\u001b[37m\u001b[0m \u001b[1m24s\u001b[0m 4ms/step - accuracy: 0.2855 - loss: 2.0632 - val_accuracy: 0.3082 - val_loss: 2.0127 - learning_rate: 1.0000e-04\n",
      "Epoch 11/30\n",
      "\u001b[1m6295/6295\u001b[0m \u001b[32m━━━━━━━━━━━━━━━━━━━━\u001b[0m\u001b[37m\u001b[0m \u001b[1m24s\u001b[0m 4ms/step - accuracy: 0.2894 - loss: 2.0455 - val_accuracy: 0.3187 - val_loss: 1.9745 - learning_rate: 1.0000e-04\n",
      "Epoch 12/30\n",
      "\u001b[1m6295/6295\u001b[0m \u001b[32m━━━━━━━━━━━━━━━━━━━━\u001b[0m\u001b[37m\u001b[0m \u001b[1m25s\u001b[0m 4ms/step - accuracy: 0.2942 - loss: 2.0343 - val_accuracy: 0.3218 - val_loss: 1.9596 - learning_rate: 1.0000e-04\n",
      "Epoch 13/30\n",
      "\u001b[1m6295/6295\u001b[0m \u001b[32m━━━━━━━━━━━━━━━━━━━━\u001b[0m\u001b[37m\u001b[0m \u001b[1m24s\u001b[0m 4ms/step - accuracy: 0.2974 - loss: 2.0207 - val_accuracy: 0.3259 - val_loss: 1.9420 - learning_rate: 1.0000e-04\n",
      "Epoch 14/30\n",
      "\u001b[1m6295/6295\u001b[0m \u001b[32m━━━━━━━━━━━━━━━━━━━━\u001b[0m\u001b[37m\u001b[0m \u001b[1m25s\u001b[0m 4ms/step - accuracy: 0.3013 - loss: 2.0134 - val_accuracy: 0.3254 - val_loss: 1.9288 - learning_rate: 1.0000e-04\n",
      "Epoch 15/30\n",
      "\u001b[1m6295/6295\u001b[0m \u001b[32m━━━━━━━━━━━━━━━━━━━━\u001b[0m\u001b[37m\u001b[0m \u001b[1m26s\u001b[0m 4ms/step - accuracy: 0.3040 - loss: 1.9998 - val_accuracy: 0.3296 - val_loss: 1.9297 - learning_rate: 1.0000e-04\n",
      "Epoch 16/30\n",
      "\u001b[1m6295/6295\u001b[0m \u001b[32m━━━━━━━━━━━━━━━━━━━━\u001b[0m\u001b[37m\u001b[0m \u001b[1m27s\u001b[0m 4ms/step - accuracy: 0.3070 - loss: 1.9891 - val_accuracy: 0.3350 - val_loss: 1.9045 - learning_rate: 1.0000e-04\n",
      "Epoch 17/30\n",
      "\u001b[1m6295/6295\u001b[0m \u001b[32m━━━━━━━━━━━━━━━━━━━━\u001b[0m\u001b[37m\u001b[0m \u001b[1m25s\u001b[0m 4ms/step - accuracy: 0.3092 - loss: 1.9818 - val_accuracy: 0.3337 - val_loss: 1.9185 - learning_rate: 1.0000e-04\n",
      "Epoch 18/30\n",
      "\u001b[1m6295/6295\u001b[0m \u001b[32m━━━━━━━━━━━━━━━━━━━━\u001b[0m\u001b[37m\u001b[0m \u001b[1m26s\u001b[0m 4ms/step - accuracy: 0.3110 - loss: 1.9751 - val_accuracy: 0.3386 - val_loss: 1.8983 - learning_rate: 1.0000e-04\n",
      "Epoch 19/30\n",
      "\u001b[1m6295/6295\u001b[0m \u001b[32m━━━━━━━━━━━━━━━━━━━━\u001b[0m\u001b[37m\u001b[0m \u001b[1m25s\u001b[0m 4ms/step - accuracy: 0.3123 - loss: 1.9663 - val_accuracy: 0.3385 - val_loss: 1.8936 - learning_rate: 1.0000e-04\n",
      "Epoch 20/30\n",
      "\u001b[1m6295/6295\u001b[0m \u001b[32m━━━━━━━━━━━━━━━━━━━━\u001b[0m\u001b[37m\u001b[0m \u001b[1m24s\u001b[0m 4ms/step - accuracy: 0.3158 - loss: 1.9578 - val_accuracy: 0.3358 - val_loss: 1.8960 - learning_rate: 1.0000e-04\n",
      "Epoch 21/30\n",
      "\u001b[1m6295/6295\u001b[0m \u001b[32m━━━━━━━━━━━━━━━━━━━━\u001b[0m\u001b[37m\u001b[0m \u001b[1m26s\u001b[0m 4ms/step - accuracy: 0.3143 - loss: 1.9550 - val_accuracy: 0.3412 - val_loss: 1.8658 - learning_rate: 1.0000e-04\n",
      "Epoch 22/30\n",
      "\u001b[1m6295/6295\u001b[0m \u001b[32m━━━━━━━━━━━━━━━━━━━━\u001b[0m\u001b[37m\u001b[0m \u001b[1m25s\u001b[0m 4ms/step - accuracy: 0.3194 - loss: 1.9435 - val_accuracy: 0.3407 - val_loss: 1.8610 - learning_rate: 1.0000e-04\n",
      "Epoch 23/30\n",
      "\u001b[1m6295/6295\u001b[0m \u001b[32m━━━━━━━━━━━━━━━━━━━━\u001b[0m\u001b[37m\u001b[0m \u001b[1m24s\u001b[0m 4ms/step - accuracy: 0.3188 - loss: 1.9415 - val_accuracy: 0.3442 - val_loss: 1.8458 - learning_rate: 1.0000e-04\n",
      "Epoch 24/30\n",
      "\u001b[1m6295/6295\u001b[0m \u001b[32m━━━━━━━━━━━━━━━━━━━━\u001b[0m\u001b[37m\u001b[0m \u001b[1m25s\u001b[0m 4ms/step - accuracy: 0.3191 - loss: 1.9343 - val_accuracy: 0.3457 - val_loss: 1.8406 - learning_rate: 1.0000e-04\n",
      "Epoch 25/30\n",
      "\u001b[1m6295/6295\u001b[0m \u001b[32m━━━━━━━━━━━━━━━━━━━━\u001b[0m\u001b[37m\u001b[0m \u001b[1m24s\u001b[0m 4ms/step - accuracy: 0.3218 - loss: 1.9311 - val_accuracy: 0.3474 - val_loss: 1.8400 - learning_rate: 1.0000e-04\n",
      "Epoch 26/30\n",
      "\u001b[1m6295/6295\u001b[0m \u001b[32m━━━━━━━━━━━━━━━━━━━━\u001b[0m\u001b[37m\u001b[0m \u001b[1m25s\u001b[0m 4ms/step - accuracy: 0.3244 - loss: 1.9251 - val_accuracy: 0.3487 - val_loss: 1.8376 - learning_rate: 1.0000e-04\n",
      "Epoch 27/30\n",
      "\u001b[1m6295/6295\u001b[0m \u001b[32m━━━━━━━━━━━━━━━━━━━━\u001b[0m\u001b[37m\u001b[0m \u001b[1m24s\u001b[0m 4ms/step - accuracy: 0.3267 - loss: 1.9191 - val_accuracy: 0.3518 - val_loss: 1.8230 - learning_rate: 1.0000e-04\n",
      "Epoch 28/30\n",
      "\u001b[1m6295/6295\u001b[0m \u001b[32m━━━━━━━━━━━━━━━━━━━━\u001b[0m\u001b[37m\u001b[0m \u001b[1m24s\u001b[0m 4ms/step - accuracy: 0.3264 - loss: 1.9115 - val_accuracy: 0.3490 - val_loss: 1.8264 - learning_rate: 1.0000e-04\n",
      "Epoch 29/30\n",
      "\u001b[1m6295/6295\u001b[0m \u001b[32m━━━━━━━━━━━━━━━━━━━━\u001b[0m\u001b[37m\u001b[0m \u001b[1m25s\u001b[0m 4ms/step - accuracy: 0.3263 - loss: 1.9141 - val_accuracy: 0.3531 - val_loss: 1.8165 - learning_rate: 1.0000e-04\n",
      "Epoch 30/30\n",
      "\u001b[1m6295/6295\u001b[0m \u001b[32m━━━━━━━━━━━━━━━━━━━━\u001b[0m\u001b[37m\u001b[0m \u001b[1m25s\u001b[0m 4ms/step - accuracy: 0.3297 - loss: 1.9034 - val_accuracy: 0.3520 - val_loss: 1.8150 - learning_rate: 1.0000e-04\n",
      "\u001b[1m1574/1574\u001b[0m \u001b[32m━━━━━━━━━━━━━━━━━━━━\u001b[0m\u001b[37m\u001b[0m \u001b[1m2s\u001b[0m 1ms/step\n"
     ]
    },
    {
     "name": "stderr",
     "output_type": "stream",
     "text": [
      "WARNING:absl:You are saving your model as an HDF5 file via `model.save()` or `keras.saving.save_model(model)`. This file format is considered legacy. We recommend using instead the native Keras format, e.g. `model.save('my_model.keras')` or `keras.saving.save_model(model, 'my_model.keras')`. \n"
     ]
    },
    {
     "name": "stdout",
     "output_type": "stream",
     "text": [
      "\n",
      "Classification Report:\n",
      "               precision    recall  f1-score   support\n",
      "\n",
      "           0       0.38      0.36      0.37      5355\n",
      "           1       0.38      0.15      0.22      3715\n",
      "           2       0.47      0.01      0.02      2701\n",
      "           3       0.29      0.24      0.26      2830\n",
      "           4       0.38      0.63      0.47      5357\n",
      "           5       0.35      0.69      0.46      5364\n",
      "           6       0.41      0.19      0.26      5402\n",
      "           7       0.35      0.16      0.22      3688\n",
      "           8       0.33      0.70      0.45      5332\n",
      "           9       0.33      0.16      0.22      2232\n",
      "          10       0.33      0.27      0.30      5345\n",
      "          11       0.36      0.10      0.16      3033\n",
      "\n",
      "    accuracy                           0.35     50354\n",
      "   macro avg       0.36      0.30      0.28     50354\n",
      "weighted avg       0.36      0.35      0.31     50354\n",
      "\n",
      "\n",
      "Confusion Matrix:\n",
      " [[1921  121    2  162  681  913  106  132  890   87  285   55]\n",
      " [ 375  571    4  156  544  658  214  221  594   85  227   66]\n",
      " [ 232   92   21  131  381  434  196  103  468   52  551   40]\n",
      " [ 264   48    0  666  373  469  103   71  557   84  136   59]\n",
      " [ 119   37    0   25 3398  577   95   17  921   10  153    5]\n",
      " [ 132   15    6   97  466 3688   54   12  723   16  153    2]\n",
      " [ 502  204    6  228  747  836 1028  175  950   82  532  112]\n",
      " [ 423  154    1  221  479  669   83  587  656   82  259   74]\n",
      " [ 164   20    2   47  548  601   44   34 3745   17   90   20]\n",
      " [ 200   58    0  136  316  526   67   21  356  357  167   28]\n",
      " [ 519  140    3  252  644  778  333  171  847  124 1430  104]\n",
      " [ 270   57    0  209  383  448  166  136  670   78  304  312]]\n"
     ]
    }
   ],
   "source": [
    "# ===== CALLBACKS =====\n",
    "callbacks = [\n",
    "    EarlyStopping(monitor='val_loss', patience=5, restore_best_weights=True),\n",
    "    ReduceLROnPlateau(monitor='val_loss', patience=2, factor=0.2, verbose=1)\n",
    "]\n",
    "\n",
    "# ===== TRAIN =====\n",
    "history = model.fit(\n",
    "    X_train, y_train,\n",
    "    validation_data=(X_test, y_test),\n",
    "    epochs=30,\n",
    "    batch_size=32,\n",
    "    callbacks=callbacks\n",
    ")\n",
    "\n",
    "# ===== EVALUATION =====\n",
    "y_pred_probs = model.predict(X_test)\n",
    "y_pred = np.argmax(y_pred_probs, axis=1)\n",
    "y_true = np.argmax(y_test, axis=1)\n",
    "\n",
    "print(\"\\nClassification Report:\\n\", classification_report(y_true, y_pred))\n",
    "print(\"\\nConfusion Matrix:\\n\", confusion_matrix(y_true, y_pred))\n",
    "\n",
    "# ===== SAVE MODEL =====\n",
    "model.save(\"fused_out_of_tune_model.h5\")"
   ]
  },
  {
   "cell_type": "markdown",
   "id": "cdda35d7",
   "metadata": {},
   "source": [
    "Model Output Interpretation: CNN Training Logs, Evaluation & Link to our Research Vision\n",
    "After training our 1D CNN model for 30 epochs, we observed the model’s accuracy gradually increase from around 9% to nearly 26%, with the validation accuracy peaking at around 27.3%. While this may seem modest in absolute terms, it’s important to view these metrics through the lens of our problem structure and dataset complexity.\n",
    "\n",
    "The task we’re tackling—identifying one out-of-tune instrument from a polyphonic mix of up to 1,006 instruments—is not only highly specialized but also multi-class and highly imbalanced. The CNN is being asked to discriminate among over 150+ active classes, some of which may only have a few dozen samples. That’s a tall order for a single model trained from scratch.\n",
    "\n",
    "The classification report further supports this. Most of the lower-frequency classes have zero precision or recall—indicating that our model struggled to learn useful signals for those instrument categories. However, for the top occurring instrument classes (e.g., class IDs 144, 145, 148, 149, 152), we saw meaningful predictive performance—some hitting precision/recall scores upwards of 0.5 or more. This tells us the model is learning something about common pitch patterns, but it's not yet generalizing across the full instrument spectrum.\n",
    "\n",
    "The confusion matrix visualizes this imbalance vividly: most errors are clustered across the same dominant classes. Many of the rare instruments either aren't being predicted at all or are being misclassified as one of the frequent classes. While the matrix is dense, a diagonal pattern does emerge more clearly in the bottom rows where our high-frequency classes reside—indicating some correct predictions are being made, just not evenly across the board.\n",
    "\n",
    "Callback Impact: Smart Training Management\n",
    "Using EarlyStopping and ReduceLROnPlateau worked exactly as planned. The learning rate remained stable, ensuring smooth convergence. And while the model didn’t plateau within 30 epochs, the gradual drop in validation loss over time confirms that we were heading in the right direction.\n",
    "\n",
    "Had we trained for 50+ epochs or started with a more focused class set, we could expect even better convergence. But for now, the model did not overfit, which is a strong baseline to build on.\n",
    "\n",
    "Connecting to the Bigger Picture: How This Fits Our Research Mission\n",
    "This stage directly ties into our larger research goal: building a robust out-of-tune instrument detection pipeline for polyphonic music settings.\n",
    "\n",
    "Recall that our ultimate model involves transfer learning with VGGish, which is pre-trained on audio tasks and capable of extracting richer, semantic embeddings. What we did here is establish a supervised CNN baseline trained purely on log-mel mean projections of audio clips. While this model alone doesn’t solve the full problem, it gives us:\n",
    "\n",
    "A benchmark to evaluate how much value VGGish embeddings will add.\n",
    "\n",
    "A sanity check for our data preprocessing, class encoding, and audio transformation pipeline.\n",
    "\n",
    "Diagnostic feedback on which instruments are harder to detect—data we can now use to filter, rebalance, or sample augment in future iterations.\n",
    "\n",
    "By understanding where our baseline struggles—especially in long-tail classes—we’re better equipped to design fairer, more generalizable models. This directly supports the educational and real-world ensemble use cases we outlined earlier: where detection should work across a range of instruments, not just the most common ones."
   ]
  },
  {
   "cell_type": "code",
   "execution_count": 20,
   "id": "aaaf66d5",
   "metadata": {},
   "outputs": [
    {
     "data": {
      "image/png": "[encoded data removed]",
      "text/plain": [
       "<Figure size 640x480 with 1 Axes>"
      ]
     },
     "metadata": {},
     "output_type": "display_data"
    }
   ],
   "source": [
    "# ===== OPTIONAL: PLOT TRAINING =====\n",
    "plt.plot(history.history['accuracy'], label='Train Acc')\n",
    "plt.plot(history.history['val_accuracy'], label='Val Acc')\n",
    "plt.xlabel('Epoch')\n",
    "plt.ylabel('Accuracy')\n",
    "plt.legend()\n",
    "plt.title('Training Performance')\n",
    "plt.grid()\n",
    "plt.show()"
   ]
  },
  {
   "cell_type": "markdown",
   "id": "a6ebbf92",
   "metadata": {},
   "source": [
    "The line plot above visualizes the training vs. validation accuracy over 30 epochs for our 1D CNN model. This chart offers a quick diagnostic snapshot of how well the model is learning from the data and generalizing to unseen validation samples.\n",
    "\n",
    "Observations from the Plot: \n",
    "Training Accuracy (blue line): Starts at 0% and gradually improves across epochs, showing that the model is slowly learning meaningful patterns from the input features. Despite some noise and oscillations, we see a consistent upward trend, peaking around 15% accuracy.\n",
    "\n",
    "Validation Accuracy (orange line): Shows a sharp jump around epoch 13 and then plateaus. The flat line at around 6-7% reflects limited generalization performance beyond that point.\n",
    "\n",
    "This plateau suggests that while the model begins to learn during training, it's not generalizing well to the validation set—a sign that the representation learned by the network is still too limited or under-optimized for the complexity of the task.\n",
    "\n",
    "Why This Behavior Makes Sense: \n",
    "This pattern is consistent with what we saw in the classification report and our earlier interpretation of the logs. We're dealing with:\n",
    "\n",
    "A very large multi-class classification space with over 150+ classes.\n",
    "\n",
    "Class imbalance, where some instruments are heavily overrepresented while others appear infrequently.\n",
    "\n",
    "Input features derived from mean-compressed mel-spectrograms, which may strip away nuanced temporal structure.\n",
    "\n",
    "So, this performance curve reflects exactly what we expected for an initial, supervised baseline CNN model without any pretrained backbone or augmentation strategies.\n",
    "\n",
    "How This Links to Our Broader Research Pipeline: \n",
    "This chart is not a failure—it’s a foundation. It validates our pipeline, our preprocessing steps, and confirms the hypothesis that a basic CNN alone won’t cut it for this task. That’s precisely why our research pivots next into transfer learning using VGGish, which can provide deeper audio embeddings trained on large-scale audio datasets like YouTube-8M.\n",
    "\n",
    "Our broader project vision aims to make real-time out-of-tune instrument detection feasible in educational, rehearsal, and production settings. For that, we need a model that can generalize well across diverse instrument types. And this early performance benchmark gives us the reference we need to quantify how much value transfer learning adds."
   ]
  },
  {
   "cell_type": "markdown",
   "id": "a9daec5a",
   "metadata": {},
   "source": [
    "# MLP Model"
   ]
  },
  {
   "cell_type": "markdown",
   "id": "5856561a",
   "metadata": {},
   "source": [
    "Once we had the CNN-based baseline in place, we moved to another classical architecture in deep learning: the Multilayer Perceptron (MLP). The idea was simple—what if we strip away the convolutional structure and let dense layers directly interpret the audio feature vectors?\n",
    "\n",
    "Our features were already well-engineered: mean-compressed mel-spectrograms of shape (64,) per audio sample. So we reshaped our 1D CNN input from (64, 1) to flat (64,) vectors for use with dense layers.\n",
    "\n",
    "Why We Tried MLP in This Research: From a research perspective, trying a pure MLP served three purposes in our pipeline:\n",
    "\n",
    "- Baseline Benchmarking: We wanted to compare how a non-convolutional model performs on our features versus a 1D CNN. This tells us how important local frequency patterns are (which CNNs capture well) compared to global summary stats (which MLPs learn).\n",
    "\n",
    "- Model Simplicity: MLPs are faster to train and easy to interpret. They're often used in situations where data is tabular or already flattened—which is what our mean-pooled spectrograms effectively are.\n",
    "\n",
    "- Embedding Transfer Compatibility: Since our future transfer learning with VGGish will yield high-dimensional embeddings, we wanted to establish an MLP pipeline that can easily scale to 128–1024 dimensional VGGish features later in the research.\n",
    "\n",
    "The Model Architecture Explained: Here's how the MLP model was structured\n",
    "- Input Layer: Receives the 64-dim mel-spectrogram vector per audio snippet.\n",
    "\n",
    "- Dense Blocks: The architecture is progressively compressive: 1024 → 512 → 256 → 128. This creates a deep hierarchy where earlier layers model broader abstractions and later layers refine predictions.\n",
    "\n",
    "- Batch Normalization: Used after each dense layer to stabilize training and reduce internal covariate shift.\n",
    "\n",
    "- Dropout: Regularization is crucial here to prevent overfitting, especially given the limited number of samples in some instrument classes.\n",
    "\n",
    "- Output Layer: A softmax activation over the total number of out-of-tune labels.\n",
    "\n",
    "We used the Adam optimizer with a learning rate of 1e-4, which is conservative and often ideal for deep MLPs."
   ]
  },
  {
   "cell_type": "code",
   "execution_count": 21,
   "id": "c6c9bbf8",
   "metadata": {},
   "outputs": [],
   "source": [
    "# ===== MLP MODEL FOR AUDIO FEATURES =====\n",
    "\n",
    "from tensorflow.keras.models import Sequential\n",
    "from tensorflow.keras.layers import BatchNormalization\n"
   ]
  },
  {
   "cell_type": "code",
   "execution_count": 22,
   "id": "12101ee8",
   "metadata": {},
   "outputs": [],
   "source": [
    "# Reshape input for MLP: (N, 64, 1) → (N, 64)\n",
    "X_train_mlp = X_train.reshape(X_train.shape[0], -1)\n",
    "X_test_mlp = X_test.reshape(X_test.shape[0], -1)\n",
    "\n",
    "# Clear previous session\n",
    "K.clear_session()\n",
    "\n",
    "mlp_model = Sequential()"
   ]
  },
  {
   "cell_type": "code",
   "execution_count": 23,
   "id": "29f565e9",
   "metadata": {},
   "outputs": [
    {
     "data": {
      "text/html": [
       "<pre style=\"white-space:pre;overflow-x:auto;line-height:normal;font-family:Menlo,'DejaVu Sans Mono',consolas,'Courier New',monospace\"><span style=\"font-weight: bold\">Model: \"sequential\"</span>\n",
       "</pre>\n"
      ],
      "text/plain": [
       "\u001b[1mModel: \"sequential\"\u001b[0m\n"
      ]
     },
     "metadata": {},
     "output_type": "display_data"
    },
    {
     "data": {
      "text/html": [
       "<pre style=\"white-space:pre;overflow-x:auto;line-height:normal;font-family:Menlo,'DejaVu Sans Mono',consolas,'Courier New',monospace\">┏━━━━━━━━━━━━━━━━━━━━━━━━━━━━━━━━━┳━━━━━━━━━━━━━━━━━━━━━━━━┳━━━━━━━━━━━━━━━┓\n",
       "┃<span style=\"font-weight: bold\"> Layer (type)                    </span>┃<span style=\"font-weight: bold\"> Output Shape           </span>┃<span style=\"font-weight: bold\">       Param # </span>┃\n",
       "┡━━━━━━━━━━━━━━━━━━━━━━━━━━━━━━━━━╇━━━━━━━━━━━━━━━━━━━━━━━━╇━━━━━━━━━━━━━━━┩\n",
       "│ dense (<span style=\"color: #0087ff; text-decoration-color: #0087ff\">Dense</span>)                   │ (<span style=\"color: #00d7ff; text-decoration-color: #00d7ff\">None</span>, <span style=\"color: #00af00; text-decoration-color: #00af00\">1024</span>)           │        <span style=\"color: #00af00; text-decoration-color: #00af00\">66,560</span> │\n",
       "├─────────────────────────────────┼────────────────────────┼───────────────┤\n",
       "│ batch_normalization             │ (<span style=\"color: #00d7ff; text-decoration-color: #00d7ff\">None</span>, <span style=\"color: #00af00; text-decoration-color: #00af00\">1024</span>)           │         <span style=\"color: #00af00; text-decoration-color: #00af00\">4,096</span> │\n",
       "│ (<span style=\"color: #0087ff; text-decoration-color: #0087ff\">BatchNormalization</span>)            │                        │               │\n",
       "├─────────────────────────────────┼────────────────────────┼───────────────┤\n",
       "│ dropout (<span style=\"color: #0087ff; text-decoration-color: #0087ff\">Dropout</span>)               │ (<span style=\"color: #00d7ff; text-decoration-color: #00d7ff\">None</span>, <span style=\"color: #00af00; text-decoration-color: #00af00\">1024</span>)           │             <span style=\"color: #00af00; text-decoration-color: #00af00\">0</span> │\n",
       "├─────────────────────────────────┼────────────────────────┼───────────────┤\n",
       "│ dense_1 (<span style=\"color: #0087ff; text-decoration-color: #0087ff\">Dense</span>)                 │ (<span style=\"color: #00d7ff; text-decoration-color: #00d7ff\">None</span>, <span style=\"color: #00af00; text-decoration-color: #00af00\">512</span>)            │       <span style=\"color: #00af00; text-decoration-color: #00af00\">524,800</span> │\n",
       "├─────────────────────────────────┼────────────────────────┼───────────────┤\n",
       "│ batch_normalization_1           │ (<span style=\"color: #00d7ff; text-decoration-color: #00d7ff\">None</span>, <span style=\"color: #00af00; text-decoration-color: #00af00\">512</span>)            │         <span style=\"color: #00af00; text-decoration-color: #00af00\">2,048</span> │\n",
       "│ (<span style=\"color: #0087ff; text-decoration-color: #0087ff\">BatchNormalization</span>)            │                        │               │\n",
       "├─────────────────────────────────┼────────────────────────┼───────────────┤\n",
       "│ dropout_1 (<span style=\"color: #0087ff; text-decoration-color: #0087ff\">Dropout</span>)             │ (<span style=\"color: #00d7ff; text-decoration-color: #00d7ff\">None</span>, <span style=\"color: #00af00; text-decoration-color: #00af00\">512</span>)            │             <span style=\"color: #00af00; text-decoration-color: #00af00\">0</span> │\n",
       "├─────────────────────────────────┼────────────────────────┼───────────────┤\n",
       "│ dense_2 (<span style=\"color: #0087ff; text-decoration-color: #0087ff\">Dense</span>)                 │ (<span style=\"color: #00d7ff; text-decoration-color: #00d7ff\">None</span>, <span style=\"color: #00af00; text-decoration-color: #00af00\">256</span>)            │       <span style=\"color: #00af00; text-decoration-color: #00af00\">131,328</span> │\n",
       "├─────────────────────────────────┼────────────────────────┼───────────────┤\n",
       "│ batch_normalization_2           │ (<span style=\"color: #00d7ff; text-decoration-color: #00d7ff\">None</span>, <span style=\"color: #00af00; text-decoration-color: #00af00\">256</span>)            │         <span style=\"color: #00af00; text-decoration-color: #00af00\">1,024</span> │\n",
       "│ (<span style=\"color: #0087ff; text-decoration-color: #0087ff\">BatchNormalization</span>)            │                        │               │\n",
       "├─────────────────────────────────┼────────────────────────┼───────────────┤\n",
       "│ dropout_2 (<span style=\"color: #0087ff; text-decoration-color: #0087ff\">Dropout</span>)             │ (<span style=\"color: #00d7ff; text-decoration-color: #00d7ff\">None</span>, <span style=\"color: #00af00; text-decoration-color: #00af00\">256</span>)            │             <span style=\"color: #00af00; text-decoration-color: #00af00\">0</span> │\n",
       "├─────────────────────────────────┼────────────────────────┼───────────────┤\n",
       "│ dense_3 (<span style=\"color: #0087ff; text-decoration-color: #0087ff\">Dense</span>)                 │ (<span style=\"color: #00d7ff; text-decoration-color: #00d7ff\">None</span>, <span style=\"color: #00af00; text-decoration-color: #00af00\">128</span>)            │        <span style=\"color: #00af00; text-decoration-color: #00af00\">32,896</span> │\n",
       "├─────────────────────────────────┼────────────────────────┼───────────────┤\n",
       "│ dropout_3 (<span style=\"color: #0087ff; text-decoration-color: #0087ff\">Dropout</span>)             │ (<span style=\"color: #00d7ff; text-decoration-color: #00d7ff\">None</span>, <span style=\"color: #00af00; text-decoration-color: #00af00\">128</span>)            │             <span style=\"color: #00af00; text-decoration-color: #00af00\">0</span> │\n",
       "├─────────────────────────────────┼────────────────────────┼───────────────┤\n",
       "│ dense_4 (<span style=\"color: #0087ff; text-decoration-color: #0087ff\">Dense</span>)                 │ (<span style=\"color: #00d7ff; text-decoration-color: #00d7ff\">None</span>, <span style=\"color: #00af00; text-decoration-color: #00af00\">12</span>)             │         <span style=\"color: #00af00; text-decoration-color: #00af00\">1,548</span> │\n",
       "└─────────────────────────────────┴────────────────────────┴───────────────┘\n",
       "</pre>\n"
      ],
      "text/plain": [
       "┏━━━━━━━━━━━━━━━━━━━━━━━━━━━━━━━━━┳━━━━━━━━━━━━━━━━━━━━━━━━┳━━━━━━━━━━━━━━━┓\n",
       "┃\u001b[1m \u001b[0m\u001b[1mLayer (type)                   \u001b[0m\u001b[1m \u001b[0m┃\u001b[1m \u001b[0m\u001b[1mOutput Shape          \u001b[0m\u001b[1m \u001b[0m┃\u001b[1m \u001b[0m\u001b[1m      Param #\u001b[0m\u001b[1m \u001b[0m┃\n",
       "┡━━━━━━━━━━━━━━━━━━━━━━━━━━━━━━━━━╇━━━━━━━━━━━━━━━━━━━━━━━━╇━━━━━━━━━━━━━━━┩\n",
       "│ dense (\u001b[38;5;33mDense\u001b[0m)                   │ (\u001b[38;5;45mNone\u001b[0m, \u001b[38;5;34m1024\u001b[0m)           │        \u001b[38;5;34m66,560\u001b[0m │\n",
       "├─────────────────────────────────┼────────────────────────┼───────────────┤\n",
       "│ batch_normalization             │ (\u001b[38;5;45mNone\u001b[0m, \u001b[38;5;34m1024\u001b[0m)           │         \u001b[38;5;34m4,096\u001b[0m │\n",
       "│ (\u001b[38;5;33mBatchNormalization\u001b[0m)            │                        │               │\n",
       "├─────────────────────────────────┼────────────────────────┼───────────────┤\n",
       "│ dropout (\u001b[38;5;33mDropout\u001b[0m)               │ (\u001b[38;5;45mNone\u001b[0m, \u001b[38;5;34m1024\u001b[0m)           │             \u001b[38;5;34m0\u001b[0m │\n",
       "├─────────────────────────────────┼────────────────────────┼───────────────┤\n",
       "│ dense_1 (\u001b[38;5;33mDense\u001b[0m)                 │ (\u001b[38;5;45mNone\u001b[0m, \u001b[38;5;34m512\u001b[0m)            │       \u001b[38;5;34m524,800\u001b[0m │\n",
       "├─────────────────────────────────┼────────────────────────┼───────────────┤\n",
       "│ batch_normalization_1           │ (\u001b[38;5;45mNone\u001b[0m, \u001b[38;5;34m512\u001b[0m)            │         \u001b[38;5;34m2,048\u001b[0m │\n",
       "│ (\u001b[38;5;33mBatchNormalization\u001b[0m)            │                        │               │\n",
       "├─────────────────────────────────┼────────────────────────┼───────────────┤\n",
       "│ dropout_1 (\u001b[38;5;33mDropout\u001b[0m)             │ (\u001b[38;5;45mNone\u001b[0m, \u001b[38;5;34m512\u001b[0m)            │             \u001b[38;5;34m0\u001b[0m │\n",
       "├─────────────────────────────────┼────────────────────────┼───────────────┤\n",
       "│ dense_2 (\u001b[38;5;33mDense\u001b[0m)                 │ (\u001b[38;5;45mNone\u001b[0m, \u001b[38;5;34m256\u001b[0m)            │       \u001b[38;5;34m131,328\u001b[0m │\n",
       "├─────────────────────────────────┼────────────────────────┼───────────────┤\n",
       "│ batch_normalization_2           │ (\u001b[38;5;45mNone\u001b[0m, \u001b[38;5;34m256\u001b[0m)            │         \u001b[38;5;34m1,024\u001b[0m │\n",
       "│ (\u001b[38;5;33mBatchNormalization\u001b[0m)            │                        │               │\n",
       "├─────────────────────────────────┼────────────────────────┼───────────────┤\n",
       "│ dropout_2 (\u001b[38;5;33mDropout\u001b[0m)             │ (\u001b[38;5;45mNone\u001b[0m, \u001b[38;5;34m256\u001b[0m)            │             \u001b[38;5;34m0\u001b[0m │\n",
       "├─────────────────────────────────┼────────────────────────┼───────────────┤\n",
       "│ dense_3 (\u001b[38;5;33mDense\u001b[0m)                 │ (\u001b[38;5;45mNone\u001b[0m, \u001b[38;5;34m128\u001b[0m)            │        \u001b[38;5;34m32,896\u001b[0m │\n",
       "├─────────────────────────────────┼────────────────────────┼───────────────┤\n",
       "│ dropout_3 (\u001b[38;5;33mDropout\u001b[0m)             │ (\u001b[38;5;45mNone\u001b[0m, \u001b[38;5;34m128\u001b[0m)            │             \u001b[38;5;34m0\u001b[0m │\n",
       "├─────────────────────────────────┼────────────────────────┼───────────────┤\n",
       "│ dense_4 (\u001b[38;5;33mDense\u001b[0m)                 │ (\u001b[38;5;45mNone\u001b[0m, \u001b[38;5;34m12\u001b[0m)             │         \u001b[38;5;34m1,548\u001b[0m │\n",
       "└─────────────────────────────────┴────────────────────────┴───────────────┘\n"
      ]
     },
     "metadata": {},
     "output_type": "display_data"
    },
    {
     "data": {
      "text/html": [
       "<pre style=\"white-space:pre;overflow-x:auto;line-height:normal;font-family:Menlo,'DejaVu Sans Mono',consolas,'Courier New',monospace\"><span style=\"font-weight: bold\"> Total params: </span><span style=\"color: #00af00; text-decoration-color: #00af00\">764,300</span> (2.92 MB)\n",
       "</pre>\n"
      ],
      "text/plain": [
       "\u001b[1m Total params: \u001b[0m\u001b[38;5;34m764,300\u001b[0m (2.92 MB)\n"
      ]
     },
     "metadata": {},
     "output_type": "display_data"
    },
    {
     "data": {
      "text/html": [
       "<pre style=\"white-space:pre;overflow-x:auto;line-height:normal;font-family:Menlo,'DejaVu Sans Mono',consolas,'Courier New',monospace\"><span style=\"font-weight: bold\"> Trainable params: </span><span style=\"color: #00af00; text-decoration-color: #00af00\">760,716</span> (2.90 MB)\n",
       "</pre>\n"
      ],
      "text/plain": [
       "\u001b[1m Trainable params: \u001b[0m\u001b[38;5;34m760,716\u001b[0m (2.90 MB)\n"
      ]
     },
     "metadata": {},
     "output_type": "display_data"
    },
    {
     "data": {
      "text/html": [
       "<pre style=\"white-space:pre;overflow-x:auto;line-height:normal;font-family:Menlo,'DejaVu Sans Mono',consolas,'Courier New',monospace\"><span style=\"font-weight: bold\"> Non-trainable params: </span><span style=\"color: #00af00; text-decoration-color: #00af00\">3,584</span> (14.00 KB)\n",
       "</pre>\n"
      ],
      "text/plain": [
       "\u001b[1m Non-trainable params: \u001b[0m\u001b[38;5;34m3,584\u001b[0m (14.00 KB)\n"
      ]
     },
     "metadata": {},
     "output_type": "display_data"
    }
   ],
   "source": [
    "# ===== INPUT LAYER =====\n",
    "mlp_model.add(Input(shape=(64,)))\n",
    "\n",
    "# ===== DEEP FULLY CONNECTED BLOCKS =====\n",
    "mlp_model.add(Dense(1024, activation='relu'))\n",
    "mlp_model.add(BatchNormalization())\n",
    "mlp_model.add(Dropout(0.5))\n",
    "\n",
    "mlp_model.add(Dense(512, activation='relu'))\n",
    "mlp_model.add(BatchNormalization())\n",
    "mlp_model.add(Dropout(0.4))\n",
    "\n",
    "mlp_model.add(Dense(256, activation='relu'))\n",
    "mlp_model.add(BatchNormalization())\n",
    "mlp_model.add(Dropout(0.3))\n",
    "\n",
    "mlp_model.add(Dense(128, activation='relu'))\n",
    "mlp_model.add(Dropout(0.2))\n",
    "\n",
    "# ===== OUTPUT LAYER =====\n",
    "mlp_model.add(Dense(y.shape[1], activation='softmax'))\n",
    "\n",
    "# ===== COMPILE =====\n",
    "mlp_model.compile(\n",
    "    optimizer=Adam(learning_rate=1e-4),\n",
    "    loss='categorical_crossentropy',\n",
    "    metrics=['accuracy']\n",
    ")\n",
    "\n",
    "mlp_model.summary()"
   ]
  },
  {
   "cell_type": "markdown",
   "id": "330e9a26",
   "metadata": {},
   "source": [
    "Callbacks are like automated training assistants that monitor the model’s performance and take actions during training to make it more stable and efficient. Here’s what we used:\n",
    "\n",
    "EarlyStopping\n",
    "- Goal: Prevent the model from overfitting.\n",
    "\n",
    "- What it does: Monitors the validation loss (val_loss). If it doesn’t improve for 5 consecutive epochs, training is halted early.\n",
    "\n",
    "- restore_best_weights=True: Ensures the model reverts to the best checkpoint (lowest val_loss) before it started to overfit.\n",
    "\n",
    "- This is super helpful in our context since we have many instrument classes and some of them are underrepresented—so overfitting is a big risk.\n",
    "\n",
    "ReduceLROnPlateau\n",
    "- Goal: Dynamically adjust learning rate if the model gets stuck.\n",
    "\n",
    "- What it does: If val_loss stagnates for 2 epochs, it reduces the learning rate by 20% (i.e., multiplies it by 0.2).\n",
    "\n",
    "- Helps the model make finer adjustments once the loss plateaus, improving convergence and potentially getting past local minima."
   ]
  },
  {
   "cell_type": "markdown",
   "id": "124a778b",
   "metadata": {},
   "source": [
    "Here’s what’s happening in this line:\n",
    "\n",
    "Training data: X_train_mlp and y_train are fed into the MLP.\n",
    "\n",
    "Validation data: Used to monitor performance and trigger callbacks.\n",
    "\n",
    "Epochs: We set a max of 30, but EarlyStopping might end it earlier.\n",
    "\n",
    "Batch size: 32 is a balanced choice—big enough for performance, small enough to maintain gradient stability.\n",
    "\n",
    "Callbacks: Tells the training loop when to stop, and when to adapt.\n",
    "\n",
    "---\n",
    "\n",
    "Why This Was Critical for Our Research\n",
    "In our out-of-tune detection research, we deal with:\n",
    "\n",
    "A high number of classes (instruments),\n",
    "\n",
    "Imbalanced samples, and\n",
    "\n",
    "Dense feature vectors (from mel-spectrogram means).\n",
    "\n",
    "---\n",
    "\n",
    "This makes training delicate—overfitting and vanishing gradients are both real threats. Our callback setup provided guardrails to:\n",
    "\n",
    "Avoid overtraining on dominant classes,\n",
    "\n",
    "Fine-tune the learning rate when progress slowed,\n",
    "\n",
    "And save training time by stopping early if the model had peaked.\n",
    "\n"
   ]
  },
  {
   "cell_type": "code",
   "execution_count": 24,
   "id": "417b3dac",
   "metadata": {},
   "outputs": [
    {
     "name": "stdout",
     "output_type": "stream",
     "text": [
      "Epoch 1/30\n",
      "\u001b[1m6295/6295\u001b[0m \u001b[32m━━━━━━━━━━━━━━━━━━━━\u001b[0m\u001b[37m\u001b[0m \u001b[1m37s\u001b[0m 6ms/step - accuracy: 0.1735 - loss: 2.5524 - val_accuracy: 0.2934 - val_loss: 2.0443 - learning_rate: 1.0000e-04\n",
      "Epoch 2/30\n",
      "\u001b[1m6295/6295\u001b[0m \u001b[32m━━━━━━━━━━━━━━━━━━━━\u001b[0m\u001b[37m\u001b[0m \u001b[1m38s\u001b[0m 6ms/step - accuracy: 0.2515 - loss: 2.1602 - val_accuracy: 0.3107 - val_loss: 1.9782 - learning_rate: 1.0000e-04\n",
      "Epoch 3/30\n",
      "\u001b[1m6295/6295\u001b[0m \u001b[32m━━━━━━━━━━━━━━━━━━━━\u001b[0m\u001b[37m\u001b[0m \u001b[1m38s\u001b[0m 6ms/step - accuracy: 0.2779 - loss: 2.0806 - val_accuracy: 0.3219 - val_loss: 1.9292 - learning_rate: 1.0000e-04\n",
      "Epoch 4/30\n",
      "\u001b[1m6295/6295\u001b[0m \u001b[32m━━━━━━━━━━━━━━━━━━━━\u001b[0m\u001b[37m\u001b[0m \u001b[1m40s\u001b[0m 6ms/step - accuracy: 0.2913 - loss: 2.0330 - val_accuracy: 0.3273 - val_loss: 1.9013 - learning_rate: 1.0000e-04\n",
      "Epoch 5/30\n",
      "\u001b[1m6295/6295\u001b[0m \u001b[32m━━━━━━━━━━━━━━━━━━━━\u001b[0m\u001b[37m\u001b[0m \u001b[1m40s\u001b[0m 6ms/step - accuracy: 0.2968 - loss: 2.0095 - val_accuracy: 0.3316 - val_loss: 1.8821 - learning_rate: 1.0000e-04\n",
      "Epoch 6/30\n",
      "\u001b[1m6295/6295\u001b[0m \u001b[32m━━━━━━━━━━━━━━━━━━━━\u001b[0m\u001b[37m\u001b[0m \u001b[1m39s\u001b[0m 6ms/step - accuracy: 0.3034 - loss: 1.9876 - val_accuracy: 0.3362 - val_loss: 1.8638 - learning_rate: 1.0000e-04\n",
      "Epoch 7/30\n",
      "\u001b[1m6295/6295\u001b[0m \u001b[32m━━━━━━━━━━━━━━━━━━━━\u001b[0m\u001b[37m\u001b[0m \u001b[1m37s\u001b[0m 6ms/step - accuracy: 0.3059 - loss: 1.9729 - val_accuracy: 0.3417 - val_loss: 1.8463 - learning_rate: 1.0000e-04\n",
      "Epoch 8/30\n",
      "\u001b[1m6295/6295\u001b[0m \u001b[32m━━━━━━━━━━━━━━━━━━━━\u001b[0m\u001b[37m\u001b[0m \u001b[1m37s\u001b[0m 6ms/step - accuracy: 0.3080 - loss: 1.9619 - val_accuracy: 0.3404 - val_loss: 1.8402 - learning_rate: 1.0000e-04\n",
      "Epoch 9/30\n",
      "\u001b[1m6295/6295\u001b[0m \u001b[32m━━━━━━━━━━━━━━━━━━━━\u001b[0m\u001b[37m\u001b[0m \u001b[1m38s\u001b[0m 6ms/step - accuracy: 0.3113 - loss: 1.9535 - val_accuracy: 0.3413 - val_loss: 1.8282 - learning_rate: 1.0000e-04\n",
      "Epoch 10/30\n",
      "\u001b[1m6295/6295\u001b[0m \u001b[32m━━━━━━━━━━━━━━━━━━━━\u001b[0m\u001b[37m\u001b[0m \u001b[1m40s\u001b[0m 6ms/step - accuracy: 0.3139 - loss: 1.9487 - val_accuracy: 0.3437 - val_loss: 1.8315 - learning_rate: 1.0000e-04\n",
      "Epoch 11/30\n",
      "\u001b[1m6295/6295\u001b[0m \u001b[32m━━━━━━━━━━━━━━━━━━━━\u001b[0m\u001b[37m\u001b[0m \u001b[1m39s\u001b[0m 6ms/step - accuracy: 0.3139 - loss: 1.9422 - val_accuracy: 0.3508 - val_loss: 1.8123 - learning_rate: 1.0000e-04\n",
      "Epoch 12/30\n",
      "\u001b[1m6295/6295\u001b[0m \u001b[32m━━━━━━━━━━━━━━━━━━━━\u001b[0m\u001b[37m\u001b[0m \u001b[1m38s\u001b[0m 6ms/step - accuracy: 0.3160 - loss: 1.9377 - val_accuracy: 0.3488 - val_loss: 1.8162 - learning_rate: 1.0000e-04\n",
      "Epoch 13/30\n",
      "\u001b[1m6295/6295\u001b[0m \u001b[32m━━━━━━━━━━━━━━━━━━━━\u001b[0m\u001b[37m\u001b[0m \u001b[1m38s\u001b[0m 6ms/step - accuracy: 0.3169 - loss: 1.9323 - val_accuracy: 0.3500 - val_loss: 1.8100 - learning_rate: 1.0000e-04\n",
      "Epoch 14/30\n",
      "\u001b[1m6295/6295\u001b[0m \u001b[32m━━━━━━━━━━━━━━━━━━━━\u001b[0m\u001b[37m\u001b[0m \u001b[1m39s\u001b[0m 6ms/step - accuracy: 0.3194 - loss: 1.9311 - val_accuracy: 0.3526 - val_loss: 1.8039 - learning_rate: 1.0000e-04\n",
      "Epoch 15/30\n",
      "\u001b[1m6295/6295\u001b[0m \u001b[32m━━━━━━━━━━━━━━━━━━━━\u001b[0m\u001b[37m\u001b[0m \u001b[1m36s\u001b[0m 6ms/step - accuracy: 0.3198 - loss: 1.9302 - val_accuracy: 0.3532 - val_loss: 1.7903 - learning_rate: 1.0000e-04\n",
      "Epoch 16/30\n",
      "\u001b[1m6295/6295\u001b[0m \u001b[32m━━━━━━━━━━━━━━━━━━━━\u001b[0m\u001b[37m\u001b[0m \u001b[1m36s\u001b[0m 6ms/step - accuracy: 0.3205 - loss: 1.9248 - val_accuracy: 0.3541 - val_loss: 1.7933 - learning_rate: 1.0000e-04\n",
      "Epoch 17/30\n",
      "\u001b[1m6295/6295\u001b[0m \u001b[32m━━━━━━━━━━━━━━━━━━━━\u001b[0m\u001b[37m\u001b[0m \u001b[1m36s\u001b[0m 6ms/step - accuracy: 0.3198 - loss: 1.9230 - val_accuracy: 0.3571 - val_loss: 1.7868 - learning_rate: 1.0000e-04\n",
      "Epoch 18/30\n",
      "\u001b[1m6295/6295\u001b[0m \u001b[32m━━━━━━━━━━━━━━━━━━━━\u001b[0m\u001b[37m\u001b[0m \u001b[1m39s\u001b[0m 6ms/step - accuracy: 0.3211 - loss: 1.9203 - val_accuracy: 0.3594 - val_loss: 1.7800 - learning_rate: 1.0000e-04\n",
      "Epoch 19/30\n",
      "\u001b[1m6295/6295\u001b[0m \u001b[32m━━━━━━━━━━━━━━━━━━━━\u001b[0m\u001b[37m\u001b[0m \u001b[1m40s\u001b[0m 6ms/step - accuracy: 0.3233 - loss: 1.9188 - val_accuracy: 0.3543 - val_loss: 1.7982 - learning_rate: 1.0000e-04\n",
      "Epoch 20/30\n",
      "\u001b[1m6295/6295\u001b[0m \u001b[32m━━━━━━━━━━━━━━━━━━━━\u001b[0m\u001b[37m\u001b[0m \u001b[1m39s\u001b[0m 6ms/step - accuracy: 0.3223 - loss: 1.9235 - val_accuracy: 0.3601 - val_loss: 1.7766 - learning_rate: 1.0000e-04\n",
      "Epoch 21/30\n",
      "\u001b[1m6295/6295\u001b[0m \u001b[32m━━━━━━━━━━━━━━━━━━━━\u001b[0m\u001b[37m\u001b[0m \u001b[1m39s\u001b[0m 6ms/step - accuracy: 0.3230 - loss: 1.9183 - val_accuracy: 0.3629 - val_loss: 1.7707 - learning_rate: 1.0000e-04\n",
      "Epoch 22/30\n",
      "\u001b[1m6295/6295\u001b[0m \u001b[32m━━━━━━━━━━━━━━━━━━━━\u001b[0m\u001b[37m\u001b[0m \u001b[1m38s\u001b[0m 6ms/step - accuracy: 0.3249 - loss: 1.9125 - val_accuracy: 0.3573 - val_loss: 1.7769 - learning_rate: 1.0000e-04\n",
      "Epoch 23/30\n",
      "\u001b[1m6295/6295\u001b[0m \u001b[32m━━━━━━━━━━━━━━━━━━━━\u001b[0m\u001b[37m\u001b[0m \u001b[1m40s\u001b[0m 6ms/step - accuracy: 0.3234 - loss: 1.9141 - val_accuracy: 0.3623 - val_loss: 1.7688 - learning_rate: 1.0000e-04\n",
      "Epoch 24/30\n",
      "\u001b[1m6295/6295\u001b[0m \u001b[32m━━━━━━━━━━━━━━━━━━━━\u001b[0m\u001b[37m\u001b[0m \u001b[1m40s\u001b[0m 6ms/step - accuracy: 0.3237 - loss: 1.9128 - val_accuracy: 0.3646 - val_loss: 1.7643 - learning_rate: 1.0000e-04\n",
      "Epoch 25/30\n",
      "\u001b[1m6295/6295\u001b[0m \u001b[32m━━━━━━━━━━━━━━━━━━━━\u001b[0m\u001b[37m\u001b[0m \u001b[1m38s\u001b[0m 6ms/step - accuracy: 0.3272 - loss: 1.9078 - val_accuracy: 0.3647 - val_loss: 1.7699 - learning_rate: 1.0000e-04\n",
      "Epoch 26/30\n",
      "\u001b[1m6295/6295\u001b[0m \u001b[32m━━━━━━━━━━━━━━━━━━━━\u001b[0m\u001b[37m\u001b[0m \u001b[1m39s\u001b[0m 6ms/step - accuracy: 0.3247 - loss: 1.9068 - val_accuracy: 0.3663 - val_loss: 1.7586 - learning_rate: 1.0000e-04\n",
      "Epoch 27/30\n",
      "\u001b[1m6295/6295\u001b[0m \u001b[32m━━━━━━━━━━━━━━━━━━━━\u001b[0m\u001b[37m\u001b[0m \u001b[1m40s\u001b[0m 6ms/step - accuracy: 0.3280 - loss: 1.9055 - val_accuracy: 0.3638 - val_loss: 1.7635 - learning_rate: 1.0000e-04\n",
      "Epoch 28/30\n",
      "\u001b[1m6295/6295\u001b[0m \u001b[32m━━━━━━━━━━━━━━━━━━━━\u001b[0m\u001b[37m\u001b[0m \u001b[1m39s\u001b[0m 6ms/step - accuracy: 0.3286 - loss: 1.8992 - val_accuracy: 0.3656 - val_loss: 1.7533 - learning_rate: 1.0000e-04\n",
      "Epoch 29/30\n",
      "\u001b[1m6295/6295\u001b[0m \u001b[32m━━━━━━━━━━━━━━━━━━━━\u001b[0m\u001b[37m\u001b[0m \u001b[1m40s\u001b[0m 6ms/step - accuracy: 0.3290 - loss: 1.9025 - val_accuracy: 0.3625 - val_loss: 1.7730 - learning_rate: 1.0000e-04\n",
      "Epoch 30/30\n",
      "\u001b[1m6295/6295\u001b[0m \u001b[32m━━━━━━━━━━━━━━━━━━━━\u001b[0m\u001b[37m\u001b[0m \u001b[1m40s\u001b[0m 6ms/step - accuracy: 0.3301 - loss: 1.9012 - val_accuracy: 0.3679 - val_loss: 1.7487 - learning_rate: 1.0000e-04\n"
     ]
    }
   ],
   "source": [
    "# ===== CALLBACKS =====\n",
    "mlp_callbacks = [\n",
    "    EarlyStopping(monitor='val_loss', patience=5, restore_best_weights=True),\n",
    "    ReduceLROnPlateau(monitor='val_loss', patience=2, factor=0.2, verbose=1)\n",
    "]\n",
    "\n",
    "# ===== TRAIN MLP MODEL =====\n",
    "mlp_history = mlp_model.fit(\n",
    "    X_train_mlp, y_train,\n",
    "    validation_data=(X_test_mlp, y_test),\n",
    "    epochs=30,\n",
    "    batch_size=32,\n",
    "    callbacks=mlp_callbacks\n",
    ")"
   ]
  },
  {
   "cell_type": "code",
   "execution_count": 25,
   "id": "a4397732",
   "metadata": {},
   "outputs": [
    {
     "name": "stdout",
     "output_type": "stream",
     "text": [
      "\u001b[1m1574/1574\u001b[0m \u001b[32m━━━━━━━━━━━━━━━━━━━━\u001b[0m\u001b[37m\u001b[0m \u001b[1m2s\u001b[0m 1ms/step\n"
     ]
    },
    {
     "name": "stderr",
     "output_type": "stream",
     "text": [
      "WARNING:absl:You are saving your model as an HDF5 file via `model.save()` or `keras.saving.save_model(model)`. This file format is considered legacy. We recommend using instead the native Keras format, e.g. `model.save('my_model.keras')` or `keras.saving.save_model(model, 'my_model.keras')`. \n"
     ]
    },
    {
     "name": "stdout",
     "output_type": "stream",
     "text": [
      "\n",
      "MLP Classification Report:\n",
      "               precision    recall  f1-score   support\n",
      "\n",
      "           0       0.39      0.41      0.40      5355\n",
      "           1       0.38      0.12      0.18      3715\n",
      "           2       0.32      0.01      0.02      2701\n",
      "           3       0.32      0.37      0.34      2830\n",
      "           4       0.42      0.69      0.52      5357\n",
      "           5       0.34      0.68      0.45      5364\n",
      "           6       0.38      0.15      0.21      5402\n",
      "           7       0.38      0.16      0.23      3688\n",
      "           8       0.36      0.62      0.45      5332\n",
      "           9       0.36      0.29      0.32      2232\n",
      "          10       0.34      0.36      0.35      5345\n",
      "          11       0.37      0.08      0.14      3033\n",
      "\n",
      "    accuracy                           0.37     50354\n",
      "   macro avg       0.36      0.33      0.30     50354\n",
      "weighted avg       0.37      0.37      0.33     50354\n",
      "\n",
      "\n",
      "MLP Confusion Matrix:\n",
      " [[2207   51    0  215  631  865   80   91  735  168  287   25]\n",
      " [ 412  433    0  220  512  658  237  219  503  140  331   50]\n",
      " [ 248   75   24  163  325  447  147  103  383   83  656   47]\n",
      " [ 227   37    0 1038  253  497   86   37  383  108  143   21]\n",
      " [ 150   13    0  126 3673  522   69   36  605   13  139   11]\n",
      " [ 234   17    1  113  473 3641   92   23  523   41  199    7]\n",
      " [ 593  161   37  297  584  844  797  208  748  118  906  109]\n",
      " [ 415  111    0  235  422  685   86  608  594  147  317   68]\n",
      " [ 158   27    0  139  656  791   56   29 3310   13  144    9]\n",
      " [ 219   23    0   90  259  577   39   17  278  637   88    5]\n",
      " [ 432  125   13  302  563  709  268  153  639  152 1901   88]\n",
      " [ 303   62    0  294  340  498  118   96  518  137  410  257]]\n"
     ]
    }
   ],
   "source": [
    "# ===== EVALUATION =====\n",
    "y_pred_probs_mlp = mlp_model.predict(X_test_mlp)\n",
    "y_pred_mlp = np.argmax(y_pred_probs_mlp, axis=1)\n",
    "y_true_mlp = np.argmax(y_test, axis=1)\n",
    "\n",
    "print(\"\\nMLP Classification Report:\\n\", classification_report(y_true_mlp, y_pred_mlp))\n",
    "print(\"\\nMLP Confusion Matrix:\\n\", confusion_matrix(y_true_mlp, y_pred_mlp))\n",
    "\n",
    "# ===== SAVE MLP MODEL =====\n",
    "mlp_model.save(\"mlp_out_of_tune_model.h5\")\n"
   ]
  },
  {
   "cell_type": "code",
   "execution_count": 26,
   "id": "70360f96",
   "metadata": {},
   "outputs": [
    {
     "data": {
      "image/png": "[encoded data removed]",
      "text/plain": [
       "<Figure size 1000x500 with 1 Axes>"
      ]
     },
     "metadata": {},
     "output_type": "display_data"
    }
   ],
   "source": [
    "# ===== OPTIONAL: PLOT MLP TRAINING =====\n",
    "plt.figure(figsize=(10,5))\n",
    "plt.plot(mlp_history.history['accuracy'], label='Train Acc (MLP)')\n",
    "plt.plot(mlp_history.history['val_accuracy'], label='Val Acc (MLP)')\n",
    "plt.xlabel('Epoch')\n",
    "plt.ylabel('Accuracy')\n",
    "plt.legend()\n",
    "plt.title('MLP Training Performance')\n",
    "plt.grid()\n",
    "plt.show()\n"
   ]
  },
  {
   "cell_type": "markdown",
   "id": "9e767776",
   "metadata": {},
   "source": [
    "# Improved MLP model"
   ]
  },
  {
   "cell_type": "markdown",
   "id": "94a7a99f",
   "metadata": {},
   "source": [
    "For the final phase of our research, we introduced our third and most advanced architecture: a Deep Residual Multi-Layer Perceptron (MLP). This model was designed collaboratively by our team as a culmination of insights gained from both the CNN and the standard MLP models. Its purpose was to test whether adding residual connections and a deeper layer structure could significantly improve the model’s ability to identify which instrument in a polyphonic mix is out of tune. While our previous MLP focused on deep, fully connected blocks, this architecture takes it a step further with skip connections—allowing the model to retain important feature representations across deeper layers without the risk of vanishing gradients.\n",
    "\n",
    "The architecture starts by flattening the mel-spectrogram data into a one-dimensional array of 64 features per sample, just like in our earlier MLP. The model takes this as input and feeds it into a series of increasingly smaller dense blocks. The first block has 1024 neurons, followed by a 512-neuron block that splits into a residual sub-network—a second 512-neuron layer whose output is added back to the previous layer using a skip connection. This residual mechanism allows the network to retain lower-level information while simultaneously learning higher-level abstractions, resulting in more stable gradients and better generalization. After that, the network passes through further blocks of 256 and 128 neurons, each followed by Batch Normalization, ReLU activations, and Dropout layers to prevent overfitting.\n",
    "\n",
    "We chose the Adam optimizer with a slightly increased learning rate (3e-4) to compensate for the added complexity of the model. Batch Normalization helped stabilize the training dynamics, which is especially important given the network’s depth. Furthermore, we integrated smart training strategies such as EarlyStopping and ReduceLROnPlateau. These callbacks automatically halt training once the validation loss stagnates and reduce the learning rate when progress slows—ensuring we neither overfit nor underutilize our training epochs.\n",
    "\n",
    "This model is the most expressive in our experiment pipeline, designed to push the limits of what a dense neural network can achieve in this specific audio classification task. Unlike CNNs, which extract spatial patterns from mel-spectrograms, our Ultra Residual MLP relies entirely on its depth and skip connections to capture hierarchical representations. This distinction is particularly important in the context of our research, where we aim to detect out-of-tune instruments from subtle statistical patterns in compressed spectral features. By comparing the performance of this residual MLP to both the CNN and the simpler MLP models, we can critically evaluate the trade-offs between architectural depth, model expressiveness, and training stability in our domain.\n",
    "\n",
    "In the broader scope of our research goal—to build tools that can assist music educators, editors, and ensemble performers in detecting tuning issues—this model provides a strong foundation. If proven effective, it can contribute to real-time feedback systems in rehearsal environments or be integrated into DAW plugins for music producers. Ultimately, the Ultra Residual MLP is not just a deeper neural net—it represents our team’s collective attempt to bridge the gap between complex polyphonic audio environments and practical, AI-powered tuning assistance."
   ]
  },
  {
   "cell_type": "code",
   "execution_count": 27,
   "id": "7d66d91b",
   "metadata": {},
   "outputs": [],
   "source": [
    "from tensorflow.keras.models import Model\n",
    "from tensorflow.keras.layers import Input, Dense, Dropout, BatchNormalization, Add, Activation\n",
    "from tensorflow.keras.optimizers import Adam\n",
    "from tensorflow.keras.activations import gelu  # Optional, or use ReLU if unavailable"
   ]
  },
  {
   "cell_type": "code",
   "execution_count": 28,
   "id": "e3ef967e",
   "metadata": {},
   "outputs": [],
   "source": [
    "# Reshape input\n",
    "X_train_mlp = X_train.reshape(X_train.shape[0], -1)\n",
    "X_test_mlp = X_test.reshape(X_test.shape[0], -1)\n",
    "\n",
    "K.clear_session()"
   ]
  },
  {
   "cell_type": "code",
   "execution_count": 29,
   "id": "df2cf3cf",
   "metadata": {},
   "outputs": [
    {
     "data": {
      "text/html": [
       "<pre style=\"white-space:pre;overflow-x:auto;line-height:normal;font-family:Menlo,'DejaVu Sans Mono',consolas,'Courier New',monospace\"><span style=\"font-weight: bold\">Model: \"functional\"</span>\n",
       "</pre>\n"
      ],
      "text/plain": [
       "\u001b[1mModel: \"functional\"\u001b[0m\n"
      ]
     },
     "metadata": {},
     "output_type": "display_data"
    },
    {
     "data": {
      "text/html": [
       "<pre style=\"white-space:pre;overflow-x:auto;line-height:normal;font-family:Menlo,'DejaVu Sans Mono',consolas,'Courier New',monospace\">┏━━━━━━━━━━━━━━━━━━━━━┳━━━━━━━━━━━━━━━━━━━┳━━━━━━━━━━━━┳━━━━━━━━━━━━━━━━━━━┓\n",
       "┃<span style=\"font-weight: bold\"> Layer (type)        </span>┃<span style=\"font-weight: bold\"> Output Shape      </span>┃<span style=\"font-weight: bold\">    Param # </span>┃<span style=\"font-weight: bold\"> Connected to      </span>┃\n",
       "┡━━━━━━━━━━━━━━━━━━━━━╇━━━━━━━━━━━━━━━━━━━╇━━━━━━━━━━━━╇━━━━━━━━━━━━━━━━━━━┩\n",
       "│ input_layer         │ (<span style=\"color: #00d7ff; text-decoration-color: #00d7ff\">None</span>, <span style=\"color: #00af00; text-decoration-color: #00af00\">64</span>)        │          <span style=\"color: #00af00; text-decoration-color: #00af00\">0</span> │ -                 │\n",
       "│ (<span style=\"color: #0087ff; text-decoration-color: #0087ff\">InputLayer</span>)        │                   │            │                   │\n",
       "├─────────────────────┼───────────────────┼────────────┼───────────────────┤\n",
       "│ dense (<span style=\"color: #0087ff; text-decoration-color: #0087ff\">Dense</span>)       │ (<span style=\"color: #00d7ff; text-decoration-color: #00d7ff\">None</span>, <span style=\"color: #00af00; text-decoration-color: #00af00\">1024</span>)      │     <span style=\"color: #00af00; text-decoration-color: #00af00\">66,560</span> │ input_layer[<span style=\"color: #00af00; text-decoration-color: #00af00\">0</span>][<span style=\"color: #00af00; text-decoration-color: #00af00\">0</span>] │\n",
       "├─────────────────────┼───────────────────┼────────────┼───────────────────┤\n",
       "│ batch_normalization │ (<span style=\"color: #00d7ff; text-decoration-color: #00d7ff\">None</span>, <span style=\"color: #00af00; text-decoration-color: #00af00\">1024</span>)      │      <span style=\"color: #00af00; text-decoration-color: #00af00\">4,096</span> │ dense[<span style=\"color: #00af00; text-decoration-color: #00af00\">0</span>][<span style=\"color: #00af00; text-decoration-color: #00af00\">0</span>]       │\n",
       "│ (<span style=\"color: #0087ff; text-decoration-color: #0087ff\">BatchNormalizatio…</span> │                   │            │                   │\n",
       "├─────────────────────┼───────────────────┼────────────┼───────────────────┤\n",
       "│ activation          │ (<span style=\"color: #00d7ff; text-decoration-color: #00d7ff\">None</span>, <span style=\"color: #00af00; text-decoration-color: #00af00\">1024</span>)      │          <span style=\"color: #00af00; text-decoration-color: #00af00\">0</span> │ batch_normalizat… │\n",
       "│ (<span style=\"color: #0087ff; text-decoration-color: #0087ff\">Activation</span>)        │                   │            │                   │\n",
       "├─────────────────────┼───────────────────┼────────────┼───────────────────┤\n",
       "│ dropout (<span style=\"color: #0087ff; text-decoration-color: #0087ff\">Dropout</span>)   │ (<span style=\"color: #00d7ff; text-decoration-color: #00d7ff\">None</span>, <span style=\"color: #00af00; text-decoration-color: #00af00\">1024</span>)      │          <span style=\"color: #00af00; text-decoration-color: #00af00\">0</span> │ activation[<span style=\"color: #00af00; text-decoration-color: #00af00\">0</span>][<span style=\"color: #00af00; text-decoration-color: #00af00\">0</span>]  │\n",
       "├─────────────────────┼───────────────────┼────────────┼───────────────────┤\n",
       "│ dense_1 (<span style=\"color: #0087ff; text-decoration-color: #0087ff\">Dense</span>)     │ (<span style=\"color: #00d7ff; text-decoration-color: #00d7ff\">None</span>, <span style=\"color: #00af00; text-decoration-color: #00af00\">512</span>)       │    <span style=\"color: #00af00; text-decoration-color: #00af00\">524,800</span> │ dropout[<span style=\"color: #00af00; text-decoration-color: #00af00\">0</span>][<span style=\"color: #00af00; text-decoration-color: #00af00\">0</span>]     │\n",
       "├─────────────────────┼───────────────────┼────────────┼───────────────────┤\n",
       "│ batch_normalizatio… │ (<span style=\"color: #00d7ff; text-decoration-color: #00d7ff\">None</span>, <span style=\"color: #00af00; text-decoration-color: #00af00\">512</span>)       │      <span style=\"color: #00af00; text-decoration-color: #00af00\">2,048</span> │ dense_1[<span style=\"color: #00af00; text-decoration-color: #00af00\">0</span>][<span style=\"color: #00af00; text-decoration-color: #00af00\">0</span>]     │\n",
       "│ (<span style=\"color: #0087ff; text-decoration-color: #0087ff\">BatchNormalizatio…</span> │                   │            │                   │\n",
       "├─────────────────────┼───────────────────┼────────────┼───────────────────┤\n",
       "│ activation_1        │ (<span style=\"color: #00d7ff; text-decoration-color: #00d7ff\">None</span>, <span style=\"color: #00af00; text-decoration-color: #00af00\">512</span>)       │          <span style=\"color: #00af00; text-decoration-color: #00af00\">0</span> │ batch_normalizat… │\n",
       "│ (<span style=\"color: #0087ff; text-decoration-color: #0087ff\">Activation</span>)        │                   │            │                   │\n",
       "├─────────────────────┼───────────────────┼────────────┼───────────────────┤\n",
       "│ dropout_1 (<span style=\"color: #0087ff; text-decoration-color: #0087ff\">Dropout</span>) │ (<span style=\"color: #00d7ff; text-decoration-color: #00d7ff\">None</span>, <span style=\"color: #00af00; text-decoration-color: #00af00\">512</span>)       │          <span style=\"color: #00af00; text-decoration-color: #00af00\">0</span> │ activation_1[<span style=\"color: #00af00; text-decoration-color: #00af00\">0</span>][<span style=\"color: #00af00; text-decoration-color: #00af00\">…</span> │\n",
       "├─────────────────────┼───────────────────┼────────────┼───────────────────┤\n",
       "│ dense_2 (<span style=\"color: #0087ff; text-decoration-color: #0087ff\">Dense</span>)     │ (<span style=\"color: #00d7ff; text-decoration-color: #00d7ff\">None</span>, <span style=\"color: #00af00; text-decoration-color: #00af00\">512</span>)       │    <span style=\"color: #00af00; text-decoration-color: #00af00\">262,656</span> │ dropout_1[<span style=\"color: #00af00; text-decoration-color: #00af00\">0</span>][<span style=\"color: #00af00; text-decoration-color: #00af00\">0</span>]   │\n",
       "├─────────────────────┼───────────────────┼────────────┼───────────────────┤\n",
       "│ batch_normalizatio… │ (<span style=\"color: #00d7ff; text-decoration-color: #00d7ff\">None</span>, <span style=\"color: #00af00; text-decoration-color: #00af00\">512</span>)       │      <span style=\"color: #00af00; text-decoration-color: #00af00\">2,048</span> │ dense_2[<span style=\"color: #00af00; text-decoration-color: #00af00\">0</span>][<span style=\"color: #00af00; text-decoration-color: #00af00\">0</span>]     │\n",
       "│ (<span style=\"color: #0087ff; text-decoration-color: #0087ff\">BatchNormalizatio…</span> │                   │            │                   │\n",
       "├─────────────────────┼───────────────────┼────────────┼───────────────────┤\n",
       "│ activation_2        │ (<span style=\"color: #00d7ff; text-decoration-color: #00d7ff\">None</span>, <span style=\"color: #00af00; text-decoration-color: #00af00\">512</span>)       │          <span style=\"color: #00af00; text-decoration-color: #00af00\">0</span> │ batch_normalizat… │\n",
       "│ (<span style=\"color: #0087ff; text-decoration-color: #0087ff\">Activation</span>)        │                   │            │                   │\n",
       "├─────────────────────┼───────────────────┼────────────┼───────────────────┤\n",
       "│ dropout_2 (<span style=\"color: #0087ff; text-decoration-color: #0087ff\">Dropout</span>) │ (<span style=\"color: #00d7ff; text-decoration-color: #00d7ff\">None</span>, <span style=\"color: #00af00; text-decoration-color: #00af00\">512</span>)       │          <span style=\"color: #00af00; text-decoration-color: #00af00\">0</span> │ activation_2[<span style=\"color: #00af00; text-decoration-color: #00af00\">0</span>][<span style=\"color: #00af00; text-decoration-color: #00af00\">…</span> │\n",
       "├─────────────────────┼───────────────────┼────────────┼───────────────────┤\n",
       "│ add (<span style=\"color: #0087ff; text-decoration-color: #0087ff\">Add</span>)           │ (<span style=\"color: #00d7ff; text-decoration-color: #00d7ff\">None</span>, <span style=\"color: #00af00; text-decoration-color: #00af00\">512</span>)       │          <span style=\"color: #00af00; text-decoration-color: #00af00\">0</span> │ dropout_1[<span style=\"color: #00af00; text-decoration-color: #00af00\">0</span>][<span style=\"color: #00af00; text-decoration-color: #00af00\">0</span>],  │\n",
       "│                     │                   │            │ dropout_2[<span style=\"color: #00af00; text-decoration-color: #00af00\">0</span>][<span style=\"color: #00af00; text-decoration-color: #00af00\">0</span>]   │\n",
       "├─────────────────────┼───────────────────┼────────────┼───────────────────┤\n",
       "│ dense_3 (<span style=\"color: #0087ff; text-decoration-color: #0087ff\">Dense</span>)     │ (<span style=\"color: #00d7ff; text-decoration-color: #00d7ff\">None</span>, <span style=\"color: #00af00; text-decoration-color: #00af00\">256</span>)       │    <span style=\"color: #00af00; text-decoration-color: #00af00\">131,328</span> │ add[<span style=\"color: #00af00; text-decoration-color: #00af00\">0</span>][<span style=\"color: #00af00; text-decoration-color: #00af00\">0</span>]         │\n",
       "├─────────────────────┼───────────────────┼────────────┼───────────────────┤\n",
       "│ batch_normalizatio… │ (<span style=\"color: #00d7ff; text-decoration-color: #00d7ff\">None</span>, <span style=\"color: #00af00; text-decoration-color: #00af00\">256</span>)       │      <span style=\"color: #00af00; text-decoration-color: #00af00\">1,024</span> │ dense_3[<span style=\"color: #00af00; text-decoration-color: #00af00\">0</span>][<span style=\"color: #00af00; text-decoration-color: #00af00\">0</span>]     │\n",
       "│ (<span style=\"color: #0087ff; text-decoration-color: #0087ff\">BatchNormalizatio…</span> │                   │            │                   │\n",
       "├─────────────────────┼───────────────────┼────────────┼───────────────────┤\n",
       "│ activation_3        │ (<span style=\"color: #00d7ff; text-decoration-color: #00d7ff\">None</span>, <span style=\"color: #00af00; text-decoration-color: #00af00\">256</span>)       │          <span style=\"color: #00af00; text-decoration-color: #00af00\">0</span> │ batch_normalizat… │\n",
       "│ (<span style=\"color: #0087ff; text-decoration-color: #0087ff\">Activation</span>)        │                   │            │                   │\n",
       "├─────────────────────┼───────────────────┼────────────┼───────────────────┤\n",
       "│ dropout_3 (<span style=\"color: #0087ff; text-decoration-color: #0087ff\">Dropout</span>) │ (<span style=\"color: #00d7ff; text-decoration-color: #00d7ff\">None</span>, <span style=\"color: #00af00; text-decoration-color: #00af00\">256</span>)       │          <span style=\"color: #00af00; text-decoration-color: #00af00\">0</span> │ activation_3[<span style=\"color: #00af00; text-decoration-color: #00af00\">0</span>][<span style=\"color: #00af00; text-decoration-color: #00af00\">…</span> │\n",
       "├─────────────────────┼───────────────────┼────────────┼───────────────────┤\n",
       "│ dense_4 (<span style=\"color: #0087ff; text-decoration-color: #0087ff\">Dense</span>)     │ (<span style=\"color: #00d7ff; text-decoration-color: #00d7ff\">None</span>, <span style=\"color: #00af00; text-decoration-color: #00af00\">128</span>)       │     <span style=\"color: #00af00; text-decoration-color: #00af00\">32,896</span> │ dropout_3[<span style=\"color: #00af00; text-decoration-color: #00af00\">0</span>][<span style=\"color: #00af00; text-decoration-color: #00af00\">0</span>]   │\n",
       "├─────────────────────┼───────────────────┼────────────┼───────────────────┤\n",
       "│ batch_normalizatio… │ (<span style=\"color: #00d7ff; text-decoration-color: #00d7ff\">None</span>, <span style=\"color: #00af00; text-decoration-color: #00af00\">128</span>)       │        <span style=\"color: #00af00; text-decoration-color: #00af00\">512</span> │ dense_4[<span style=\"color: #00af00; text-decoration-color: #00af00\">0</span>][<span style=\"color: #00af00; text-decoration-color: #00af00\">0</span>]     │\n",
       "│ (<span style=\"color: #0087ff; text-decoration-color: #0087ff\">BatchNormalizatio…</span> │                   │            │                   │\n",
       "├─────────────────────┼───────────────────┼────────────┼───────────────────┤\n",
       "│ activation_4        │ (<span style=\"color: #00d7ff; text-decoration-color: #00d7ff\">None</span>, <span style=\"color: #00af00; text-decoration-color: #00af00\">128</span>)       │          <span style=\"color: #00af00; text-decoration-color: #00af00\">0</span> │ batch_normalizat… │\n",
       "│ (<span style=\"color: #0087ff; text-decoration-color: #0087ff\">Activation</span>)        │                   │            │                   │\n",
       "├─────────────────────┼───────────────────┼────────────┼───────────────────┤\n",
       "│ dropout_4 (<span style=\"color: #0087ff; text-decoration-color: #0087ff\">Dropout</span>) │ (<span style=\"color: #00d7ff; text-decoration-color: #00d7ff\">None</span>, <span style=\"color: #00af00; text-decoration-color: #00af00\">128</span>)       │          <span style=\"color: #00af00; text-decoration-color: #00af00\">0</span> │ activation_4[<span style=\"color: #00af00; text-decoration-color: #00af00\">0</span>][<span style=\"color: #00af00; text-decoration-color: #00af00\">…</span> │\n",
       "├─────────────────────┼───────────────────┼────────────┼───────────────────┤\n",
       "│ dense_5 (<span style=\"color: #0087ff; text-decoration-color: #0087ff\">Dense</span>)     │ (<span style=\"color: #00d7ff; text-decoration-color: #00d7ff\">None</span>, <span style=\"color: #00af00; text-decoration-color: #00af00\">12</span>)        │      <span style=\"color: #00af00; text-decoration-color: #00af00\">1,548</span> │ dropout_4[<span style=\"color: #00af00; text-decoration-color: #00af00\">0</span>][<span style=\"color: #00af00; text-decoration-color: #00af00\">0</span>]   │\n",
       "└─────────────────────┴───────────────────┴────────────┴───────────────────┘\n",
       "</pre>\n"
      ],
      "text/plain": [
       "┏━━━━━━━━━━━━━━━━━━━━━┳━━━━━━━━━━━━━━━━━━━┳━━━━━━━━━━━━┳━━━━━━━━━━━━━━━━━━━┓\n",
       "┃\u001b[1m \u001b[0m\u001b[1mLayer (type)       \u001b[0m\u001b[1m \u001b[0m┃\u001b[1m \u001b[0m\u001b[1mOutput Shape     \u001b[0m\u001b[1m \u001b[0m┃\u001b[1m \u001b[0m\u001b[1m   Param #\u001b[0m\u001b[1m \u001b[0m┃\u001b[1m \u001b[0m\u001b[1mConnected to     \u001b[0m\u001b[1m \u001b[0m┃\n",
       "┡━━━━━━━━━━━━━━━━━━━━━╇━━━━━━━━━━━━━━━━━━━╇━━━━━━━━━━━━╇━━━━━━━━━━━━━━━━━━━┩\n",
       "│ input_layer         │ (\u001b[38;5;45mNone\u001b[0m, \u001b[38;5;34m64\u001b[0m)        │          \u001b[38;5;34m0\u001b[0m │ -                 │\n",
       "│ (\u001b[38;5;33mInputLayer\u001b[0m)        │                   │            │                   │\n",
       "├─────────────────────┼───────────────────┼────────────┼───────────────────┤\n",
       "│ dense (\u001b[38;5;33mDense\u001b[0m)       │ (\u001b[38;5;45mNone\u001b[0m, \u001b[38;5;34m1024\u001b[0m)      │     \u001b[38;5;34m66,560\u001b[0m │ input_layer[\u001b[38;5;34m0\u001b[0m][\u001b[38;5;34m0\u001b[0m] │\n",
       "├─────────────────────┼───────────────────┼────────────┼───────────────────┤\n",
       "│ batch_normalization │ (\u001b[38;5;45mNone\u001b[0m, \u001b[38;5;34m1024\u001b[0m)      │      \u001b[38;5;34m4,096\u001b[0m │ dense[\u001b[38;5;34m0\u001b[0m][\u001b[38;5;34m0\u001b[0m]       │\n",
       "│ (\u001b[38;5;33mBatchNormalizatio…\u001b[0m │                   │            │                   │\n",
       "├─────────────────────┼───────────────────┼────────────┼───────────────────┤\n",
       "│ activation          │ (\u001b[38;5;45mNone\u001b[0m, \u001b[38;5;34m1024\u001b[0m)      │          \u001b[38;5;34m0\u001b[0m │ batch_normalizat… │\n",
       "│ (\u001b[38;5;33mActivation\u001b[0m)        │                   │            │                   │\n",
       "├─────────────────────┼───────────────────┼────────────┼───────────────────┤\n",
       "│ dropout (\u001b[38;5;33mDropout\u001b[0m)   │ (\u001b[38;5;45mNone\u001b[0m, \u001b[38;5;34m1024\u001b[0m)      │          \u001b[38;5;34m0\u001b[0m │ activation[\u001b[38;5;34m0\u001b[0m][\u001b[38;5;34m0\u001b[0m]  │\n",
       "├─────────────────────┼───────────────────┼────────────┼───────────────────┤\n",
       "│ dense_1 (\u001b[38;5;33mDense\u001b[0m)     │ (\u001b[38;5;45mNone\u001b[0m, \u001b[38;5;34m512\u001b[0m)       │    \u001b[38;5;34m524,800\u001b[0m │ dropout[\u001b[38;5;34m0\u001b[0m][\u001b[38;5;34m0\u001b[0m]     │\n",
       "├─────────────────────┼───────────────────┼────────────┼───────────────────┤\n",
       "│ batch_normalizatio… │ (\u001b[38;5;45mNone\u001b[0m, \u001b[38;5;34m512\u001b[0m)       │      \u001b[38;5;34m2,048\u001b[0m │ dense_1[\u001b[38;5;34m0\u001b[0m][\u001b[38;5;34m0\u001b[0m]     │\n",
       "│ (\u001b[38;5;33mBatchNormalizatio…\u001b[0m │                   │            │                   │\n",
       "├─────────────────────┼───────────────────┼────────────┼───────────────────┤\n",
       "│ activation_1        │ (\u001b[38;5;45mNone\u001b[0m, \u001b[38;5;34m512\u001b[0m)       │          \u001b[38;5;34m0\u001b[0m │ batch_normalizat… │\n",
       "│ (\u001b[38;5;33mActivation\u001b[0m)        │                   │            │                   │\n",
       "├─────────────────────┼───────────────────┼────────────┼───────────────────┤\n",
       "│ dropout_1 (\u001b[38;5;33mDropout\u001b[0m) │ (\u001b[38;5;45mNone\u001b[0m, \u001b[38;5;34m512\u001b[0m)       │          \u001b[38;5;34m0\u001b[0m │ activation_1[\u001b[38;5;34m0\u001b[0m][\u001b[38;5;34m…\u001b[0m │\n",
       "├─────────────────────┼───────────────────┼────────────┼───────────────────┤\n",
       "│ dense_2 (\u001b[38;5;33mDense\u001b[0m)     │ (\u001b[38;5;45mNone\u001b[0m, \u001b[38;5;34m512\u001b[0m)       │    \u001b[38;5;34m262,656\u001b[0m │ dropout_1[\u001b[38;5;34m0\u001b[0m][\u001b[38;5;34m0\u001b[0m]   │\n",
       "├─────────────────────┼───────────────────┼────────────┼───────────────────┤\n",
       "│ batch_normalizatio… │ (\u001b[38;5;45mNone\u001b[0m, \u001b[38;5;34m512\u001b[0m)       │      \u001b[38;5;34m2,048\u001b[0m │ dense_2[\u001b[38;5;34m0\u001b[0m][\u001b[38;5;34m0\u001b[0m]     │\n",
       "│ (\u001b[38;5;33mBatchNormalizatio…\u001b[0m │                   │            │                   │\n",
       "├─────────────────────┼───────────────────┼────────────┼───────────────────┤\n",
       "│ activation_2        │ (\u001b[38;5;45mNone\u001b[0m, \u001b[38;5;34m512\u001b[0m)       │          \u001b[38;5;34m0\u001b[0m │ batch_normalizat… │\n",
       "│ (\u001b[38;5;33mActivation\u001b[0m)        │                   │            │                   │\n",
       "├─────────────────────┼───────────────────┼────────────┼───────────────────┤\n",
       "│ dropout_2 (\u001b[38;5;33mDropout\u001b[0m) │ (\u001b[38;5;45mNone\u001b[0m, \u001b[38;5;34m512\u001b[0m)       │          \u001b[38;5;34m0\u001b[0m │ activation_2[\u001b[38;5;34m0\u001b[0m][\u001b[38;5;34m…\u001b[0m │\n",
       "├─────────────────────┼───────────────────┼────────────┼───────────────────┤\n",
       "│ add (\u001b[38;5;33mAdd\u001b[0m)           │ (\u001b[38;5;45mNone\u001b[0m, \u001b[38;5;34m512\u001b[0m)       │          \u001b[38;5;34m0\u001b[0m │ dropout_1[\u001b[38;5;34m0\u001b[0m][\u001b[38;5;34m0\u001b[0m],  │\n",
       "│                     │                   │            │ dropout_2[\u001b[38;5;34m0\u001b[0m][\u001b[38;5;34m0\u001b[0m]   │\n",
       "├─────────────────────┼───────────────────┼────────────┼───────────────────┤\n",
       "│ dense_3 (\u001b[38;5;33mDense\u001b[0m)     │ (\u001b[38;5;45mNone\u001b[0m, \u001b[38;5;34m256\u001b[0m)       │    \u001b[38;5;34m131,328\u001b[0m │ add[\u001b[38;5;34m0\u001b[0m][\u001b[38;5;34m0\u001b[0m]         │\n",
       "├─────────────────────┼───────────────────┼────────────┼───────────────────┤\n",
       "│ batch_normalizatio… │ (\u001b[38;5;45mNone\u001b[0m, \u001b[38;5;34m256\u001b[0m)       │      \u001b[38;5;34m1,024\u001b[0m │ dense_3[\u001b[38;5;34m0\u001b[0m][\u001b[38;5;34m0\u001b[0m]     │\n",
       "│ (\u001b[38;5;33mBatchNormalizatio…\u001b[0m │                   │            │                   │\n",
       "├─────────────────────┼───────────────────┼────────────┼───────────────────┤\n",
       "│ activation_3        │ (\u001b[38;5;45mNone\u001b[0m, \u001b[38;5;34m256\u001b[0m)       │          \u001b[38;5;34m0\u001b[0m │ batch_normalizat… │\n",
       "│ (\u001b[38;5;33mActivation\u001b[0m)        │                   │            │                   │\n",
       "├─────────────────────┼───────────────────┼────────────┼───────────────────┤\n",
       "│ dropout_3 (\u001b[38;5;33mDropout\u001b[0m) │ (\u001b[38;5;45mNone\u001b[0m, \u001b[38;5;34m256\u001b[0m)       │          \u001b[38;5;34m0\u001b[0m │ activation_3[\u001b[38;5;34m0\u001b[0m][\u001b[38;5;34m…\u001b[0m │\n",
       "├─────────────────────┼───────────────────┼────────────┼───────────────────┤\n",
       "│ dense_4 (\u001b[38;5;33mDense\u001b[0m)     │ (\u001b[38;5;45mNone\u001b[0m, \u001b[38;5;34m128\u001b[0m)       │     \u001b[38;5;34m32,896\u001b[0m │ dropout_3[\u001b[38;5;34m0\u001b[0m][\u001b[38;5;34m0\u001b[0m]   │\n",
       "├─────────────────────┼───────────────────┼────────────┼───────────────────┤\n",
       "│ batch_normalizatio… │ (\u001b[38;5;45mNone\u001b[0m, \u001b[38;5;34m128\u001b[0m)       │        \u001b[38;5;34m512\u001b[0m │ dense_4[\u001b[38;5;34m0\u001b[0m][\u001b[38;5;34m0\u001b[0m]     │\n",
       "│ (\u001b[38;5;33mBatchNormalizatio…\u001b[0m │                   │            │                   │\n",
       "├─────────────────────┼───────────────────┼────────────┼───────────────────┤\n",
       "│ activation_4        │ (\u001b[38;5;45mNone\u001b[0m, \u001b[38;5;34m128\u001b[0m)       │          \u001b[38;5;34m0\u001b[0m │ batch_normalizat… │\n",
       "│ (\u001b[38;5;33mActivation\u001b[0m)        │                   │            │                   │\n",
       "├─────────────────────┼───────────────────┼────────────┼───────────────────┤\n",
       "│ dropout_4 (\u001b[38;5;33mDropout\u001b[0m) │ (\u001b[38;5;45mNone\u001b[0m, \u001b[38;5;34m128\u001b[0m)       │          \u001b[38;5;34m0\u001b[0m │ activation_4[\u001b[38;5;34m0\u001b[0m][\u001b[38;5;34m…\u001b[0m │\n",
       "├─────────────────────┼───────────────────┼────────────┼───────────────────┤\n",
       "│ dense_5 (\u001b[38;5;33mDense\u001b[0m)     │ (\u001b[38;5;45mNone\u001b[0m, \u001b[38;5;34m12\u001b[0m)        │      \u001b[38;5;34m1,548\u001b[0m │ dropout_4[\u001b[38;5;34m0\u001b[0m][\u001b[38;5;34m0\u001b[0m]   │\n",
       "└─────────────────────┴───────────────────┴────────────┴───────────────────┘\n"
      ]
     },
     "metadata": {},
     "output_type": "display_data"
    },
    {
     "data": {
      "text/html": [
       "<pre style=\"white-space:pre;overflow-x:auto;line-height:normal;font-family:Menlo,'DejaVu Sans Mono',consolas,'Courier New',monospace\"><span style=\"font-weight: bold\"> Total params: </span><span style=\"color: #00af00; text-decoration-color: #00af00\">1,029,516</span> (3.93 MB)\n",
       "</pre>\n"
      ],
      "text/plain": [
       "\u001b[1m Total params: \u001b[0m\u001b[38;5;34m1,029,516\u001b[0m (3.93 MB)\n"
      ]
     },
     "metadata": {},
     "output_type": "display_data"
    },
    {
     "data": {
      "text/html": [
       "<pre style=\"white-space:pre;overflow-x:auto;line-height:normal;font-family:Menlo,'DejaVu Sans Mono',consolas,'Courier New',monospace\"><span style=\"font-weight: bold\"> Trainable params: </span><span style=\"color: #00af00; text-decoration-color: #00af00\">1,024,652</span> (3.91 MB)\n",
       "</pre>\n"
      ],
      "text/plain": [
       "\u001b[1m Trainable params: \u001b[0m\u001b[38;5;34m1,024,652\u001b[0m (3.91 MB)\n"
      ]
     },
     "metadata": {},
     "output_type": "display_data"
    },
    {
     "data": {
      "text/html": [
       "<pre style=\"white-space:pre;overflow-x:auto;line-height:normal;font-family:Menlo,'DejaVu Sans Mono',consolas,'Courier New',monospace\"><span style=\"font-weight: bold\"> Non-trainable params: </span><span style=\"color: #00af00; text-decoration-color: #00af00\">4,864</span> (19.00 KB)\n",
       "</pre>\n"
      ],
      "text/plain": [
       "\u001b[1m Non-trainable params: \u001b[0m\u001b[38;5;34m4,864\u001b[0m (19.00 KB)\n"
      ]
     },
     "metadata": {},
     "output_type": "display_data"
    },
    {
     "name": "stdout",
     "output_type": "stream",
     "text": [
      "Epoch 1/50\n",
      "\u001b[1m3148/3148\u001b[0m \u001b[32m━━━━━━━━━━━━━━━━━━━━\u001b[0m\u001b[37m\u001b[0m \u001b[1m34s\u001b[0m 10ms/step - accuracy: 0.2094 - loss: 2.3291 - val_accuracy: 0.2989 - val_loss: 2.0363 - learning_rate: 3.0000e-04\n",
      "Epoch 2/50\n",
      "\u001b[1m3148/3148\u001b[0m \u001b[32m━━━━━━━━━━━━━━━━━━━━\u001b[0m\u001b[37m\u001b[0m \u001b[1m31s\u001b[0m 10ms/step - accuracy: 0.2903 - loss: 2.0323 - val_accuracy: 0.3190 - val_loss: 1.9101 - learning_rate: 3.0000e-04\n",
      "Epoch 3/50\n",
      "\u001b[1m3148/3148\u001b[0m \u001b[32m━━━━━━━━━━━━━━━━━━━━\u001b[0m\u001b[37m\u001b[0m \u001b[1m30s\u001b[0m 10ms/step - accuracy: 0.3090 - loss: 1.9618 - val_accuracy: 0.3316 - val_loss: 1.8701 - learning_rate: 3.0000e-04\n",
      "Epoch 4/50\n",
      "\u001b[1m3148/3148\u001b[0m \u001b[32m━━━━━━━━━━━━━━━━━━━━\u001b[0m\u001b[37m\u001b[0m \u001b[1m31s\u001b[0m 10ms/step - accuracy: 0.3250 - loss: 1.9130 - val_accuracy: 0.3293 - val_loss: 1.8988 - learning_rate: 3.0000e-04\n",
      "Epoch 5/50\n",
      "\u001b[1m3148/3148\u001b[0m \u001b[32m━━━━━━━━━━━━━━━━━━━━\u001b[0m\u001b[37m\u001b[0m \u001b[1m30s\u001b[0m 10ms/step - accuracy: 0.3328 - loss: 1.8818 - val_accuracy: 0.3387 - val_loss: 1.8522 - learning_rate: 3.0000e-04\n",
      "Epoch 6/50\n",
      "\u001b[1m3148/3148\u001b[0m \u001b[32m━━━━━━━━━━━━━━━━━━━━\u001b[0m\u001b[37m\u001b[0m \u001b[1m34s\u001b[0m 11ms/step - accuracy: 0.3405 - loss: 1.8537 - val_accuracy: 0.3643 - val_loss: 1.7635 - learning_rate: 3.0000e-04\n",
      "Epoch 7/50\n",
      "\u001b[1m3148/3148\u001b[0m \u001b[32m━━━━━━━━━━━━━━━━━━━━\u001b[0m\u001b[37m\u001b[0m \u001b[1m30s\u001b[0m 10ms/step - accuracy: 0.3480 - loss: 1.8308 - val_accuracy: 0.3555 - val_loss: 1.7893 - learning_rate: 3.0000e-04\n",
      "Epoch 8/50\n",
      "\u001b[1m3148/3148\u001b[0m \u001b[32m━━━━━━━━━━━━━━━━━━━━\u001b[0m\u001b[37m\u001b[0m \u001b[1m30s\u001b[0m 10ms/step - accuracy: 0.3566 - loss: 1.8074 - val_accuracy: 0.3402 - val_loss: 1.8875 - learning_rate: 3.0000e-04\n",
      "Epoch 9/50\n",
      "\u001b[1m3148/3148\u001b[0m \u001b[32m━━━━━━━━━━━━━━━━━━━━\u001b[0m\u001b[37m\u001b[0m \u001b[1m29s\u001b[0m 9ms/step - accuracy: 0.3623 - loss: 1.7891 - val_accuracy: 0.3701 - val_loss: 1.7617 - learning_rate: 3.0000e-04\n",
      "Epoch 10/50\n",
      "\u001b[1m3148/3148\u001b[0m \u001b[32m━━━━━━━━━━━━━━━━━━━━\u001b[0m\u001b[37m\u001b[0m \u001b[1m29s\u001b[0m 9ms/step - accuracy: 0.3658 - loss: 1.7782 - val_accuracy: 0.3805 - val_loss: 1.7065 - learning_rate: 3.0000e-04\n",
      "Epoch 11/50\n",
      "\u001b[1m3148/3148\u001b[0m \u001b[32m━━━━━━━━━━━━━━━━━━━━\u001b[0m\u001b[37m\u001b[0m \u001b[1m29s\u001b[0m 9ms/step - accuracy: 0.3746 - loss: 1.7551 - val_accuracy: 0.3634 - val_loss: 1.7581 - learning_rate: 3.0000e-04\n",
      "Epoch 12/50\n",
      "\u001b[1m3148/3148\u001b[0m \u001b[32m━━━━━━━━━━━━━━━━━━━━\u001b[0m\u001b[37m\u001b[0m \u001b[1m30s\u001b[0m 9ms/step - accuracy: 0.3774 - loss: 1.7438 - val_accuracy: 0.3917 - val_loss: 1.6759 - learning_rate: 3.0000e-04\n",
      "Epoch 13/50\n",
      "\u001b[1m3148/3148\u001b[0m \u001b[32m━━━━━━━━━━━━━━━━━━━━\u001b[0m\u001b[37m\u001b[0m \u001b[1m30s\u001b[0m 9ms/step - accuracy: 0.3816 - loss: 1.7327 - val_accuracy: 0.3773 - val_loss: 1.7554 - learning_rate: 3.0000e-04\n",
      "Epoch 14/50\n",
      "\u001b[1m3148/3148\u001b[0m \u001b[32m━━━━━━━━━━━━━━━━━━━━\u001b[0m\u001b[37m\u001b[0m \u001b[1m30s\u001b[0m 9ms/step - accuracy: 0.3854 - loss: 1.7179 - val_accuracy: 0.3673 - val_loss: 1.7484 - learning_rate: 3.0000e-04\n",
      "Epoch 15/50\n",
      "\u001b[1m3148/3148\u001b[0m \u001b[32m━━━━━━━━━━━━━━━━━━━━\u001b[0m\u001b[37m\u001b[0m \u001b[1m29s\u001b[0m 9ms/step - accuracy: 0.3897 - loss: 1.7049 - val_accuracy: 0.3990 - val_loss: 1.6515 - learning_rate: 3.0000e-04\n",
      "Epoch 16/50\n",
      "\u001b[1m3148/3148\u001b[0m \u001b[32m━━━━━━━━━━━━━━━━━━━━\u001b[0m\u001b[37m\u001b[0m \u001b[1m31s\u001b[0m 10ms/step - accuracy: 0.3924 - loss: 1.6933 - val_accuracy: 0.4000 - val_loss: 1.6529 - learning_rate: 3.0000e-04\n",
      "Epoch 17/50\n",
      "\u001b[1m3148/3148\u001b[0m \u001b[32m━━━━━━━━━━━━━━━━━━━━\u001b[0m\u001b[37m\u001b[0m \u001b[1m29s\u001b[0m 9ms/step - accuracy: 0.3957 - loss: 1.6897 - val_accuracy: 0.3962 - val_loss: 1.6642 - learning_rate: 3.0000e-04\n",
      "Epoch 18/50\n",
      "\u001b[1m3148/3148\u001b[0m \u001b[32m━━━━━━━━━━━━━━━━━━━━\u001b[0m\u001b[37m\u001b[0m \u001b[1m29s\u001b[0m 9ms/step - accuracy: 0.3995 - loss: 1.6780 - val_accuracy: 0.4143 - val_loss: 1.5973 - learning_rate: 3.0000e-04\n",
      "Epoch 19/50\n",
      "\u001b[1m3148/3148\u001b[0m \u001b[32m━━━━━━━━━━━━━━━━━━━━\u001b[0m\u001b[37m\u001b[0m \u001b[1m29s\u001b[0m 9ms/step - accuracy: 0.4011 - loss: 1.6671 - val_accuracy: 0.4159 - val_loss: 1.6234 - learning_rate: 3.0000e-04\n",
      "Epoch 20/50\n",
      "\u001b[1m3148/3148\u001b[0m \u001b[32m━━━━━━━━━━━━━━━━━━━━\u001b[0m\u001b[37m\u001b[0m \u001b[1m29s\u001b[0m 9ms/step - accuracy: 0.4071 - loss: 1.6578 - val_accuracy: 0.4310 - val_loss: 1.5577 - learning_rate: 3.0000e-04\n",
      "Epoch 21/50\n",
      "\u001b[1m3148/3148\u001b[0m \u001b[32m━━━━━━━━━━━━━━━━━━━━\u001b[0m\u001b[37m\u001b[0m \u001b[1m30s\u001b[0m 9ms/step - accuracy: 0.4106 - loss: 1.6463 - val_accuracy: 0.4267 - val_loss: 1.5691 - learning_rate: 3.0000e-04\n",
      "Epoch 22/50\n",
      "\u001b[1m3148/3148\u001b[0m \u001b[32m━━━━━━━━━━━━━━━━━━━━\u001b[0m\u001b[37m\u001b[0m \u001b[1m29s\u001b[0m 9ms/step - accuracy: 0.4104 - loss: 1.6421 - val_accuracy: 0.4304 - val_loss: 1.5673 - learning_rate: 3.0000e-04\n",
      "Epoch 23/50\n",
      "\u001b[1m3144/3148\u001b[0m \u001b[32m━━━━━━━━━━━━━━━━━━━\u001b[0m\u001b[37m━\u001b[0m \u001b[1m0s\u001b[0m 9ms/step - accuracy: 0.4134 - loss: 1.6375\n",
      "Epoch 23: ReduceLROnPlateau reducing learning rate to 9.000000427477062e-05.\n",
      "\u001b[1m3148/3148\u001b[0m \u001b[32m━━━━━━━━━━━━━━━━━━━━\u001b[0m\u001b[37m\u001b[0m \u001b[1m30s\u001b[0m 9ms/step - accuracy: 0.4134 - loss: 1.6375 - val_accuracy: 0.4220 - val_loss: 1.5926 - learning_rate: 3.0000e-04\n",
      "Epoch 24/50\n",
      "\u001b[1m3148/3148\u001b[0m \u001b[32m━━━━━━━━━━━━━━━━━━━━\u001b[0m\u001b[37m\u001b[0m \u001b[1m31s\u001b[0m 10ms/step - accuracy: 0.4194 - loss: 1.6173 - val_accuracy: 0.4580 - val_loss: 1.4830 - learning_rate: 9.0000e-05\n",
      "Epoch 25/50\n",
      "\u001b[1m3148/3148\u001b[0m \u001b[32m━━━━━━━━━━━━━━━━━━━━\u001b[0m\u001b[37m\u001b[0m \u001b[1m32s\u001b[0m 10ms/step - accuracy: 0.4254 - loss: 1.5996 - val_accuracy: 0.4635 - val_loss: 1.4709 - learning_rate: 9.0000e-05\n",
      "Epoch 26/50\n",
      "\u001b[1m3148/3148\u001b[0m \u001b[32m━━━━━━━━━━━━━━━━━━━━\u001b[0m\u001b[37m\u001b[0m \u001b[1m31s\u001b[0m 10ms/step - accuracy: 0.4255 - loss: 1.5977 - val_accuracy: 0.4612 - val_loss: 1.4721 - learning_rate: 9.0000e-05\n",
      "Epoch 27/50\n",
      "\u001b[1m3148/3148\u001b[0m \u001b[32m━━━━━━━━━━━━━━━━━━━━\u001b[0m\u001b[37m\u001b[0m \u001b[1m30s\u001b[0m 10ms/step - accuracy: 0.4271 - loss: 1.5931 - val_accuracy: 0.4636 - val_loss: 1.4683 - learning_rate: 9.0000e-05\n",
      "Epoch 28/50\n",
      "\u001b[1m3148/3148\u001b[0m \u001b[32m━━━━━━━━━━━━━━━━━━━━\u001b[0m\u001b[37m\u001b[0m \u001b[1m29s\u001b[0m 9ms/step - accuracy: 0.4282 - loss: 1.5892 - val_accuracy: 0.4656 - val_loss: 1.4600 - learning_rate: 9.0000e-05\n",
      "Epoch 29/50\n",
      "\u001b[1m3148/3148\u001b[0m \u001b[32m━━━━━━━━━━━━━━━━━━━━\u001b[0m\u001b[37m\u001b[0m \u001b[1m29s\u001b[0m 9ms/step - accuracy: 0.4301 - loss: 1.5834 - val_accuracy: 0.4705 - val_loss: 1.4433 - learning_rate: 9.0000e-05\n",
      "Epoch 30/50\n",
      "\u001b[1m3148/3148\u001b[0m \u001b[32m━━━━━━━━━━━━━━━━━━━━\u001b[0m\u001b[37m\u001b[0m \u001b[1m29s\u001b[0m 9ms/step - accuracy: 0.4316 - loss: 1.5751 - val_accuracy: 0.4712 - val_loss: 1.4399 - learning_rate: 9.0000e-05\n",
      "Epoch 31/50\n",
      "\u001b[1m3148/3148\u001b[0m \u001b[32m━━━━━━━━━━━━━━━━━━━━\u001b[0m\u001b[37m\u001b[0m \u001b[1m30s\u001b[0m 10ms/step - accuracy: 0.4344 - loss: 1.5750 - val_accuracy: 0.4734 - val_loss: 1.4354 - learning_rate: 9.0000e-05\n",
      "Epoch 32/50\n",
      "\u001b[1m3148/3148\u001b[0m \u001b[32m━━━━━━━━━━━━━━━━━━━━\u001b[0m\u001b[37m\u001b[0m \u001b[1m30s\u001b[0m 9ms/step - accuracy: 0.4340 - loss: 1.5722 - val_accuracy: 0.4682 - val_loss: 1.4509 - learning_rate: 9.0000e-05\n",
      "Epoch 33/50\n",
      "\u001b[1m3148/3148\u001b[0m \u001b[32m━━━━━━━━━━━━━━━━━━━━\u001b[0m\u001b[37m\u001b[0m \u001b[1m29s\u001b[0m 9ms/step - accuracy: 0.4358 - loss: 1.5683 - val_accuracy: 0.4735 - val_loss: 1.4335 - learning_rate: 9.0000e-05\n",
      "Epoch 34/50\n",
      "\u001b[1m3148/3148\u001b[0m \u001b[32m━━━━━━━━━━━━━━━━━━━━\u001b[0m\u001b[37m\u001b[0m \u001b[1m30s\u001b[0m 9ms/step - accuracy: 0.4375 - loss: 1.5665 - val_accuracy: 0.4756 - val_loss: 1.4291 - learning_rate: 9.0000e-05\n",
      "Epoch 35/50\n",
      "\u001b[1m3148/3148\u001b[0m \u001b[32m━━━━━━━━━━━━━━━━━━━━\u001b[0m\u001b[37m\u001b[0m \u001b[1m30s\u001b[0m 10ms/step - accuracy: 0.4353 - loss: 1.5657 - val_accuracy: 0.4770 - val_loss: 1.4266 - learning_rate: 9.0000e-05\n",
      "Epoch 36/50\n",
      "\u001b[1m3148/3148\u001b[0m \u001b[32m━━━━━━━━━━━━━━━━━━━━\u001b[0m\u001b[37m\u001b[0m \u001b[1m30s\u001b[0m 9ms/step - accuracy: 0.4396 - loss: 1.5586 - val_accuracy: 0.4751 - val_loss: 1.4277 - learning_rate: 9.0000e-05\n",
      "Epoch 37/50\n",
      "\u001b[1m3148/3148\u001b[0m \u001b[32m━━━━━━━━━━━━━━━━━━━━\u001b[0m\u001b[37m\u001b[0m \u001b[1m29s\u001b[0m 9ms/step - accuracy: 0.4366 - loss: 1.5623 - val_accuracy: 0.4782 - val_loss: 1.4172 - learning_rate: 9.0000e-05\n",
      "Epoch 38/50\n",
      "\u001b[1m3148/3148\u001b[0m \u001b[32m━━━━━━━━━━━━━━━━━━━━\u001b[0m\u001b[37m\u001b[0m \u001b[1m30s\u001b[0m 10ms/step - accuracy: 0.4407 - loss: 1.5572 - val_accuracy: 0.4770 - val_loss: 1.4205 - learning_rate: 9.0000e-05\n",
      "Epoch 39/50\n",
      "\u001b[1m3148/3148\u001b[0m \u001b[32m━━━━━━━━━━━━━━━━━━━━\u001b[0m\u001b[37m\u001b[0m \u001b[1m30s\u001b[0m 9ms/step - accuracy: 0.4418 - loss: 1.5547 - val_accuracy: 0.4741 - val_loss: 1.4364 - learning_rate: 9.0000e-05\n",
      "Epoch 40/50\n",
      "\u001b[1m3144/3148\u001b[0m \u001b[32m━━━━━━━━━━━━━━━━━━━\u001b[0m\u001b[37m━\u001b[0m \u001b[1m0s\u001b[0m 9ms/step - accuracy: 0.4408 - loss: 1.5522\n",
      "Epoch 40: ReduceLROnPlateau reducing learning rate to 2.700000040931627e-05.\n",
      "\u001b[1m3148/3148\u001b[0m \u001b[32m━━━━━━━━━━━━━━━━━━━━\u001b[0m\u001b[37m\u001b[0m \u001b[1m30s\u001b[0m 10ms/step - accuracy: 0.4408 - loss: 1.5523 - val_accuracy: 0.4815 - val_loss: 1.4185 - learning_rate: 9.0000e-05\n",
      "Epoch 41/50\n",
      "\u001b[1m3148/3148\u001b[0m \u001b[32m━━━━━━━━━━━━━━━━━━━━\u001b[0m\u001b[37m\u001b[0m \u001b[1m29s\u001b[0m 9ms/step - accuracy: 0.4440 - loss: 1.5438 - val_accuracy: 0.4832 - val_loss: 1.4096 - learning_rate: 2.7000e-05\n",
      "Epoch 42/50\n",
      "\u001b[1m3148/3148\u001b[0m \u001b[32m━━━━━━━━━━━━━━━━━━━━\u001b[0m\u001b[37m\u001b[0m \u001b[1m30s\u001b[0m 10ms/step - accuracy: 0.4420 - loss: 1.5485 - val_accuracy: 0.4824 - val_loss: 1.4102 - learning_rate: 2.7000e-05\n",
      "Epoch 43/50\n",
      "\u001b[1m3148/3148\u001b[0m \u001b[32m━━━━━━━━━━━━━━━━━━━━\u001b[0m\u001b[37m\u001b[0m \u001b[1m30s\u001b[0m 10ms/step - accuracy: 0.4440 - loss: 1.5413 - val_accuracy: 0.4841 - val_loss: 1.4044 - learning_rate: 2.7000e-05\n",
      "Epoch 44/50\n",
      "\u001b[1m3148/3148\u001b[0m \u001b[32m━━━━━━━━━━━━━━━━━━━━\u001b[0m\u001b[37m\u001b[0m \u001b[1m30s\u001b[0m 10ms/step - accuracy: 0.4454 - loss: 1.5400 - val_accuracy: 0.4838 - val_loss: 1.4088 - learning_rate: 2.7000e-05\n",
      "Epoch 45/50\n",
      "\u001b[1m3148/3148\u001b[0m \u001b[32m━━━━━━━━━━━━━━━━━━━━\u001b[0m\u001b[37m\u001b[0m \u001b[1m29s\u001b[0m 9ms/step - accuracy: 0.4461 - loss: 1.5360 - val_accuracy: 0.4845 - val_loss: 1.4054 - learning_rate: 2.7000e-05\n",
      "Epoch 46/50\n",
      "\u001b[1m3148/3148\u001b[0m \u001b[32m━━━━━━━━━━━━━━━━━━━━\u001b[0m\u001b[37m\u001b[0m \u001b[1m30s\u001b[0m 9ms/step - accuracy: 0.4470 - loss: 1.5366 - val_accuracy: 0.4856 - val_loss: 1.4015 - learning_rate: 2.7000e-05\n",
      "Epoch 47/50\n",
      "\u001b[1m3148/3148\u001b[0m \u001b[32m━━━━━━━━━━━━━━━━━━━━\u001b[0m\u001b[37m\u001b[0m \u001b[1m29s\u001b[0m 9ms/step - accuracy: 0.4462 - loss: 1.5383 - val_accuracy: 0.4848 - val_loss: 1.4018 - learning_rate: 2.7000e-05\n",
      "Epoch 48/50\n",
      "\u001b[1m3148/3148\u001b[0m \u001b[32m━━━━━━━━━━━━━━━━━━━━\u001b[0m\u001b[37m\u001b[0m \u001b[1m30s\u001b[0m 10ms/step - accuracy: 0.4478 - loss: 1.5316 - val_accuracy: 0.4869 - val_loss: 1.3995 - learning_rate: 2.7000e-05\n",
      "Epoch 49/50\n",
      "\u001b[1m3148/3148\u001b[0m \u001b[32m━━━━━━━━━━━━━━━━━━━━\u001b[0m\u001b[37m\u001b[0m \u001b[1m30s\u001b[0m 10ms/step - accuracy: 0.4486 - loss: 1.5333 - val_accuracy: 0.4869 - val_loss: 1.4006 - learning_rate: 2.7000e-05\n",
      "Epoch 50/50\n",
      "\u001b[1m3148/3148\u001b[0m \u001b[32m━━━━━━━━━━━━━━━━━━━━\u001b[0m\u001b[37m\u001b[0m \u001b[1m31s\u001b[0m 10ms/step - accuracy: 0.4478 - loss: 1.5327 - val_accuracy: 0.4878 - val_loss: 1.3983 - learning_rate: 2.7000e-05\n",
      "\u001b[1m1574/1574\u001b[0m \u001b[32m━━━━━━━━━━━━━━━━━━━━\u001b[0m\u001b[37m\u001b[0m \u001b[1m3s\u001b[0m 2ms/step\n"
     ]
    },
    {
     "name": "stderr",
     "output_type": "stream",
     "text": [
      "WARNING:absl:You are saving your model as an HDF5 file via `model.save()` or `keras.saving.save_model(model)`. This file format is considered legacy. We recommend using instead the native Keras format, e.g. `model.save('my_model.keras')` or `keras.saving.save_model(model, 'my_model.keras')`. \n"
     ]
    },
    {
     "name": "stdout",
     "output_type": "stream",
     "text": [
      "\n",
      "MLP Classification Report:\n",
      "               precision    recall  f1-score   support\n",
      "\n",
      "           0       0.53      0.61      0.57      5355\n",
      "           1       0.43      0.40      0.42      3715\n",
      "           2       0.40      0.05      0.09      2701\n",
      "           3       0.41      0.50      0.45      2830\n",
      "           4       0.63      0.77      0.69      5357\n",
      "           5       0.49      0.63      0.55      5364\n",
      "           6       0.44      0.27      0.34      5402\n",
      "           7       0.48      0.35      0.41      3688\n",
      "           8       0.46      0.71      0.56      5332\n",
      "           9       0.62      0.46      0.53      2232\n",
      "          10       0.42      0.43      0.43      5345\n",
      "          11       0.42      0.27      0.33      3033\n",
      "\n",
      "    accuracy                           0.49     50354\n",
      "   macro avg       0.48      0.46      0.45     50354\n",
      "weighted avg       0.48      0.49      0.47     50354\n",
      "\n",
      "\n",
      "MLP Confusion Matrix:\n",
      " [[3271  176   11  167  188  355  130  147  495  109  248   58]\n",
      " [ 238 1498    7  194  237  453  175  224  363   53  176   97]\n",
      " [ 187  197  138  153  171  199  414  160  271   27  668  116]\n",
      " [ 205   92    0 1423  119  257   63   54  321   63  142   91]\n",
      " [ 178   70    5   81 4131  268   63   55  334   31  100   41]\n",
      " [ 292  104    2  145  277 3392  147   80  553   74  232   66]\n",
      " [ 428  413   92  285  309  442 1469  263  516   30  899  256]\n",
      " [ 342  254    9  235  178  391  128 1299  404  107  222  119]\n",
      " [ 210   91    1  114  404  382   72   71 3772   29  146   40]\n",
      " [ 209   62    1   83   97  324   43   39  233 1029   79   33]\n",
      " [ 332  351   70  282  323  276  456  188  481   38 2319  229]\n",
      " [ 264  146    5  304  143  244  192  138  392   77  308  820]]\n"
     ]
    }
   ],
   "source": [
    "# ===== DEEP RESIDUAL MLP BLOCK =====\n",
    "input_layer = Input(shape=(64,))\n",
    "\n",
    "# Block 1\n",
    "x = Dense(1024)(input_layer)\n",
    "x = BatchNormalization()(x)\n",
    "x = Activation('relu')(x)\n",
    "x = Dropout(0.5)(x)\n",
    "\n",
    "# Block 2\n",
    "x1 = Dense(512)(x)\n",
    "x1 = BatchNormalization()(x1)\n",
    "x1 = Activation('relu')(x1)\n",
    "x1 = Dropout(0.4)(x1)\n",
    "\n",
    "# Residual block (x1 → x2)\n",
    "x2 = Dense(512)(x1)\n",
    "x2 = BatchNormalization()(x2)\n",
    "x2 = Activation('relu')(x2)\n",
    "x2 = Dropout(0.3)(x2)\n",
    "\n",
    "res1 = Add()([x1, x2])  # Skip connection\n",
    "\n",
    "# Block 3\n",
    "x3 = Dense(256)(res1)\n",
    "x3 = BatchNormalization()(x3)\n",
    "x3 = Activation('relu')(x3)\n",
    "x3 = Dropout(0.3)(x3)\n",
    "\n",
    "# Block 4\n",
    "x4 = Dense(128)(x3)\n",
    "x4 = BatchNormalization()(x4)\n",
    "x4 = Activation('relu')(x4)\n",
    "x4 = Dropout(0.2)(x4)\n",
    "\n",
    "# Output\n",
    "output_layer = Dense(y.shape[1], activation='softmax')(x4)\n",
    "\n",
    "# Build model\n",
    "mlp_model = Model(inputs=input_layer, outputs=output_layer)\n",
    "\n",
    "mlp_model.compile(\n",
    "    optimizer=Adam(learning_rate=3e-4),  # Slightly higher LR due to BN\n",
    "    loss='categorical_crossentropy',\n",
    "    metrics=['accuracy']\n",
    ")\n",
    "\n",
    "mlp_model.summary()\n",
    "\n",
    "# ===== CALLBACKS =====\n",
    "mlp_callbacks = [\n",
    "    EarlyStopping(monitor='val_loss', patience=7, restore_best_weights=True),\n",
    "    ReduceLROnPlateau(monitor='val_loss', patience=3, factor=0.3, verbose=1)\n",
    "]\n",
    "\n",
    "# ===== TRAIN =====\n",
    "mlp_history = mlp_model.fit(\n",
    "    X_train_mlp, y_train,\n",
    "    validation_data=(X_test_mlp, y_test),\n",
    "    epochs=50,\n",
    "    batch_size=64,\n",
    "    callbacks=mlp_callbacks\n",
    ")\n",
    "\n",
    "# ===== EVALUATE =====\n",
    "y_pred_probs_mlp = mlp_model.predict(X_test_mlp)\n",
    "y_pred_mlp = np.argmax(y_pred_probs_mlp, axis=1)\n",
    "y_true_mlp = np.argmax(y_test, axis=1)\n",
    "\n",
    "print(\"\\nMLP Classification Report:\\n\", classification_report(y_true_mlp, y_pred_mlp))\n",
    "print(\"\\nMLP Confusion Matrix:\\n\", confusion_matrix(y_true_mlp, y_pred_mlp))\n",
    "\n",
    "# ===== SAVE =====\n",
    "mlp_model.save(\"ultra_mlp_out_of_tune_model.h5\")\n"
   ]
  },
  {
   "cell_type": "code",
   "execution_count": 30,
   "id": "3b7ee04f",
   "metadata": {},
   "outputs": [
    {
     "data": {
      "image/png": "[encoded data removed]",
      "text/plain": [
       "<Figure size 1000x500 with 1 Axes>"
      ]
     },
     "metadata": {},
     "output_type": "display_data"
    }
   ],
   "source": [
    "# ===== PLOT =====\n",
    "plt.figure(figsize=(10,5))\n",
    "plt.plot(mlp_history.history['accuracy'], label='Train Acc (MLP)')\n",
    "plt.plot(mlp_history.history['val_accuracy'], label='Val Acc (MLP)')\n",
    "plt.xlabel('Epoch')\n",
    "plt.ylabel('Accuracy')\n",
    "plt.legend()\n",
    "plt.title('Ultra MLP Training Performance')\n",
    "plt.grid()\n",
    "plt.show()"
   ]
  }
 ],
 "metadata": {
  "kernelspec": {
   "display_name": "base",
   "language": "python",
   "name": "python3"
  },
  "language_info": {
   "codemirror_mode": {
    "name": "ipython",
    "version": 3
   },
   "file_extension": ".py",
   "mimetype": "text/x-python",
   "name": "python",
   "nbconvert_exporter": "python",
   "pygments_lexer": "ipython3",
   "version": "3.12.3"
  }
 },
 "nbformat": 4,
 "nbformat_minor": 5
}
