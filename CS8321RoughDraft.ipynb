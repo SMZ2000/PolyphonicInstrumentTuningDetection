{
 "cells": [
  {
   "cell_type": "markdown",
   "id": "1e7d169e",
   "metadata": {},
   "source": [
    "We began by organizing all the core libraries we knew we’d rely on throughout the pipeline. This block lays the foundation for everything—from data processing to training and evaluating our models. Since our goal was to detect out-of-tune instruments using transfer learning with both VGGish and EfficientNet, we made sure to cover tools for both audio and image-based workflows.\n",
    "\n",
    "We brought in standard Python libraries like os, numpy, and pandas to handle file structures, numerical computations, and dataframes, respectively. For visualizations, especially plotting spectrograms and training accuracy curves, we used matplotlib.pyplot, and for any image-related manipulations, we included PIL.Image.\n",
    "\n",
    "For preprocessing and evaluation, we used scikit-learn tools like train_test_split for splitting our dataset, LabelEncoder for turning instrument labels into numerical form, and classification_report and confusion_matrix to help us understand how well our models performed later on.\n",
    "\n",
    "Since our modeling was centered around deep learning, we used TensorFlow and Keras as our main frameworks. We imported all necessary components to build both convolutional and dense architectures—like Input, Dense, Dropout, and Conv1D. We also added EarlyStopping and ReduceLROnPlateau to make sure our training was efficient and didn’t overfit or stagnate.\n",
    "\n",
    "Finally, we included librosa for all our audio-specific needs, like loading .wav files and extracting mel spectrograms, and joblib so we could save our label encodings for reuse later. This import block may look standard, but for us, it was about setting up a toolkit that could handle the unique nature of our problem—analyzing audio in a polyphonic setting and translating that into a classification task."
   ]
  },
  {
   "cell_type": "code",
   "execution_count": 4,
   "id": "3124d360",
   "metadata": {},
   "outputs": [],
   "source": [
    "# Out-of-Tune Instrument Detection using VGGish & EfficientNet\n",
    "\n",
    "import os\n",
    "import numpy as np\n",
    "import pandas as pd\n",
    "from PIL import Image\n",
    "import matplotlib.pyplot as plt\n",
    "import tensorflow as tf\n",
    "import tensorflow_hub as hub\n",
    "\n",
    "from sklearn.model_selection import train_test_split\n",
    "from sklearn.preprocessing import LabelEncoder\n",
    "from sklearn.metrics import classification_report, confusion_matrix\n",
    "from tensorflow.keras.utils import to_categorical\n",
    "\n",
    "from tensorflow.keras.models import Model\n",
    "from tensorflow.keras.callbacks import EarlyStopping, ReduceLROnPlateau\n",
    "from tensorflow.keras.optimizers import Adam\n",
    "import joblib\n",
    "import librosa\n",
    "from tensorflow.keras.layers import Input, Dense, Dropout, Conv1D, MaxPooling1D, GlobalAveragePooling1D\n"
   ]
  },
  {
   "cell_type": "markdown",
   "id": "1adffec1",
   "metadata": {},
   "source": [
    "Once we had our libraries in place, the next thing we did was set up all the key configuration values that would drive our audio processing pipeline. This section of the code below essentially defines the behavior of our feature extraction and helps standardize the input format for our models.\n",
    "\n",
    "We began by specifying the path to our audio dataset (AUDIO_DIR) and the corresponding labels CSV (LABELS_CSV). These .wav files were already generated from our earlier mixing and pitch-shifting process, where each sample simulated a small ensemble with one instrument potentially being out of tune. The labels.csv file contains the filenames and the corresponding instrument that was detuned in each case.\n",
    "\n",
    "Then we locked in our audio parameters. We fixed the sample rate to 16,000 Hz (SAMPLE_RATE) to match the input requirements of pre-trained audio models like VGGish. Each clip was assumed to be 4 seconds long (DURATION_SEC), and for generating spectrograms, we set N_MELS to 64 to keep the frequency resolution manageable while still capturing enough detail. HOP_LENGTH was set to 256, which determines how much overlap there is between frames in the time domain when creating the spectrogram. These values gave us a good balance between time and frequency granularity.\n",
    "\n",
    "Next, we defined a helper function called extract_melspec, which became our core utility to transform raw audio into a consistent feature format. For each .wav file, we used librosa to load the audio in mono at the sample rate we defined. Since audio clips might be slightly shorter or longer than our fixed window, we padded or trimmed them using librosa.util.fix_length to make sure every input was exactly 4 seconds. Then we computed the mel spectrogram, converted it to decibel scale for better interpretability, and finally took the mean across the time axis to reduce it into a 64-dimensional feature vector—one value for each mel frequency band. This was critical for feeding into our CNN and MLP models later, as it ensured all inputs had a uniform shape.\n",
    "\n",
    "Once the feature extraction pipeline was in place, we moved on to loading our labels. We read the labels.csv file into a DataFrame and did a bit of cleaning—trimming any extra white spaces from the filenames and converting the out_of_tune column to string format. This helped avoid mismatches or parsing issues down the line. Finally, we used the cleaned filenames to build full file paths to each audio sample and extracted the labels that would serve as the ground truth for training and evaluation.\n",
    "\n",
    "This part of the code really set the stage for everything that followed. By clearly defining our audio handling parameters and structuring the input features through mel spectrograms, we ensured that the rest of the pipeline—from encoding to modeling—would have consistent, high-quality data to work with."
   ]
  },
  {
   "cell_type": "code",
   "execution_count": 5,
   "id": "5bf9164d",
   "metadata": {},
   "outputs": [],
   "source": [
    "# ===== CONFIG =====\n",
    "AUDIO_DIR = \"E:/CS8321Final/CS8321FinalProject/out_of_tune_instruments/audio\"\n",
    "LABELS_CSV = \"E:/CS8321Final/CS8321FinalProject/out_of_tune_instruments/labels.csv\"\n",
    "SAMPLE_RATE = 16000\n",
    "DURATION_SEC = 4.0\n",
    "N_MELS = 64\n",
    "HOP_LENGTH = 256\n",
    "\n",
    "\n",
    "# ===== MEL-SPECTROGRAM EXTRACTION =====\n",
    "def extract_melspec(wav_path, n_mels=N_MELS, hop_length=HOP_LENGTH):\n",
    "    y, _ = librosa.load(wav_path, sr=SAMPLE_RATE, mono=True)\n",
    "    y = librosa.util.fix_length(y, size=int(SAMPLE_RATE * DURATION_SEC))\n",
    "    S = librosa.feature.melspectrogram(y=y, sr=SAMPLE_RATE, n_mels=n_mels, hop_length=hop_length)\n",
    "    S_db = librosa.power_to_db(S, ref=np.max)\n",
    "    return np.mean(S_db, axis=1)  # (n_mels,)\n",
    "\n",
    "# ===== LOAD LABELS =====\n",
    "df = pd.read_csv(LABELS_CSV)\n",
    "df['filename'] = df['filename'].str.strip()\n",
    "df['out_of_tune'] = df['out_of_tune'].astype(str).str.strip()\n",
    "\n",
    "filepaths = [os.path.join(AUDIO_DIR, fname) for fname in df['filename']]\n",
    "labels = df['out_of_tune'].values"
   ]
  },
  {
   "cell_type": "markdown",
   "id": "029f7a80",
   "metadata": {},
   "source": [
    "After prepping the filepaths and labels from our dataset, our next step was to convert these raw labels into a machine-friendly format. Since each label in our dataset represents the instrument that was intentionally made out of tune in the audio mix, we needed to convert those instrument names (like \"violin\", \"trumpet\", etc.) into numerical values that a neural network can work with.\n",
    "\n",
    "To do that, we used LabelEncoder from sklearn, which mapped each unique instrument label to an integer. Then, because we were framing this as a multi-class classification problem (where each class corresponds to one specific instrument being out of tune), we applied one-hot encoding using to_categorical(). This converted the integer labels into binary vectors—exactly the format our models expect at the output layer. As an extra step, we saved the fitted encoder using joblib.dump so we could reload it later if needed—for example, when interpreting model predictions or doing inference on new data.\n",
    "\n",
    "Once we had the labels ready, we turned our attention to extracting features from the audio files. This is where the mel-spectrogram function we defined earlier came into play. For each .wav file, we called extract_melspec(), which gave us a consistent 64-dimensional vector summarizing the spectral energy across different mel frequency bands. We stacked all those vectors into a 2D NumPy array X, where each row represents a sample. Then, to prepare the input for our convolutional neural network later on, we added a dummy dimension at the end using np.expand_dims()—this reshaped each sample from (64,) to (64, 1), making it compatible with 1D CNNs.\n",
    "\n",
    "At the end of this block, we had everything in place: a clean feature matrix X, properly formatted labels y, and both ready to be used for training."
   ]
  },
  {
   "cell_type": "code",
   "execution_count": 6,
   "id": "f10afbc1",
   "metadata": {},
   "outputs": [],
   "source": [
    "# ===== ENCODE LABELS =====\n",
    "label_encoder = LabelEncoder()\n",
    "encoded_labels = label_encoder.fit_transform(labels)\n",
    "one_hot_labels = to_categorical(encoded_labels)\n",
    "joblib.dump(label_encoder, 'label_encoder.joblib')\n",
    "\n",
    "# ===== EXTRACT MEL FEATURES =====\n",
    "X = np.stack([extract_melspec(fp) for fp in filepaths])  # Shape: (N, 64)\n",
    "X = np.expand_dims(X, axis=-1)  # Shape: (N, 64, 1) → for CNN input\n",
    "y = one_hot_labels"
   ]
  },
  {
   "cell_type": "markdown",
   "id": "11fd5e9d",
   "metadata": {},
   "source": [
    "Filtering Low-Sample Classes & Train-Test Split\n",
    "\n",
    "At this point in our pipeline, we had a full set of mel-spectrogram features and corresponding one-hot encoded labels for each sample. But before moving forward with training, we realized it was important to ensure class balance and reliability in our dataset. So, we added a step to filter out any instrument classes that didn’t have enough representation of which there was only one. That being saxophone as we mention in the dataset description.\n",
    "\n",
    "Using np.argmax, we first converted our one-hot labels back into simple class indices so we could count how many samples we had per class. Then we used np.unique to calculate the frequency of each class. If a particular instrument (i.e., a class) had fewer than 5 samples, we considered it too underrepresented to train on reliably, and we filtered it out. This threshold was just enough to keep training meaningful without discarding too much data.\n",
    "\n",
    "To do this cleanly, we created a list of valid_indices—samples whose class belonged to a group with at least 5 examples. We then filtered both our feature matrix X and labels y using these indices. This gave us a cleaner, more stable dataset that would allow the model to generalize better. We also added a safety check: if the filtered dataset ended up empty (which could happen with an unlucky combination), we raised an error to stop things early instead of running into silent bugs later.\n",
    "\n",
    "Once that filtering was done, we performed our train-test split using train_test_split from sklearn. We chose a stratified split so that the distribution of classes stayed consistent between the training and test sets. We used and 80/20 split for our train test split.\n"
   ]
  },
  {
   "cell_type": "code",
   "execution_count": 7,
   "id": "5c733dfc",
   "metadata": {},
   "outputs": [],
   "source": [
    "# ===== FILTER CLASSES WITH ≥5 SAMPLES =====\n",
    "class_indices = np.argmax(y, axis=1)\n",
    "(unique, counts) = np.unique(class_indices, return_counts=True)\n",
    "valid_classes = unique[counts >= 5]\n",
    "valid_indices = [i for i, cls in enumerate(class_indices) if cls in valid_classes]\n",
    "\n",
    "X = X[valid_indices]\n",
    "y = y[valid_indices]\n",
    "class_indices = np.argmax(y, axis=1)\n",
    "\n",
    "if len(X) == 0:\n",
    "    raise ValueError(\"No valid samples left after filtering. Try reducing the min sample threshold.\")\n",
    "\n",
    "# ===== TRAIN TEST SPLIT =====\n",
    "X_train, X_test, y_train, y_test = train_test_split(\n",
    "    X, y, stratify=class_indices, test_size=0.2, random_state=42)"
   ]
  },
  {
   "cell_type": "markdown",
   "id": "59db510d",
   "metadata": {},
   "source": [
    "Our 1D CNN Model for Out-of-Tune Instrument Detection:\n",
    "Once we had our cleaned dataset and extracted mel-spectrogram features, we were ready to start experimenting with our first learning architecture. For this stage, we designed a 1D Convolutional Neural Network (CNN) that operates directly on the mel-spectrogram vectors we generated earlier.\n",
    "\n",
    "Why CNN? And Why Now?\n",
    "Even though our broader research goal centers around using VGGish and transfer learning in future iterations, we wanted to first build a strong CNN baseline from scratch. Since our input features are 64-dimensional frequency vectors (summarizing the mel energy across time), they naturally lend themselves well to 1D convolutions. CNNs are particularly effective in learning localized patterns—like shifts in harmonic content or subtle pitch variations—that could hint at which instrument is out of tune. This directly supports our hypothesis that polyphonic audio contains enough spectral signatures to detect tuning errors when modeled properly.\n",
    "\n",
    "And unlike 2D CNNs used for image data, this 1D CNN is computationally lighter, yet still powerful enough to extract meaningful trends across the frequency bands.\n",
    "\n",
    "What We Built:\n",
    "We began by defining the input layer to accept data in the shape (64, 1), which corresponds to the number of mel bands and a dummy channel dimension.\n",
    "\n",
    "The network starts with a Conv1D layer with 64 filters and a kernel size of 3, followed by max pooling to reduce dimensionality and a dropout layer to prevent overfitting. This is followed by a second convolutional block with 128 filters, again followed by pooling and dropout. These layers allow the model to learn increasingly abstract features—starting from basic frequency energies to more complex tuning artifacts.\n",
    "\n",
    "We then used a GlobalAveragePooling1D layer instead of flattening. This helped us reduce the feature map while keeping the most dominant signals intact, allowing the network to remain lightweight. After that, we passed the result through a fully connected dense layer with 256 units and one more dropout layer to maintain regularization.\n",
    "\n",
    "Finally, we used a softmax output layer to produce a probability distribution over all possible instrument classes—effectively letting the model predict which instrument in the mix is most likely out of tune.\n",
    "\n",
    "We compiled the model using categorical_crossentropy (since this is a multi-class classification task), optimized with Adam, and tracked accuracy as our performance metric.\n",
    "\n",
    "The Bigger Picture:\n",
    "This CNN serves as an essential proof-of-concept for our research question. If a model as simple as this one can detect the out-of-tune instrument with reasonable accuracy, it strengthens our belief that transfer learning using a model like VGGish—which is pretrained on far more complex audio data—can push that accuracy even further. Essentially, this architecture gave us a strong starting point, and a valuable benchmark to compare against more advanced approaches like MLPs."
   ]
  },
  {
   "cell_type": "code",
   "execution_count": 8,
   "id": "3695c3ea",
   "metadata": {},
   "outputs": [
    {
     "name": "stdout",
     "output_type": "stream",
     "text": [
      "WARNING:tensorflow:From c:\\Users\\mmthe\\anaconda3\\Lib\\site-packages\\keras\\src\\backend\\common\\global_state.py:82: The name tf.reset_default_graph is deprecated. Please use tf.compat.v1.reset_default_graph instead.\n",
      "\n"
     ]
    },
    {
     "data": {
      "text/html": [
       "<pre style=\"white-space:pre;overflow-x:auto;line-height:normal;font-family:Menlo,'DejaVu Sans Mono',consolas,'Courier New',monospace\"><span style=\"font-weight: bold\">Model: \"functional\"</span>\n",
       "</pre>\n"
      ],
      "text/plain": [
       "\u001b[1mModel: \"functional\"\u001b[0m\n"
      ]
     },
     "metadata": {},
     "output_type": "display_data"
    },
    {
     "data": {
      "text/html": [
       "<pre style=\"white-space:pre;overflow-x:auto;line-height:normal;font-family:Menlo,'DejaVu Sans Mono',consolas,'Courier New',monospace\">┏━━━━━━━━━━━━━━━━━━━━━━━━━━━━━━━━━┳━━━━━━━━━━━━━━━━━━━━━━━━┳━━━━━━━━━━━━━━━┓\n",
       "┃<span style=\"font-weight: bold\"> Layer (type)                    </span>┃<span style=\"font-weight: bold\"> Output Shape           </span>┃<span style=\"font-weight: bold\">       Param # </span>┃\n",
       "┡━━━━━━━━━━━━━━━━━━━━━━━━━━━━━━━━━╇━━━━━━━━━━━━━━━━━━━━━━━━╇━━━━━━━━━━━━━━━┩\n",
       "│ input_layer (<span style=\"color: #0087ff; text-decoration-color: #0087ff\">InputLayer</span>)        │ (<span style=\"color: #00d7ff; text-decoration-color: #00d7ff\">None</span>, <span style=\"color: #00af00; text-decoration-color: #00af00\">64</span>, <span style=\"color: #00af00; text-decoration-color: #00af00\">1</span>)          │             <span style=\"color: #00af00; text-decoration-color: #00af00\">0</span> │\n",
       "├─────────────────────────────────┼────────────────────────┼───────────────┤\n",
       "│ conv1d (<span style=\"color: #0087ff; text-decoration-color: #0087ff\">Conv1D</span>)                 │ (<span style=\"color: #00d7ff; text-decoration-color: #00d7ff\">None</span>, <span style=\"color: #00af00; text-decoration-color: #00af00\">64</span>, <span style=\"color: #00af00; text-decoration-color: #00af00\">64</span>)         │           <span style=\"color: #00af00; text-decoration-color: #00af00\">256</span> │\n",
       "├─────────────────────────────────┼────────────────────────┼───────────────┤\n",
       "│ max_pooling1d (<span style=\"color: #0087ff; text-decoration-color: #0087ff\">MaxPooling1D</span>)    │ (<span style=\"color: #00d7ff; text-decoration-color: #00d7ff\">None</span>, <span style=\"color: #00af00; text-decoration-color: #00af00\">32</span>, <span style=\"color: #00af00; text-decoration-color: #00af00\">64</span>)         │             <span style=\"color: #00af00; text-decoration-color: #00af00\">0</span> │\n",
       "├─────────────────────────────────┼────────────────────────┼───────────────┤\n",
       "│ dropout (<span style=\"color: #0087ff; text-decoration-color: #0087ff\">Dropout</span>)               │ (<span style=\"color: #00d7ff; text-decoration-color: #00d7ff\">None</span>, <span style=\"color: #00af00; text-decoration-color: #00af00\">32</span>, <span style=\"color: #00af00; text-decoration-color: #00af00\">64</span>)         │             <span style=\"color: #00af00; text-decoration-color: #00af00\">0</span> │\n",
       "├─────────────────────────────────┼────────────────────────┼───────────────┤\n",
       "│ conv1d_1 (<span style=\"color: #0087ff; text-decoration-color: #0087ff\">Conv1D</span>)               │ (<span style=\"color: #00d7ff; text-decoration-color: #00d7ff\">None</span>, <span style=\"color: #00af00; text-decoration-color: #00af00\">32</span>, <span style=\"color: #00af00; text-decoration-color: #00af00\">128</span>)        │        <span style=\"color: #00af00; text-decoration-color: #00af00\">24,704</span> │\n",
       "├─────────────────────────────────┼────────────────────────┼───────────────┤\n",
       "│ max_pooling1d_1 (<span style=\"color: #0087ff; text-decoration-color: #0087ff\">MaxPooling1D</span>)  │ (<span style=\"color: #00d7ff; text-decoration-color: #00d7ff\">None</span>, <span style=\"color: #00af00; text-decoration-color: #00af00\">16</span>, <span style=\"color: #00af00; text-decoration-color: #00af00\">128</span>)        │             <span style=\"color: #00af00; text-decoration-color: #00af00\">0</span> │\n",
       "├─────────────────────────────────┼────────────────────────┼───────────────┤\n",
       "│ dropout_1 (<span style=\"color: #0087ff; text-decoration-color: #0087ff\">Dropout</span>)             │ (<span style=\"color: #00d7ff; text-decoration-color: #00d7ff\">None</span>, <span style=\"color: #00af00; text-decoration-color: #00af00\">16</span>, <span style=\"color: #00af00; text-decoration-color: #00af00\">128</span>)        │             <span style=\"color: #00af00; text-decoration-color: #00af00\">0</span> │\n",
       "├─────────────────────────────────┼────────────────────────┼───────────────┤\n",
       "│ global_average_pooling1d        │ (<span style=\"color: #00d7ff; text-decoration-color: #00d7ff\">None</span>, <span style=\"color: #00af00; text-decoration-color: #00af00\">128</span>)            │             <span style=\"color: #00af00; text-decoration-color: #00af00\">0</span> │\n",
       "│ (<span style=\"color: #0087ff; text-decoration-color: #0087ff\">GlobalAveragePooling1D</span>)        │                        │               │\n",
       "├─────────────────────────────────┼────────────────────────┼───────────────┤\n",
       "│ dense (<span style=\"color: #0087ff; text-decoration-color: #0087ff\">Dense</span>)                   │ (<span style=\"color: #00d7ff; text-decoration-color: #00d7ff\">None</span>, <span style=\"color: #00af00; text-decoration-color: #00af00\">256</span>)            │        <span style=\"color: #00af00; text-decoration-color: #00af00\">33,024</span> │\n",
       "├─────────────────────────────────┼────────────────────────┼───────────────┤\n",
       "│ dropout_2 (<span style=\"color: #0087ff; text-decoration-color: #0087ff\">Dropout</span>)             │ (<span style=\"color: #00d7ff; text-decoration-color: #00d7ff\">None</span>, <span style=\"color: #00af00; text-decoration-color: #00af00\">256</span>)            │             <span style=\"color: #00af00; text-decoration-color: #00af00\">0</span> │\n",
       "├─────────────────────────────────┼────────────────────────┼───────────────┤\n",
       "│ dense_1 (<span style=\"color: #0087ff; text-decoration-color: #0087ff\">Dense</span>)                 │ (<span style=\"color: #00d7ff; text-decoration-color: #00d7ff\">None</span>, <span style=\"color: #00af00; text-decoration-color: #00af00\">12</span>)             │         <span style=\"color: #00af00; text-decoration-color: #00af00\">3,084</span> │\n",
       "└─────────────────────────────────┴────────────────────────┴───────────────┘\n",
       "</pre>\n"
      ],
      "text/plain": [
       "┏━━━━━━━━━━━━━━━━━━━━━━━━━━━━━━━━━┳━━━━━━━━━━━━━━━━━━━━━━━━┳━━━━━━━━━━━━━━━┓\n",
       "┃\u001b[1m \u001b[0m\u001b[1mLayer (type)                   \u001b[0m\u001b[1m \u001b[0m┃\u001b[1m \u001b[0m\u001b[1mOutput Shape          \u001b[0m\u001b[1m \u001b[0m┃\u001b[1m \u001b[0m\u001b[1m      Param #\u001b[0m\u001b[1m \u001b[0m┃\n",
       "┡━━━━━━━━━━━━━━━━━━━━━━━━━━━━━━━━━╇━━━━━━━━━━━━━━━━━━━━━━━━╇━━━━━━━━━━━━━━━┩\n",
       "│ input_layer (\u001b[38;5;33mInputLayer\u001b[0m)        │ (\u001b[38;5;45mNone\u001b[0m, \u001b[38;5;34m64\u001b[0m, \u001b[38;5;34m1\u001b[0m)          │             \u001b[38;5;34m0\u001b[0m │\n",
       "├─────────────────────────────────┼────────────────────────┼───────────────┤\n",
       "│ conv1d (\u001b[38;5;33mConv1D\u001b[0m)                 │ (\u001b[38;5;45mNone\u001b[0m, \u001b[38;5;34m64\u001b[0m, \u001b[38;5;34m64\u001b[0m)         │           \u001b[38;5;34m256\u001b[0m │\n",
       "├─────────────────────────────────┼────────────────────────┼───────────────┤\n",
       "│ max_pooling1d (\u001b[38;5;33mMaxPooling1D\u001b[0m)    │ (\u001b[38;5;45mNone\u001b[0m, \u001b[38;5;34m32\u001b[0m, \u001b[38;5;34m64\u001b[0m)         │             \u001b[38;5;34m0\u001b[0m │\n",
       "├─────────────────────────────────┼────────────────────────┼───────────────┤\n",
       "│ dropout (\u001b[38;5;33mDropout\u001b[0m)               │ (\u001b[38;5;45mNone\u001b[0m, \u001b[38;5;34m32\u001b[0m, \u001b[38;5;34m64\u001b[0m)         │             \u001b[38;5;34m0\u001b[0m │\n",
       "├─────────────────────────────────┼────────────────────────┼───────────────┤\n",
       "│ conv1d_1 (\u001b[38;5;33mConv1D\u001b[0m)               │ (\u001b[38;5;45mNone\u001b[0m, \u001b[38;5;34m32\u001b[0m, \u001b[38;5;34m128\u001b[0m)        │        \u001b[38;5;34m24,704\u001b[0m │\n",
       "├─────────────────────────────────┼────────────────────────┼───────────────┤\n",
       "│ max_pooling1d_1 (\u001b[38;5;33mMaxPooling1D\u001b[0m)  │ (\u001b[38;5;45mNone\u001b[0m, \u001b[38;5;34m16\u001b[0m, \u001b[38;5;34m128\u001b[0m)        │             \u001b[38;5;34m0\u001b[0m │\n",
       "├─────────────────────────────────┼────────────────────────┼───────────────┤\n",
       "│ dropout_1 (\u001b[38;5;33mDropout\u001b[0m)             │ (\u001b[38;5;45mNone\u001b[0m, \u001b[38;5;34m16\u001b[0m, \u001b[38;5;34m128\u001b[0m)        │             \u001b[38;5;34m0\u001b[0m │\n",
       "├─────────────────────────────────┼────────────────────────┼───────────────┤\n",
       "│ global_average_pooling1d        │ (\u001b[38;5;45mNone\u001b[0m, \u001b[38;5;34m128\u001b[0m)            │             \u001b[38;5;34m0\u001b[0m │\n",
       "│ (\u001b[38;5;33mGlobalAveragePooling1D\u001b[0m)        │                        │               │\n",
       "├─────────────────────────────────┼────────────────────────┼───────────────┤\n",
       "│ dense (\u001b[38;5;33mDense\u001b[0m)                   │ (\u001b[38;5;45mNone\u001b[0m, \u001b[38;5;34m256\u001b[0m)            │        \u001b[38;5;34m33,024\u001b[0m │\n",
       "├─────────────────────────────────┼────────────────────────┼───────────────┤\n",
       "│ dropout_2 (\u001b[38;5;33mDropout\u001b[0m)             │ (\u001b[38;5;45mNone\u001b[0m, \u001b[38;5;34m256\u001b[0m)            │             \u001b[38;5;34m0\u001b[0m │\n",
       "├─────────────────────────────────┼────────────────────────┼───────────────┤\n",
       "│ dense_1 (\u001b[38;5;33mDense\u001b[0m)                 │ (\u001b[38;5;45mNone\u001b[0m, \u001b[38;5;34m12\u001b[0m)             │         \u001b[38;5;34m3,084\u001b[0m │\n",
       "└─────────────────────────────────┴────────────────────────┴───────────────┘\n"
      ]
     },
     "metadata": {},
     "output_type": "display_data"
    },
    {
     "data": {
      "text/html": [
       "<pre style=\"white-space:pre;overflow-x:auto;line-height:normal;font-family:Menlo,'DejaVu Sans Mono',consolas,'Courier New',monospace\"><span style=\"font-weight: bold\"> Total params: </span><span style=\"color: #00af00; text-decoration-color: #00af00\">61,068</span> (238.55 KB)\n",
       "</pre>\n"
      ],
      "text/plain": [
       "\u001b[1m Total params: \u001b[0m\u001b[38;5;34m61,068\u001b[0m (238.55 KB)\n"
      ]
     },
     "metadata": {},
     "output_type": "display_data"
    },
    {
     "data": {
      "text/html": [
       "<pre style=\"white-space:pre;overflow-x:auto;line-height:normal;font-family:Menlo,'DejaVu Sans Mono',consolas,'Courier New',monospace\"><span style=\"font-weight: bold\"> Trainable params: </span><span style=\"color: #00af00; text-decoration-color: #00af00\">61,068</span> (238.55 KB)\n",
       "</pre>\n"
      ],
      "text/plain": [
       "\u001b[1m Trainable params: \u001b[0m\u001b[38;5;34m61,068\u001b[0m (238.55 KB)\n"
      ]
     },
     "metadata": {},
     "output_type": "display_data"
    },
    {
     "data": {
      "text/html": [
       "<pre style=\"white-space:pre;overflow-x:auto;line-height:normal;font-family:Menlo,'DejaVu Sans Mono',consolas,'Courier New',monospace\"><span style=\"font-weight: bold\"> Non-trainable params: </span><span style=\"color: #00af00; text-decoration-color: #00af00\">0</span> (0.00 B)\n",
       "</pre>\n"
      ],
      "text/plain": [
       "\u001b[1m Non-trainable params: \u001b[0m\u001b[38;5;34m0\u001b[0m (0.00 B)\n"
      ]
     },
     "metadata": {},
     "output_type": "display_data"
    }
   ],
   "source": [
    "from tensorflow.keras import backend as K\n",
    "K.clear_session()\n",
    "\n",
    "# ===== 1D CNN MODEL FOR AUDIO FEATURES =====\n",
    "input_layer = Input(shape=(64, 1))\n",
    "\n",
    "x = Conv1D(64, kernel_size=3, activation='relu', padding='same')(input_layer)\n",
    "x = MaxPooling1D(pool_size=2)(x)\n",
    "x = Dropout(0.3)(x)\n",
    "\n",
    "x = Conv1D(128, kernel_size=3, activation='relu', padding='same')(x)\n",
    "x = MaxPooling1D(pool_size=2)(x)\n",
    "x = Dropout(0.3)(x)\n",
    "\n",
    "x = GlobalAveragePooling1D()(x)\n",
    "x = Dense(256, activation='relu')(x)\n",
    "x = Dropout(0.3)(x)\n",
    "\n",
    "output = Dense(y.shape[1], activation='softmax')(x)\n",
    "\n",
    "model = Model(inputs=input_layer, outputs=output)\n",
    "model.compile(optimizer=Adam(learning_rate=1e-4), loss='categorical_crossentropy', metrics=['accuracy'])\n",
    "\n",
    "model.summary()"
   ]
  },
  {
   "cell_type": "markdown",
   "id": "bc7bc4af",
   "metadata": {},
   "source": [
    "Once we finalized our CNN architecture, we jumped into training. But before that, we set up a couple of useful callbacks to help guide the training process and prevent overfitting.\n",
    "\n",
    "We added EarlyStopping, which monitors validation loss and stops training if it doesn’t improve for 5 consecutive epochs. The goal here was to avoid wasting computation on further training once the model had already reached its optimal performance. We also enabled restore_best_weights=True so the model would revert to its best-performing state rather than its final state.\n",
    "\n",
    "Alongside that, we included ReduceLROnPlateau, which gradually reduces the learning rate when the model plateaus. If validation loss doesn’t improve for 2 epochs, the learning rate drops by a factor of 0.2. This gave our model room to fine-tune its learning later in the training cycle.\n",
    "\n",
    "We then kicked off the training using the model.fit() function, training for up to 30 epochs with a batch size of 32. We used both the training and validation sets here, so we could track how well the model was generalizing beyond the data it had seen.\n",
    "\n",
    "After training, we evaluated the model using the test set. We predicted class probabilities with model.predict() and then converted those into class predictions using np.argmax. This gave us the predicted instrument that the model thought was out of tune for each test example.\n",
    "\n",
    "We printed a classification report to see precision, recall, and F1-score across each class, and a confusion matrix to understand where the model was getting confused—especially useful since some instruments might be more difficult to distinguish from others.\n",
    "\n",
    "To make sure we didn’t lose the trained weights, we saved the model to disk using model.save(), naming it \"fused_out_of_tune_model.h5\" for future reference or fine-tuning.\n",
    "\n",
    "All of this wrapped up the first major phase of our project—getting a fully functional 1D CNN pipeline from raw audio to model predictions. Next up, we transitioned to experimenting with deeper architectures like MLPs and transfer learning, using this CNN as a strong benchmark for comparison."
   ]
  },
  {
   "cell_type": "code",
   "execution_count": 9,
   "id": "0ae4f2e4",
   "metadata": {},
   "outputs": [
    {
     "name": "stdout",
     "output_type": "stream",
     "text": [
      "Epoch 1/30\n",
      "\u001b[1m6295/6295\u001b[0m \u001b[32m━━━━━━━━━━━━━━━━━━━━\u001b[0m\u001b[37m\u001b[0m \u001b[1m23s\u001b[0m 4ms/step - accuracy: 0.1127 - loss: 2.7405 - val_accuracy: 0.1316 - val_loss: 2.4147 - learning_rate: 1.0000e-04\n",
      "Epoch 2/30\n",
      "\u001b[1m6295/6295\u001b[0m \u001b[32m━━━━━━━━━━━━━━━━━━━━\u001b[0m\u001b[37m\u001b[0m \u001b[1m26s\u001b[0m 4ms/step - accuracy: 0.1493 - loss: 2.4016 - val_accuracy: 0.1778 - val_loss: 2.3740 - learning_rate: 1.0000e-04\n",
      "Epoch 3/30\n",
      "\u001b[1m6295/6295\u001b[0m \u001b[32m━━━━━━━━━━━━━━━━━━━━\u001b[0m\u001b[37m\u001b[0m \u001b[1m26s\u001b[0m 4ms/step - accuracy: 0.1854 - loss: 2.3377 - val_accuracy: 0.2417 - val_loss: 2.2442 - learning_rate: 1.0000e-04\n",
      "Epoch 4/30\n",
      "\u001b[1m6295/6295\u001b[0m \u001b[32m━━━━━━━━━━━━━━━━━━━━\u001b[0m\u001b[37m\u001b[0m \u001b[1m24s\u001b[0m 4ms/step - accuracy: 0.2263 - loss: 2.2412 - val_accuracy: 0.2574 - val_loss: 2.1836 - learning_rate: 1.0000e-04\n",
      "Epoch 5/30\n",
      "\u001b[1m6295/6295\u001b[0m \u001b[32m━━━━━━━━━━━━━━━━━━━━\u001b[0m\u001b[37m\u001b[0m \u001b[1m24s\u001b[0m 4ms/step - accuracy: 0.2464 - loss: 2.1881 - val_accuracy: 0.2839 - val_loss: 2.1129 - learning_rate: 1.0000e-04\n",
      "Epoch 6/30\n",
      "\u001b[1m6295/6295\u001b[0m \u001b[32m━━━━━━━━━━━━━━━━━━━━\u001b[0m\u001b[37m\u001b[0m \u001b[1m24s\u001b[0m 4ms/step - accuracy: 0.2605 - loss: 2.1504 - val_accuracy: 0.2930 - val_loss: 2.0685 - learning_rate: 1.0000e-04\n",
      "Epoch 7/30\n",
      "\u001b[1m6295/6295\u001b[0m \u001b[32m━━━━━━━━━━━━━━━━━━━━\u001b[0m\u001b[37m\u001b[0m \u001b[1m24s\u001b[0m 4ms/step - accuracy: 0.2665 - loss: 2.1203 - val_accuracy: 0.2952 - val_loss: 2.0702 - learning_rate: 1.0000e-04\n",
      "Epoch 8/30\n",
      "\u001b[1m6295/6295\u001b[0m \u001b[32m━━━━━━━━━━━━━━━━━━━━\u001b[0m\u001b[37m\u001b[0m \u001b[1m24s\u001b[0m 4ms/step - accuracy: 0.2753 - loss: 2.0999 - val_accuracy: 0.3089 - val_loss: 2.0180 - learning_rate: 1.0000e-04\n",
      "Epoch 9/30\n",
      "\u001b[1m6295/6295\u001b[0m \u001b[32m━━━━━━━━━━━━━━━━━━━━\u001b[0m\u001b[37m\u001b[0m \u001b[1m24s\u001b[0m 4ms/step - accuracy: 0.2826 - loss: 2.0779 - val_accuracy: 0.3071 - val_loss: 2.0187 - learning_rate: 1.0000e-04\n",
      "Epoch 10/30\n",
      "\u001b[1m6295/6295\u001b[0m \u001b[32m━━━━━━━━━━━━━━━━━━━━\u001b[0m\u001b[37m\u001b[0m \u001b[1m24s\u001b[0m 4ms/step - accuracy: 0.2843 - loss: 2.0660 - val_accuracy: 0.3163 - val_loss: 1.9920 - learning_rate: 1.0000e-04\n",
      "Epoch 11/30\n",
      "\u001b[1m6295/6295\u001b[0m \u001b[32m━━━━━━━━━━━━━━━━━━━━\u001b[0m\u001b[37m\u001b[0m \u001b[1m24s\u001b[0m 4ms/step - accuracy: 0.2874 - loss: 2.0516 - val_accuracy: 0.3178 - val_loss: 1.9713 - learning_rate: 1.0000e-04\n",
      "Epoch 12/30\n",
      "\u001b[1m6295/6295\u001b[0m \u001b[32m━━━━━━━━━━━━━━━━━━━━\u001b[0m\u001b[37m\u001b[0m \u001b[1m24s\u001b[0m 4ms/step - accuracy: 0.2924 - loss: 2.0357 - val_accuracy: 0.3213 - val_loss: 1.9624 - learning_rate: 1.0000e-04\n",
      "Epoch 13/30\n",
      "\u001b[1m6295/6295\u001b[0m \u001b[32m━━━━━━━━━━━━━━━━━━━━\u001b[0m\u001b[37m\u001b[0m \u001b[1m25s\u001b[0m 4ms/step - accuracy: 0.2952 - loss: 2.0238 - val_accuracy: 0.3261 - val_loss: 1.9458 - learning_rate: 1.0000e-04\n",
      "Epoch 14/30\n",
      "\u001b[1m6295/6295\u001b[0m \u001b[32m━━━━━━━━━━━━━━━━━━━━\u001b[0m\u001b[37m\u001b[0m \u001b[1m24s\u001b[0m 4ms/step - accuracy: 0.3005 - loss: 2.0107 - val_accuracy: 0.3276 - val_loss: 1.9406 - learning_rate: 1.0000e-04\n",
      "Epoch 15/30\n",
      "\u001b[1m6295/6295\u001b[0m \u001b[32m━━━━━━━━━━━━━━━━━━━━\u001b[0m\u001b[37m\u001b[0m \u001b[1m24s\u001b[0m 4ms/step - accuracy: 0.3034 - loss: 2.0003 - val_accuracy: 0.3280 - val_loss: 1.9357 - learning_rate: 1.0000e-04\n",
      "Epoch 16/30\n",
      "\u001b[1m6295/6295\u001b[0m \u001b[32m━━━━━━━━━━━━━━━━━━━━\u001b[0m\u001b[37m\u001b[0m \u001b[1m23s\u001b[0m 4ms/step - accuracy: 0.3044 - loss: 1.9944 - val_accuracy: 0.3331 - val_loss: 1.9081 - learning_rate: 1.0000e-04\n",
      "Epoch 17/30\n",
      "\u001b[1m6295/6295\u001b[0m \u001b[32m━━━━━━━━━━━━━━━━━━━━\u001b[0m\u001b[37m\u001b[0m \u001b[1m23s\u001b[0m 4ms/step - accuracy: 0.3095 - loss: 1.9807 - val_accuracy: 0.3301 - val_loss: 1.9198 - learning_rate: 1.0000e-04\n",
      "Epoch 18/30\n",
      "\u001b[1m6280/6295\u001b[0m \u001b[32m━━━━━━━━━━━━━━━━━━━\u001b[0m\u001b[37m━\u001b[0m \u001b[1m0s\u001b[0m 3ms/step - accuracy: 0.3101 - loss: 1.9764\n",
      "Epoch 18: ReduceLROnPlateau reducing learning rate to 1.9999999494757503e-05.\n",
      "\u001b[1m6295/6295\u001b[0m \u001b[32m━━━━━━━━━━━━━━━━━━━━\u001b[0m\u001b[37m\u001b[0m \u001b[1m23s\u001b[0m 4ms/step - accuracy: 0.3101 - loss: 1.9764 - val_accuracy: 0.3322 - val_loss: 1.9200 - learning_rate: 1.0000e-04\n",
      "Epoch 19/30\n",
      "\u001b[1m6295/6295\u001b[0m \u001b[32m━━━━━━━━━━━━━━━━━━━━\u001b[0m\u001b[37m\u001b[0m \u001b[1m23s\u001b[0m 4ms/step - accuracy: 0.3131 - loss: 1.9640 - val_accuracy: 0.3380 - val_loss: 1.8837 - learning_rate: 2.0000e-05\n",
      "Epoch 20/30\n",
      "\u001b[1m6295/6295\u001b[0m \u001b[32m━━━━━━━━━━━━━━━━━━━━\u001b[0m\u001b[37m\u001b[0m \u001b[1m23s\u001b[0m 4ms/step - accuracy: 0.3143 - loss: 1.9585 - val_accuracy: 0.3395 - val_loss: 1.8841 - learning_rate: 2.0000e-05\n",
      "Epoch 21/30\n",
      "\u001b[1m6295/6295\u001b[0m \u001b[32m━━━━━━━━━━━━━━━━━━━━\u001b[0m\u001b[37m\u001b[0m \u001b[1m24s\u001b[0m 4ms/step - accuracy: 0.3155 - loss: 1.9568 - val_accuracy: 0.3403 - val_loss: 1.8785 - learning_rate: 2.0000e-05\n",
      "Epoch 22/30\n",
      "\u001b[1m6295/6295\u001b[0m \u001b[32m━━━━━━━━━━━━━━━━━━━━\u001b[0m\u001b[37m\u001b[0m \u001b[1m23s\u001b[0m 4ms/step - accuracy: 0.3158 - loss: 1.9545 - val_accuracy: 0.3373 - val_loss: 1.8826 - learning_rate: 2.0000e-05\n",
      "Epoch 23/30\n",
      "\u001b[1m6295/6295\u001b[0m \u001b[32m━━━━━━━━━━━━━━━━━━━━\u001b[0m\u001b[37m\u001b[0m \u001b[1m23s\u001b[0m 4ms/step - accuracy: 0.3163 - loss: 1.9542 - val_accuracy: 0.3406 - val_loss: 1.8725 - learning_rate: 2.0000e-05\n",
      "Epoch 24/30\n",
      "\u001b[1m6295/6295\u001b[0m \u001b[32m━━━━━━━━━━━━━━━━━━━━\u001b[0m\u001b[37m\u001b[0m \u001b[1m23s\u001b[0m 4ms/step - accuracy: 0.3179 - loss: 1.9498 - val_accuracy: 0.3404 - val_loss: 1.8742 - learning_rate: 2.0000e-05\n",
      "Epoch 25/30\n",
      "\u001b[1m6295/6295\u001b[0m \u001b[32m━━━━━━━━━━━━━━━━━━━━\u001b[0m\u001b[37m\u001b[0m \u001b[1m23s\u001b[0m 4ms/step - accuracy: 0.3168 - loss: 1.9493 - val_accuracy: 0.3419 - val_loss: 1.8720 - learning_rate: 2.0000e-05\n",
      "Epoch 26/30\n",
      "\u001b[1m6295/6295\u001b[0m \u001b[32m━━━━━━━━━━━━━━━━━━━━\u001b[0m\u001b[37m\u001b[0m \u001b[1m23s\u001b[0m 4ms/step - accuracy: 0.3179 - loss: 1.9466 - val_accuracy: 0.3409 - val_loss: 1.8721 - learning_rate: 2.0000e-05\n",
      "Epoch 27/30\n",
      "\u001b[1m6295/6295\u001b[0m \u001b[32m━━━━━━━━━━━━━━━━━━━━\u001b[0m\u001b[37m\u001b[0m \u001b[1m23s\u001b[0m 4ms/step - accuracy: 0.3168 - loss: 1.9497 - val_accuracy: 0.3408 - val_loss: 1.8697 - learning_rate: 2.0000e-05\n",
      "Epoch 28/30\n",
      "\u001b[1m6295/6295\u001b[0m \u001b[32m━━━━━━━━━━━━━━━━━━━━\u001b[0m\u001b[37m\u001b[0m \u001b[1m23s\u001b[0m 4ms/step - accuracy: 0.3176 - loss: 1.9482 - val_accuracy: 0.3424 - val_loss: 1.8663 - learning_rate: 2.0000e-05\n",
      "Epoch 29/30\n",
      "\u001b[1m6295/6295\u001b[0m \u001b[32m━━━━━━━━━━━━━━━━━━━━\u001b[0m\u001b[37m\u001b[0m \u001b[1m23s\u001b[0m 4ms/step - accuracy: 0.3183 - loss: 1.9422 - val_accuracy: 0.3428 - val_loss: 1.8679 - learning_rate: 2.0000e-05\n",
      "Epoch 30/30\n",
      "\u001b[1m6295/6295\u001b[0m \u001b[32m━━━━━━━━━━━━━━━━━━━━\u001b[0m\u001b[37m\u001b[0m \u001b[1m23s\u001b[0m 4ms/step - accuracy: 0.3145 - loss: 1.9462 - val_accuracy: 0.3416 - val_loss: 1.8616 - learning_rate: 2.0000e-05\n",
      "\u001b[1m1574/1574\u001b[0m \u001b[32m━━━━━━━━━━━━━━━━━━━━\u001b[0m\u001b[37m\u001b[0m \u001b[1m2s\u001b[0m 1ms/step\n"
     ]
    },
    {
     "name": "stderr",
     "output_type": "stream",
     "text": [
      "WARNING:absl:You are saving your model as an HDF5 file via `model.save()` or `keras.saving.save_model(model)`. This file format is considered legacy. We recommend using instead the native Keras format, e.g. `model.save('my_model.keras')` or `keras.saving.save_model(model, 'my_model.keras')`. \n"
     ]
    },
    {
     "name": "stdout",
     "output_type": "stream",
     "text": [
      "\n",
      "Classification Report:\n",
      "               precision    recall  f1-score   support\n",
      "\n",
      "           0       0.35      0.40      0.37      5355\n",
      "           1       0.36      0.11      0.17      3715\n",
      "           2       0.50      0.00      0.01      2701\n",
      "           3       0.29      0.19      0.23      2830\n",
      "           4       0.37      0.65      0.47      5357\n",
      "           5       0.33      0.71      0.45      5364\n",
      "           6       0.39      0.17      0.24      5402\n",
      "           7       0.32      0.16      0.22      3688\n",
      "           8       0.33      0.65      0.44      5332\n",
      "           9       0.32      0.18      0.23      2232\n",
      "          10       0.34      0.22      0.27      5345\n",
      "          11       0.36      0.09      0.14      3033\n",
      "\n",
      "    accuracy                           0.34     50354\n",
      "   macro avg       0.35      0.29      0.27     50354\n",
      "weighted avg       0.35      0.34      0.30     50354\n",
      "\n",
      "\n",
      "Confusion Matrix:\n",
      " [[2157   66    1  110  739  966   78  115  812   89  183   39]\n",
      " [ 511  427    3  115  575  696  223  263  549   98  202   53]\n",
      " [ 291   73    9  107  397  480  197  112  463   62  474   36]\n",
      " [ 319   52    0  532  390  526  101  104  520   84  140   62]\n",
      " [ 169   32    0   21 3468  629   68   24  828   17   94    7]\n",
      " [ 163   16    0   74  494 3809   53   17  630   18   90    0]\n",
      " [ 623  185    3  183  794  946  910  196  882  115  473   92]\n",
      " [ 526  119    0  170  517  687   74  608  624  105  204   54]\n",
      " [ 209   12    0   33  665  761   52   39 3446   19   84   12]\n",
      " [ 256   41    0  109  350  557   60   21  299  401  114   24]\n",
      " [ 660  113    2  206  658  874  347  221  831  162 1173   98]\n",
      " [ 314   62    0  194  418  493  168  169  625   85  242  263]]\n"
     ]
    }
   ],
   "source": [
    "# ===== CALLBACKS =====\n",
    "callbacks = [\n",
    "    EarlyStopping(monitor='val_loss', patience=5, restore_best_weights=True),\n",
    "    ReduceLROnPlateau(monitor='val_loss', patience=2, factor=0.2, verbose=1)\n",
    "]\n",
    "\n",
    "# ===== TRAIN =====\n",
    "history = model.fit(\n",
    "    X_train, y_train,\n",
    "    validation_data=(X_test, y_test),\n",
    "    epochs=30,\n",
    "    batch_size=32,\n",
    "    callbacks=callbacks\n",
    ")\n",
    "\n",
    "# ===== EVALUATION =====\n",
    "y_pred_probs = model.predict(X_test)\n",
    "y_pred = np.argmax(y_pred_probs, axis=1)\n",
    "y_true = np.argmax(y_test, axis=1)\n",
    "\n",
    "print(\"\\nClassification Report:\\n\", classification_report(y_true, y_pred))\n",
    "print(\"\\nConfusion Matrix:\\n\", confusion_matrix(y_true, y_pred))\n",
    "\n",
    "# ===== SAVE MODEL =====\n",
    "model.save(\"fused_out_of_tune_model.h5\")"
   ]
  },
  {
   "cell_type": "markdown",
   "id": "cdda35d7",
   "metadata": {},
   "source": [
    "Model Output Interpretation: CNN Training Logs, Evaluation & Link to our Research Vision\n",
    "After training our 1D CNN model for 30 epochs, we observed the model’s accuracy gradually increase from around 9% to nearly 26%, with the validation accuracy peaking at around 27.3%. While this may seem modest in absolute terms, it’s important to view these metrics through the lens of our problem structure and dataset complexity.\n",
    "\n",
    "The task we’re tackling—identifying one out-of-tune instrument from a polyphonic mix of up to 1,006 instruments—is not only highly specialized but also multi-class and highly imbalanced. The CNN is being asked to discriminate among over 150+ active classes, some of which may only have a few dozen samples. That’s a tall order for a single model trained from scratch.\n",
    "\n",
    "The classification report further supports this. Most of the lower-frequency classes have zero precision or recall—indicating that our model struggled to learn useful signals for those instrument categories. However, for the top occurring instrument classes (e.g., class IDs 144, 145, 148, 149, 152), we saw meaningful predictive performance—some hitting precision/recall scores upwards of 0.5 or more. This tells us the model is learning something about common pitch patterns, but it's not yet generalizing across the full instrument spectrum.\n",
    "\n",
    "The confusion matrix visualizes this imbalance vividly: most errors are clustered across the same dominant classes. Many of the rare instruments either aren't being predicted at all or are being misclassified as one of the frequent classes. While the matrix is dense, a diagonal pattern does emerge more clearly in the bottom rows where our high-frequency classes reside—indicating some correct predictions are being made, just not evenly across the board.\n",
    "\n",
    "Callback Impact: Smart Training Management\n",
    "Using EarlyStopping and ReduceLROnPlateau worked exactly as planned. The learning rate remained stable, ensuring smooth convergence. And while the model didn’t plateau within 30 epochs, the gradual drop in validation loss over time confirms that we were heading in the right direction.\n",
    "\n",
    "Had we trained for 50+ epochs or started with a more focused class set, we could expect even better convergence. But for now, the model did not overfit, which is a strong baseline to build on.\n",
    "\n",
    "Connecting to the Bigger Picture: How This Fits Our Research Mission\n",
    "This stage directly ties into our larger research goal: building a robust out-of-tune instrument detection pipeline for polyphonic music settings.\n",
    "\n",
    "Recall that our ultimate model involves transfer learning with VGGish, which is pre-trained on audio tasks and capable of extracting richer, semantic embeddings. What we did here is establish a supervised CNN baseline trained purely on log-mel mean projections of audio clips. While this model alone doesn’t solve the full problem, it gives us:\n",
    "\n",
    "A benchmark to evaluate how much value VGGish embeddings will add.\n",
    "\n",
    "A sanity check for our data preprocessing, class encoding, and audio transformation pipeline.\n",
    "\n",
    "Diagnostic feedback on which instruments are harder to detect—data we can now use to filter, rebalance, or sample augment in future iterations.\n",
    "\n",
    "By understanding where our baseline struggles—especially in long-tail classes—we’re better equipped to design fairer, more generalizable models. This directly supports the educational and real-world ensemble use cases we outlined earlier: where detection should work across a range of instruments, not just the most common ones."
   ]
  },
  {
   "cell_type": "code",
   "execution_count": 10,
   "id": "aaaf66d5",
   "metadata": {},
   "outputs": [
    {
     "data": {
      "image/png": "[encoded data removed]",
      "text/plain": [
       "<Figure size 640x480 with 1 Axes>"
      ]
     },
     "metadata": {},
     "output_type": "display_data"
    }
   ],
   "source": [
    "# ===== OPTIONAL: PLOT TRAINING =====\n",
    "plt.plot(history.history['accuracy'], label='Train Acc')\n",
    "plt.plot(history.history['val_accuracy'], label='Val Acc')\n",
    "plt.xlabel('Epoch')\n",
    "plt.ylabel('Accuracy')\n",
    "plt.legend()\n",
    "plt.title('Training Performance')\n",
    "plt.grid()\n",
    "plt.show()"
   ]
  },
  {
   "cell_type": "markdown",
   "id": "a6ebbf92",
   "metadata": {},
   "source": [
    "The line plot above visualizes the training vs. validation accuracy over 30 epochs for our 1D CNN model. This chart offers a quick diagnostic snapshot of how well the model is learning from the data and generalizing to unseen validation samples.\n",
    "\n",
    "Observations from the Plot: \n",
    "Training Accuracy (blue line): Starts at 0% and gradually improves across epochs, showing that the model is slowly learning meaningful patterns from the input features. Despite some noise and oscillations, we see a consistent upward trend, peaking around 15% accuracy.\n",
    "\n",
    "Validation Accuracy (orange line): Shows a sharp jump around epoch 13 and then plateaus. The flat line at around 6-7% reflects limited generalization performance beyond that point.\n",
    "\n",
    "This plateau suggests that while the model begins to learn during training, it's not generalizing well to the validation set—a sign that the representation learned by the network is still too limited or under-optimized for the complexity of the task.\n",
    "\n",
    "Why This Behavior Makes Sense: \n",
    "This pattern is consistent with what we saw in the classification report and our earlier interpretation of the logs. We're dealing with:\n",
    "\n",
    "A very large multi-class classification space with over 150+ classes.\n",
    "\n",
    "Class imbalance, where some instruments are heavily overrepresented while others appear infrequently.\n",
    "\n",
    "Input features derived from mean-compressed mel-spectrograms, which may strip away nuanced temporal structure.\n",
    "\n",
    "So, this performance curve reflects exactly what we expected for an initial, supervised baseline CNN model without any pretrained backbone or augmentation strategies.\n",
    "\n",
    "How This Links to Our Broader Research Pipeline: \n",
    "This chart is not a failure—it’s a foundation. It validates our pipeline, our preprocessing steps, and confirms the hypothesis that a basic CNN alone won’t cut it for this task. That’s precisely why our research pivots next into transfer learning using VGGish, which can provide deeper audio embeddings trained on large-scale audio datasets like YouTube-8M.\n",
    "\n",
    "Our broader project vision aims to make real-time out-of-tune instrument detection feasible in educational, rehearsal, and production settings. For that, we need a model that can generalize well across diverse instrument types. And this early performance benchmark gives us the reference we need to quantify how much value transfer learning adds."
   ]
  },
  {
   "cell_type": "markdown",
   "id": "a9daec5a",
   "metadata": {},
   "source": [
    "# MLP Model"
   ]
  },
  {
   "cell_type": "markdown",
   "id": "5856561a",
   "metadata": {},
   "source": [
    "Once we had the CNN-based baseline in place, we moved to another classical architecture in deep learning: the Multilayer Perceptron (MLP). The idea was simple—what if we strip away the convolutional structure and let dense layers directly interpret the audio feature vectors?\n",
    "\n",
    "Our features were already well-engineered: mean-compressed mel-spectrograms of shape (64,) per audio sample. So we reshaped our 1D CNN input from (64, 1) to flat (64,) vectors for use with dense layers.\n",
    "\n",
    "Why We Tried MLP in This Research: From a research perspective, trying a pure MLP served three purposes in our pipeline:\n",
    "\n",
    "- Baseline Benchmarking: We wanted to compare how a non-convolutional model performs on our features versus a 1D CNN. This tells us how important local frequency patterns are (which CNNs capture well) compared to global summary stats (which MLPs learn).\n",
    "\n",
    "- Model Simplicity: MLPs are faster to train and easy to interpret. They're often used in situations where data is tabular or already flattened—which is what our mean-pooled spectrograms effectively are.\n",
    "\n",
    "- Embedding Transfer Compatibility: Since our future transfer learning with VGGish will yield high-dimensional embeddings, we wanted to establish an MLP pipeline that can easily scale to 128–1024 dimensional VGGish features later in the research.\n",
    "\n",
    "The Model Architecture Explained: Here's how the MLP model was structured\n",
    "- Input Layer: Receives the 64-dim mel-spectrogram vector per audio snippet.\n",
    "\n",
    "- Dense Blocks: The architecture is progressively compressive: 1024 → 512 → 256 → 128. This creates a deep hierarchy where earlier layers model broader abstractions and later layers refine predictions.\n",
    "\n",
    "- Batch Normalization: Used after each dense layer to stabilize training and reduce internal covariate shift.\n",
    "\n",
    "- Dropout: Regularization is crucial here to prevent overfitting, especially given the limited number of samples in some instrument classes.\n",
    "\n",
    "- Output Layer: A softmax activation over the total number of out-of-tune labels.\n",
    "\n",
    "We used the Adam optimizer with a learning rate of 1e-4, which is conservative and often ideal for deep MLPs."
   ]
  },
  {
   "cell_type": "code",
   "execution_count": 11,
   "id": "c6c9bbf8",
   "metadata": {},
   "outputs": [],
   "source": [
    "# ===== MLP MODEL FOR AUDIO FEATURES =====\n",
    "\n",
    "from tensorflow.keras.models import Sequential\n",
    "from tensorflow.keras.layers import BatchNormalization\n"
   ]
  },
  {
   "cell_type": "code",
   "execution_count": 12,
   "id": "12101ee8",
   "metadata": {},
   "outputs": [],
   "source": [
    "# Reshape input for MLP: (N, 64, 1) → (N, 64)\n",
    "X_train_mlp = X_train.reshape(X_train.shape[0], -1)\n",
    "X_test_mlp = X_test.reshape(X_test.shape[0], -1)\n",
    "\n",
    "# Clear previous session\n",
    "K.clear_session()\n",
    "\n",
    "mlp_model = Sequential()"
   ]
  },
  {
   "cell_type": "code",
   "execution_count": 13,
   "id": "29f565e9",
   "metadata": {},
   "outputs": [
    {
     "data": {
      "text/html": [
       "<pre style=\"white-space:pre;overflow-x:auto;line-height:normal;font-family:Menlo,'DejaVu Sans Mono',consolas,'Courier New',monospace\"><span style=\"font-weight: bold\">Model: \"sequential\"</span>\n",
       "</pre>\n"
      ],
      "text/plain": [
       "\u001b[1mModel: \"sequential\"\u001b[0m\n"
      ]
     },
     "metadata": {},
     "output_type": "display_data"
    },
    {
     "data": {
      "text/html": [
       "<pre style=\"white-space:pre;overflow-x:auto;line-height:normal;font-family:Menlo,'DejaVu Sans Mono',consolas,'Courier New',monospace\">┏━━━━━━━━━━━━━━━━━━━━━━━━━━━━━━━━━┳━━━━━━━━━━━━━━━━━━━━━━━━┳━━━━━━━━━━━━━━━┓\n",
       "┃<span style=\"font-weight: bold\"> Layer (type)                    </span>┃<span style=\"font-weight: bold\"> Output Shape           </span>┃<span style=\"font-weight: bold\">       Param # </span>┃\n",
       "┡━━━━━━━━━━━━━━━━━━━━━━━━━━━━━━━━━╇━━━━━━━━━━━━━━━━━━━━━━━━╇━━━━━━━━━━━━━━━┩\n",
       "│ dense (<span style=\"color: #0087ff; text-decoration-color: #0087ff\">Dense</span>)                   │ (<span style=\"color: #00d7ff; text-decoration-color: #00d7ff\">None</span>, <span style=\"color: #00af00; text-decoration-color: #00af00\">1024</span>)           │        <span style=\"color: #00af00; text-decoration-color: #00af00\">66,560</span> │\n",
       "├─────────────────────────────────┼────────────────────────┼───────────────┤\n",
       "│ batch_normalization             │ (<span style=\"color: #00d7ff; text-decoration-color: #00d7ff\">None</span>, <span style=\"color: #00af00; text-decoration-color: #00af00\">1024</span>)           │         <span style=\"color: #00af00; text-decoration-color: #00af00\">4,096</span> │\n",
       "│ (<span style=\"color: #0087ff; text-decoration-color: #0087ff\">BatchNormalization</span>)            │                        │               │\n",
       "├─────────────────────────────────┼────────────────────────┼───────────────┤\n",
       "│ dropout (<span style=\"color: #0087ff; text-decoration-color: #0087ff\">Dropout</span>)               │ (<span style=\"color: #00d7ff; text-decoration-color: #00d7ff\">None</span>, <span style=\"color: #00af00; text-decoration-color: #00af00\">1024</span>)           │             <span style=\"color: #00af00; text-decoration-color: #00af00\">0</span> │\n",
       "├─────────────────────────────────┼────────────────────────┼───────────────┤\n",
       "│ dense_1 (<span style=\"color: #0087ff; text-decoration-color: #0087ff\">Dense</span>)                 │ (<span style=\"color: #00d7ff; text-decoration-color: #00d7ff\">None</span>, <span style=\"color: #00af00; text-decoration-color: #00af00\">512</span>)            │       <span style=\"color: #00af00; text-decoration-color: #00af00\">524,800</span> │\n",
       "├─────────────────────────────────┼────────────────────────┼───────────────┤\n",
       "│ batch_normalization_1           │ (<span style=\"color: #00d7ff; text-decoration-color: #00d7ff\">None</span>, <span style=\"color: #00af00; text-decoration-color: #00af00\">512</span>)            │         <span style=\"color: #00af00; text-decoration-color: #00af00\">2,048</span> │\n",
       "│ (<span style=\"color: #0087ff; text-decoration-color: #0087ff\">BatchNormalization</span>)            │                        │               │\n",
       "├─────────────────────────────────┼────────────────────────┼───────────────┤\n",
       "│ dropout_1 (<span style=\"color: #0087ff; text-decoration-color: #0087ff\">Dropout</span>)             │ (<span style=\"color: #00d7ff; text-decoration-color: #00d7ff\">None</span>, <span style=\"color: #00af00; text-decoration-color: #00af00\">512</span>)            │             <span style=\"color: #00af00; text-decoration-color: #00af00\">0</span> │\n",
       "├─────────────────────────────────┼────────────────────────┼───────────────┤\n",
       "│ dense_2 (<span style=\"color: #0087ff; text-decoration-color: #0087ff\">Dense</span>)                 │ (<span style=\"color: #00d7ff; text-decoration-color: #00d7ff\">None</span>, <span style=\"color: #00af00; text-decoration-color: #00af00\">256</span>)            │       <span style=\"color: #00af00; text-decoration-color: #00af00\">131,328</span> │\n",
       "├─────────────────────────────────┼────────────────────────┼───────────────┤\n",
       "│ batch_normalization_2           │ (<span style=\"color: #00d7ff; text-decoration-color: #00d7ff\">None</span>, <span style=\"color: #00af00; text-decoration-color: #00af00\">256</span>)            │         <span style=\"color: #00af00; text-decoration-color: #00af00\">1,024</span> │\n",
       "│ (<span style=\"color: #0087ff; text-decoration-color: #0087ff\">BatchNormalization</span>)            │                        │               │\n",
       "├─────────────────────────────────┼────────────────────────┼───────────────┤\n",
       "│ dropout_2 (<span style=\"color: #0087ff; text-decoration-color: #0087ff\">Dropout</span>)             │ (<span style=\"color: #00d7ff; text-decoration-color: #00d7ff\">None</span>, <span style=\"color: #00af00; text-decoration-color: #00af00\">256</span>)            │             <span style=\"color: #00af00; text-decoration-color: #00af00\">0</span> │\n",
       "├─────────────────────────────────┼────────────────────────┼───────────────┤\n",
       "│ dense_3 (<span style=\"color: #0087ff; text-decoration-color: #0087ff\">Dense</span>)                 │ (<span style=\"color: #00d7ff; text-decoration-color: #00d7ff\">None</span>, <span style=\"color: #00af00; text-decoration-color: #00af00\">128</span>)            │        <span style=\"color: #00af00; text-decoration-color: #00af00\">32,896</span> │\n",
       "├─────────────────────────────────┼────────────────────────┼───────────────┤\n",
       "│ dropout_3 (<span style=\"color: #0087ff; text-decoration-color: #0087ff\">Dropout</span>)             │ (<span style=\"color: #00d7ff; text-decoration-color: #00d7ff\">None</span>, <span style=\"color: #00af00; text-decoration-color: #00af00\">128</span>)            │             <span style=\"color: #00af00; text-decoration-color: #00af00\">0</span> │\n",
       "├─────────────────────────────────┼────────────────────────┼───────────────┤\n",
       "│ dense_4 (<span style=\"color: #0087ff; text-decoration-color: #0087ff\">Dense</span>)                 │ (<span style=\"color: #00d7ff; text-decoration-color: #00d7ff\">None</span>, <span style=\"color: #00af00; text-decoration-color: #00af00\">12</span>)             │         <span style=\"color: #00af00; text-decoration-color: #00af00\">1,548</span> │\n",
       "└─────────────────────────────────┴────────────────────────┴───────────────┘\n",
       "</pre>\n"
      ],
      "text/plain": [
       "┏━━━━━━━━━━━━━━━━━━━━━━━━━━━━━━━━━┳━━━━━━━━━━━━━━━━━━━━━━━━┳━━━━━━━━━━━━━━━┓\n",
       "┃\u001b[1m \u001b[0m\u001b[1mLayer (type)                   \u001b[0m\u001b[1m \u001b[0m┃\u001b[1m \u001b[0m\u001b[1mOutput Shape          \u001b[0m\u001b[1m \u001b[0m┃\u001b[1m \u001b[0m\u001b[1m      Param #\u001b[0m\u001b[1m \u001b[0m┃\n",
       "┡━━━━━━━━━━━━━━━━━━━━━━━━━━━━━━━━━╇━━━━━━━━━━━━━━━━━━━━━━━━╇━━━━━━━━━━━━━━━┩\n",
       "│ dense (\u001b[38;5;33mDense\u001b[0m)                   │ (\u001b[38;5;45mNone\u001b[0m, \u001b[38;5;34m1024\u001b[0m)           │        \u001b[38;5;34m66,560\u001b[0m │\n",
       "├─────────────────────────────────┼────────────────────────┼───────────────┤\n",
       "│ batch_normalization             │ (\u001b[38;5;45mNone\u001b[0m, \u001b[38;5;34m1024\u001b[0m)           │         \u001b[38;5;34m4,096\u001b[0m │\n",
       "│ (\u001b[38;5;33mBatchNormalization\u001b[0m)            │                        │               │\n",
       "├─────────────────────────────────┼────────────────────────┼───────────────┤\n",
       "│ dropout (\u001b[38;5;33mDropout\u001b[0m)               │ (\u001b[38;5;45mNone\u001b[0m, \u001b[38;5;34m1024\u001b[0m)           │             \u001b[38;5;34m0\u001b[0m │\n",
       "├─────────────────────────────────┼────────────────────────┼───────────────┤\n",
       "│ dense_1 (\u001b[38;5;33mDense\u001b[0m)                 │ (\u001b[38;5;45mNone\u001b[0m, \u001b[38;5;34m512\u001b[0m)            │       \u001b[38;5;34m524,800\u001b[0m │\n",
       "├─────────────────────────────────┼────────────────────────┼───────────────┤\n",
       "│ batch_normalization_1           │ (\u001b[38;5;45mNone\u001b[0m, \u001b[38;5;34m512\u001b[0m)            │         \u001b[38;5;34m2,048\u001b[0m │\n",
       "│ (\u001b[38;5;33mBatchNormalization\u001b[0m)            │                        │               │\n",
       "├─────────────────────────────────┼────────────────────────┼───────────────┤\n",
       "│ dropout_1 (\u001b[38;5;33mDropout\u001b[0m)             │ (\u001b[38;5;45mNone\u001b[0m, \u001b[38;5;34m512\u001b[0m)            │             \u001b[38;5;34m0\u001b[0m │\n",
       "├─────────────────────────────────┼────────────────────────┼───────────────┤\n",
       "│ dense_2 (\u001b[38;5;33mDense\u001b[0m)                 │ (\u001b[38;5;45mNone\u001b[0m, \u001b[38;5;34m256\u001b[0m)            │       \u001b[38;5;34m131,328\u001b[0m │\n",
       "├─────────────────────────────────┼────────────────────────┼───────────────┤\n",
       "│ batch_normalization_2           │ (\u001b[38;5;45mNone\u001b[0m, \u001b[38;5;34m256\u001b[0m)            │         \u001b[38;5;34m1,024\u001b[0m │\n",
       "│ (\u001b[38;5;33mBatchNormalization\u001b[0m)            │                        │               │\n",
       "├─────────────────────────────────┼────────────────────────┼───────────────┤\n",
       "│ dropout_2 (\u001b[38;5;33mDropout\u001b[0m)             │ (\u001b[38;5;45mNone\u001b[0m, \u001b[38;5;34m256\u001b[0m)            │             \u001b[38;5;34m0\u001b[0m │\n",
       "├─────────────────────────────────┼────────────────────────┼───────────────┤\n",
       "│ dense_3 (\u001b[38;5;33mDense\u001b[0m)                 │ (\u001b[38;5;45mNone\u001b[0m, \u001b[38;5;34m128\u001b[0m)            │        \u001b[38;5;34m32,896\u001b[0m │\n",
       "├─────────────────────────────────┼────────────────────────┼───────────────┤\n",
       "│ dropout_3 (\u001b[38;5;33mDropout\u001b[0m)             │ (\u001b[38;5;45mNone\u001b[0m, \u001b[38;5;34m128\u001b[0m)            │             \u001b[38;5;34m0\u001b[0m │\n",
       "├─────────────────────────────────┼────────────────────────┼───────────────┤\n",
       "│ dense_4 (\u001b[38;5;33mDense\u001b[0m)                 │ (\u001b[38;5;45mNone\u001b[0m, \u001b[38;5;34m12\u001b[0m)             │         \u001b[38;5;34m1,548\u001b[0m │\n",
       "└─────────────────────────────────┴────────────────────────┴───────────────┘\n"
      ]
     },
     "metadata": {},
     "output_type": "display_data"
    },
    {
     "data": {
      "text/html": [
       "<pre style=\"white-space:pre;overflow-x:auto;line-height:normal;font-family:Menlo,'DejaVu Sans Mono',consolas,'Courier New',monospace\"><span style=\"font-weight: bold\"> Total params: </span><span style=\"color: #00af00; text-decoration-color: #00af00\">764,300</span> (2.92 MB)\n",
       "</pre>\n"
      ],
      "text/plain": [
       "\u001b[1m Total params: \u001b[0m\u001b[38;5;34m764,300\u001b[0m (2.92 MB)\n"
      ]
     },
     "metadata": {},
     "output_type": "display_data"
    },
    {
     "data": {
      "text/html": [
       "<pre style=\"white-space:pre;overflow-x:auto;line-height:normal;font-family:Menlo,'DejaVu Sans Mono',consolas,'Courier New',monospace\"><span style=\"font-weight: bold\"> Trainable params: </span><span style=\"color: #00af00; text-decoration-color: #00af00\">760,716</span> (2.90 MB)\n",
       "</pre>\n"
      ],
      "text/plain": [
       "\u001b[1m Trainable params: \u001b[0m\u001b[38;5;34m760,716\u001b[0m (2.90 MB)\n"
      ]
     },
     "metadata": {},
     "output_type": "display_data"
    },
    {
     "data": {
      "text/html": [
       "<pre style=\"white-space:pre;overflow-x:auto;line-height:normal;font-family:Menlo,'DejaVu Sans Mono',consolas,'Courier New',monospace\"><span style=\"font-weight: bold\"> Non-trainable params: </span><span style=\"color: #00af00; text-decoration-color: #00af00\">3,584</span> (14.00 KB)\n",
       "</pre>\n"
      ],
      "text/plain": [
       "\u001b[1m Non-trainable params: \u001b[0m\u001b[38;5;34m3,584\u001b[0m (14.00 KB)\n"
      ]
     },
     "metadata": {},
     "output_type": "display_data"
    }
   ],
   "source": [
    "# ===== INPUT LAYER =====\n",
    "mlp_model.add(Input(shape=(64,)))\n",
    "\n",
    "# ===== DEEP FULLY CONNECTED BLOCKS =====\n",
    "mlp_model.add(Dense(1024, activation='relu'))\n",
    "mlp_model.add(BatchNormalization())\n",
    "mlp_model.add(Dropout(0.5))\n",
    "\n",
    "mlp_model.add(Dense(512, activation='relu'))\n",
    "mlp_model.add(BatchNormalization())\n",
    "mlp_model.add(Dropout(0.4))\n",
    "\n",
    "mlp_model.add(Dense(256, activation='relu'))\n",
    "mlp_model.add(BatchNormalization())\n",
    "mlp_model.add(Dropout(0.3))\n",
    "\n",
    "mlp_model.add(Dense(128, activation='relu'))\n",
    "mlp_model.add(Dropout(0.2))\n",
    "\n",
    "# ===== OUTPUT LAYER =====\n",
    "mlp_model.add(Dense(y.shape[1], activation='softmax'))\n",
    "\n",
    "# ===== COMPILE =====\n",
    "mlp_model.compile(\n",
    "    optimizer=Adam(learning_rate=1e-4),\n",
    "    loss='categorical_crossentropy',\n",
    "    metrics=['accuracy']\n",
    ")\n",
    "\n",
    "mlp_model.summary()"
   ]
  },
  {
   "cell_type": "markdown",
   "id": "330e9a26",
   "metadata": {},
   "source": [
    "Callbacks are like automated training assistants that monitor the model’s performance and take actions during training to make it more stable and efficient. Here’s what we used:\n",
    "\n",
    "EarlyStopping\n",
    "- Goal: Prevent the model from overfitting.\n",
    "\n",
    "- What it does: Monitors the validation loss (val_loss). If it doesn’t improve for 5 consecutive epochs, training is halted early.\n",
    "\n",
    "- restore_best_weights=True: Ensures the model reverts to the best checkpoint (lowest val_loss) before it started to overfit.\n",
    "\n",
    "- This is super helpful in our context since we have many instrument classes and some of them are underrepresented—so overfitting is a big risk.\n",
    "\n",
    "ReduceLROnPlateau\n",
    "- Goal: Dynamically adjust learning rate if the model gets stuck.\n",
    "\n",
    "- What it does: If val_loss stagnates for 2 epochs, it reduces the learning rate by 20% (i.e., multiplies it by 0.2).\n",
    "\n",
    "- Helps the model make finer adjustments once the loss plateaus, improving convergence and potentially getting past local minima."
   ]
  },
  {
   "cell_type": "markdown",
   "id": "124a778b",
   "metadata": {},
   "source": [
    "Here’s what’s happening in this line:\n",
    "\n",
    "Training data: X_train_mlp and y_train are fed into the MLP.\n",
    "\n",
    "Validation data: Used to monitor performance and trigger callbacks.\n",
    "\n",
    "Epochs: We set a max of 30, but EarlyStopping might end it earlier.\n",
    "\n",
    "Batch size: 32 is a balanced choice—big enough for performance, small enough to maintain gradient stability.\n",
    "\n",
    "Callbacks: Tells the training loop when to stop, and when to adapt.\n",
    "\n",
    "---\n",
    "\n",
    "Why This Was Critical for Our Research\n",
    "In our out-of-tune detection research, we deal with:\n",
    "\n",
    "A high number of classes (instruments),\n",
    "\n",
    "Imbalanced samples, and\n",
    "\n",
    "Dense feature vectors (from mel-spectrogram means).\n",
    "\n",
    "---\n",
    "\n",
    "This makes training delicate—overfitting and vanishing gradients are both real threats. Our callback setup provided guardrails to:\n",
    "\n",
    "Avoid overtraining on dominant classes,\n",
    "\n",
    "Fine-tune the learning rate when progress slowed,\n",
    "\n",
    "And save training time by stopping early if the model had peaked.\n",
    "\n"
   ]
  },
  {
   "cell_type": "code",
   "execution_count": 14,
   "id": "417b3dac",
   "metadata": {},
   "outputs": [
    {
     "name": "stdout",
     "output_type": "stream",
     "text": [
      "Epoch 1/30\n",
      "\u001b[1m6295/6295\u001b[0m \u001b[32m━━━━━━━━━━━━━━━━━━━━\u001b[0m\u001b[37m\u001b[0m \u001b[1m36s\u001b[0m 5ms/step - accuracy: 0.1729 - loss: 2.5653 - val_accuracy: 0.2911 - val_loss: 2.0556 - learning_rate: 1.0000e-04\n",
      "Epoch 2/30\n",
      "\u001b[1m6295/6295\u001b[0m \u001b[32m━━━━━━━━━━━━━━━━━━━━\u001b[0m\u001b[37m\u001b[0m \u001b[1m33s\u001b[0m 5ms/step - accuracy: 0.2491 - loss: 2.1671 - val_accuracy: 0.3069 - val_loss: 1.9874 - learning_rate: 1.0000e-04\n",
      "Epoch 3/30\n",
      "\u001b[1m6295/6295\u001b[0m \u001b[32m━━━━━━━━━━━━━━━━━━━━\u001b[0m\u001b[37m\u001b[0m \u001b[1m33s\u001b[0m 5ms/step - accuracy: 0.2772 - loss: 2.0818 - val_accuracy: 0.3209 - val_loss: 1.9342 - learning_rate: 1.0000e-04\n",
      "Epoch 4/30\n",
      "\u001b[1m6295/6295\u001b[0m \u001b[32m━━━━━━━━━━━━━━━━━━━━\u001b[0m\u001b[37m\u001b[0m \u001b[1m34s\u001b[0m 5ms/step - accuracy: 0.2895 - loss: 2.0387 - val_accuracy: 0.3281 - val_loss: 1.9002 - learning_rate: 1.0000e-04\n",
      "Epoch 5/30\n",
      "\u001b[1m6295/6295\u001b[0m \u001b[32m━━━━━━━━━━━━━━━━━━━━\u001b[0m\u001b[37m\u001b[0m \u001b[1m33s\u001b[0m 5ms/step - accuracy: 0.2979 - loss: 2.0070 - val_accuracy: 0.3316 - val_loss: 1.8833 - learning_rate: 1.0000e-04\n",
      "Epoch 6/30\n",
      "\u001b[1m6295/6295\u001b[0m \u001b[32m━━━━━━━━━━━━━━━━━━━━\u001b[0m\u001b[37m\u001b[0m \u001b[1m33s\u001b[0m 5ms/step - accuracy: 0.3027 - loss: 1.9876 - val_accuracy: 0.3327 - val_loss: 1.8620 - learning_rate: 1.0000e-04\n",
      "Epoch 7/30\n",
      "\u001b[1m6295/6295\u001b[0m \u001b[32m━━━━━━━━━━━━━━━━━━━━\u001b[0m\u001b[37m\u001b[0m \u001b[1m33s\u001b[0m 5ms/step - accuracy: 0.3085 - loss: 1.9706 - val_accuracy: 0.3385 - val_loss: 1.8423 - learning_rate: 1.0000e-04\n",
      "Epoch 8/30\n",
      "\u001b[1m6295/6295\u001b[0m \u001b[32m━━━━━━━━━━━━━━━━━━━━\u001b[0m\u001b[37m\u001b[0m \u001b[1m34s\u001b[0m 5ms/step - accuracy: 0.3100 - loss: 1.9619 - val_accuracy: 0.3418 - val_loss: 1.8334 - learning_rate: 1.0000e-04\n",
      "Epoch 9/30\n",
      "\u001b[1m6295/6295\u001b[0m \u001b[32m━━━━━━━━━━━━━━━━━━━━\u001b[0m\u001b[37m\u001b[0m \u001b[1m33s\u001b[0m 5ms/step - accuracy: 0.3116 - loss: 1.9534 - val_accuracy: 0.3421 - val_loss: 1.8340 - learning_rate: 1.0000e-04\n",
      "Epoch 10/30\n",
      "\u001b[1m6295/6295\u001b[0m \u001b[32m━━━━━━━━━━━━━━━━━━━━\u001b[0m\u001b[37m\u001b[0m \u001b[1m33s\u001b[0m 5ms/step - accuracy: 0.3142 - loss: 1.9449 - val_accuracy: 0.3467 - val_loss: 1.8219 - learning_rate: 1.0000e-04\n",
      "Epoch 11/30\n",
      "\u001b[1m6295/6295\u001b[0m \u001b[32m━━━━━━━━━━━━━━━━━━━━\u001b[0m\u001b[37m\u001b[0m \u001b[1m33s\u001b[0m 5ms/step - accuracy: 0.3186 - loss: 1.9395 - val_accuracy: 0.3480 - val_loss: 1.8197 - learning_rate: 1.0000e-04\n",
      "Epoch 12/30\n",
      "\u001b[1m6295/6295\u001b[0m \u001b[32m━━━━━━━━━━━━━━━━━━━━\u001b[0m\u001b[37m\u001b[0m \u001b[1m33s\u001b[0m 5ms/step - accuracy: 0.3183 - loss: 1.9295 - val_accuracy: 0.3505 - val_loss: 1.8080 - learning_rate: 1.0000e-04\n",
      "Epoch 13/30\n",
      "\u001b[1m6295/6295\u001b[0m \u001b[32m━━━━━━━━━━━━━━━━━━━━\u001b[0m\u001b[37m\u001b[0m \u001b[1m33s\u001b[0m 5ms/step - accuracy: 0.3196 - loss: 1.9302 - val_accuracy: 0.3552 - val_loss: 1.7915 - learning_rate: 1.0000e-04\n",
      "Epoch 14/30\n",
      "\u001b[1m6295/6295\u001b[0m \u001b[32m━━━━━━━━━━━━━━━━━━━━\u001b[0m\u001b[37m\u001b[0m \u001b[1m33s\u001b[0m 5ms/step - accuracy: 0.3215 - loss: 1.9231 - val_accuracy: 0.3541 - val_loss: 1.7939 - learning_rate: 1.0000e-04\n",
      "Epoch 15/30\n",
      "\u001b[1m6295/6295\u001b[0m \u001b[32m━━━━━━━━━━━━━━━━━━━━\u001b[0m\u001b[37m\u001b[0m \u001b[1m33s\u001b[0m 5ms/step - accuracy: 0.3258 - loss: 1.9189 - val_accuracy: 0.3559 - val_loss: 1.7820 - learning_rate: 1.0000e-04\n",
      "Epoch 16/30\n",
      "\u001b[1m6295/6295\u001b[0m \u001b[32m━━━━━━━━━━━━━━━━━━━━\u001b[0m\u001b[37m\u001b[0m \u001b[1m33s\u001b[0m 5ms/step - accuracy: 0.3229 - loss: 1.9198 - val_accuracy: 0.3574 - val_loss: 1.7850 - learning_rate: 1.0000e-04\n",
      "Epoch 17/30\n",
      "\u001b[1m6293/6295\u001b[0m \u001b[32m━━━━━━━━━━━━━━━━━━━\u001b[0m\u001b[37m━\u001b[0m \u001b[1m0s\u001b[0m 5ms/step - accuracy: 0.3247 - loss: 1.9176\n",
      "Epoch 17: ReduceLROnPlateau reducing learning rate to 1.9999999494757503e-05.\n",
      "\u001b[1m6295/6295\u001b[0m \u001b[32m━━━━━━━━━━━━━━━━━━━━\u001b[0m\u001b[37m\u001b[0m \u001b[1m33s\u001b[0m 5ms/step - accuracy: 0.3247 - loss: 1.9176 - val_accuracy: 0.3558 - val_loss: 1.7898 - learning_rate: 1.0000e-04\n",
      "Epoch 18/30\n",
      "\u001b[1m6295/6295\u001b[0m \u001b[32m━━━━━━━━━━━━━━━━━━━━\u001b[0m\u001b[37m\u001b[0m \u001b[1m33s\u001b[0m 5ms/step - accuracy: 0.3278 - loss: 1.9073 - val_accuracy: 0.3655 - val_loss: 1.7628 - learning_rate: 2.0000e-05\n",
      "Epoch 19/30\n",
      "\u001b[1m6295/6295\u001b[0m \u001b[32m━━━━━━━━━━━━━━━━━━━━\u001b[0m\u001b[37m\u001b[0m \u001b[1m33s\u001b[0m 5ms/step - accuracy: 0.3284 - loss: 1.9034 - val_accuracy: 0.3674 - val_loss: 1.7588 - learning_rate: 2.0000e-05\n",
      "Epoch 20/30\n",
      "\u001b[1m6295/6295\u001b[0m \u001b[32m━━━━━━━━━━━━━━━━━━━━\u001b[0m\u001b[37m\u001b[0m \u001b[1m33s\u001b[0m 5ms/step - accuracy: 0.3285 - loss: 1.8965 - val_accuracy: 0.3679 - val_loss: 1.7588 - learning_rate: 2.0000e-05\n",
      "Epoch 21/30\n",
      "\u001b[1m6295/6295\u001b[0m \u001b[32m━━━━━━━━━━━━━━━━━━━━\u001b[0m\u001b[37m\u001b[0m \u001b[1m33s\u001b[0m 5ms/step - accuracy: 0.3290 - loss: 1.9010 - val_accuracy: 0.3681 - val_loss: 1.7535 - learning_rate: 2.0000e-05\n",
      "Epoch 22/30\n",
      "\u001b[1m6295/6295\u001b[0m \u001b[32m━━━━━━━━━━━━━━━━━━━━\u001b[0m\u001b[37m\u001b[0m \u001b[1m33s\u001b[0m 5ms/step - accuracy: 0.3311 - loss: 1.8916 - val_accuracy: 0.3693 - val_loss: 1.7532 - learning_rate: 2.0000e-05\n",
      "Epoch 23/30\n",
      "\u001b[1m6295/6295\u001b[0m \u001b[32m━━━━━━━━━━━━━━━━━━━━\u001b[0m\u001b[37m\u001b[0m \u001b[1m33s\u001b[0m 5ms/step - accuracy: 0.3306 - loss: 1.8944 - val_accuracy: 0.3695 - val_loss: 1.7522 - learning_rate: 2.0000e-05\n",
      "Epoch 24/30\n",
      "\u001b[1m6295/6295\u001b[0m \u001b[32m━━━━━━━━━━━━━━━━━━━━\u001b[0m\u001b[37m\u001b[0m \u001b[1m33s\u001b[0m 5ms/step - accuracy: 0.3308 - loss: 1.8908 - val_accuracy: 0.3708 - val_loss: 1.7509 - learning_rate: 2.0000e-05\n",
      "Epoch 25/30\n",
      "\u001b[1m6295/6295\u001b[0m \u001b[32m━━━━━━━━━━━━━━━━━━━━\u001b[0m\u001b[37m\u001b[0m \u001b[1m33s\u001b[0m 5ms/step - accuracy: 0.3308 - loss: 1.8921 - val_accuracy: 0.3701 - val_loss: 1.7487 - learning_rate: 2.0000e-05\n",
      "Epoch 26/30\n",
      "\u001b[1m6295/6295\u001b[0m \u001b[32m━━━━━━━━━━━━━━━━━━━━\u001b[0m\u001b[37m\u001b[0m \u001b[1m33s\u001b[0m 5ms/step - accuracy: 0.3342 - loss: 1.8894 - val_accuracy: 0.3712 - val_loss: 1.7485 - learning_rate: 2.0000e-05\n",
      "Epoch 27/30\n",
      "\u001b[1m6295/6295\u001b[0m \u001b[32m━━━━━━━━━━━━━━━━━━━━\u001b[0m\u001b[37m\u001b[0m \u001b[1m34s\u001b[0m 5ms/step - accuracy: 0.3336 - loss: 1.8909 - val_accuracy: 0.3714 - val_loss: 1.7448 - learning_rate: 2.0000e-05\n",
      "Epoch 28/30\n",
      "\u001b[1m6295/6295\u001b[0m \u001b[32m━━━━━━━━━━━━━━━━━━━━\u001b[0m\u001b[37m\u001b[0m \u001b[1m38s\u001b[0m 6ms/step - accuracy: 0.3327 - loss: 1.8871 - val_accuracy: 0.3734 - val_loss: 1.7440 - learning_rate: 2.0000e-05\n",
      "Epoch 29/30\n",
      "\u001b[1m6295/6295\u001b[0m \u001b[32m━━━━━━━━━━━━━━━━━━━━\u001b[0m\u001b[37m\u001b[0m \u001b[1m36s\u001b[0m 6ms/step - accuracy: 0.3315 - loss: 1.8841 - val_accuracy: 0.3739 - val_loss: 1.7436 - learning_rate: 2.0000e-05\n",
      "Epoch 30/30\n",
      "\u001b[1m6295/6295\u001b[0m \u001b[32m━━━━━━━━━━━━━━━━━━━━\u001b[0m\u001b[37m\u001b[0m \u001b[1m38s\u001b[0m 6ms/step - accuracy: 0.3328 - loss: 1.8836 - val_accuracy: 0.3744 - val_loss: 1.7400 - learning_rate: 2.0000e-05\n"
     ]
    }
   ],
   "source": [
    "# ===== CALLBACKS =====\n",
    "mlp_callbacks = [\n",
    "    EarlyStopping(monitor='val_loss', patience=5, restore_best_weights=True),\n",
    "    ReduceLROnPlateau(monitor='val_loss', patience=2, factor=0.2, verbose=1)\n",
    "]\n",
    "\n",
    "# ===== TRAIN MLP MODEL =====\n",
    "mlp_history = mlp_model.fit(\n",
    "    X_train_mlp, y_train,\n",
    "    validation_data=(X_test_mlp, y_test),\n",
    "    epochs=30,\n",
    "    batch_size=32,\n",
    "    callbacks=mlp_callbacks\n",
    ")"
   ]
  },
  {
   "cell_type": "code",
   "execution_count": 15,
   "id": "a4397732",
   "metadata": {},
   "outputs": [
    {
     "name": "stdout",
     "output_type": "stream",
     "text": [
      "\u001b[1m1574/1574\u001b[0m \u001b[32m━━━━━━━━━━━━━━━━━━━━\u001b[0m\u001b[37m\u001b[0m \u001b[1m2s\u001b[0m 1ms/step\n"
     ]
    },
    {
     "name": "stderr",
     "output_type": "stream",
     "text": [
      "WARNING:absl:You are saving your model as an HDF5 file via `model.save()` or `keras.saving.save_model(model)`. This file format is considered legacy. We recommend using instead the native Keras format, e.g. `model.save('my_model.keras')` or `keras.saving.save_model(model, 'my_model.keras')`. \n"
     ]
    },
    {
     "name": "stdout",
     "output_type": "stream",
     "text": [
      "\n",
      "MLP Classification Report:\n",
      "               precision    recall  f1-score   support\n",
      "\n",
      "           0       0.39      0.44      0.41      5355\n",
      "           1       0.39      0.15      0.21      3715\n",
      "           2       0.58      0.01      0.02      2701\n",
      "           3       0.33      0.39      0.35      2830\n",
      "           4       0.44      0.67      0.53      5357\n",
      "           5       0.36      0.59      0.45      5364\n",
      "           6       0.36      0.18      0.24      5402\n",
      "           7       0.39      0.15      0.21      3688\n",
      "           8       0.36      0.66      0.46      5332\n",
      "           9       0.40      0.26      0.32      2232\n",
      "          10       0.34      0.37      0.36      5345\n",
      "          11       0.33      0.14      0.20      3033\n",
      "\n",
      "    accuracy                           0.37     50354\n",
      "   macro avg       0.39      0.33      0.31     50354\n",
      "weighted avg       0.38      0.37      0.34     50354\n",
      "\n",
      "\n",
      "MLP Confusion Matrix:\n",
      " [[2364   60    0  238  602  702   79   76  787  117  253   77]\n",
      " [ 441  548    0  226  451  514  268  185  528  106  333  115]\n",
      " [ 284   86   21  156  271  361  217   81  412   77  659   76]\n",
      " [ 213   37    0 1090  218  374  102   34  436   83  159   84]\n",
      " [ 156   30    0  141 3593  373   98   33  659   15  242   17]\n",
      " [ 293   37    0  172  520 3164  180   27  618   41  284   28]\n",
      " [ 655  175   11  306  523  654  966  156  765   92  934  165]\n",
      " [ 459  153    0  223  383  599  107  538  626  124  359  117]\n",
      " [ 144   35    0  128  588  597   71   18 3544    4  187   16]\n",
      " [ 238   35    0  116  263  454   44   15  326  589  124   28]\n",
      " [ 492  142    4  279  492  521  361  115  658  131 2002  148]\n",
      " [ 308   63    0  257  301  402  174   85  565  107  339  432]]\n"
     ]
    }
   ],
   "source": [
    "# ===== EVALUATION =====\n",
    "y_pred_probs_mlp = mlp_model.predict(X_test_mlp)\n",
    "y_pred_mlp = np.argmax(y_pred_probs_mlp, axis=1)\n",
    "y_true_mlp = np.argmax(y_test, axis=1)\n",
    "\n",
    "print(\"\\nMLP Classification Report:\\n\", classification_report(y_true_mlp, y_pred_mlp))\n",
    "print(\"\\nMLP Confusion Matrix:\\n\", confusion_matrix(y_true_mlp, y_pred_mlp))\n",
    "\n",
    "# ===== SAVE MLP MODEL =====\n",
    "mlp_model.save(\"mlp_out_of_tune_model.h5\")\n"
   ]
  },
  {
   "cell_type": "code",
   "execution_count": 16,
   "id": "70360f96",
   "metadata": {},
   "outputs": [
    {
     "data": {
      "image/png": "[encoded data removed]",
      "text/plain": [
       "<Figure size 1000x500 with 1 Axes>"
      ]
     },
     "metadata": {},
     "output_type": "display_data"
    }
   ],
   "source": [
    "# ===== OPTIONAL: PLOT MLP TRAINING =====\n",
    "plt.figure(figsize=(10,5))\n",
    "plt.plot(mlp_history.history['accuracy'], label='Train Acc (MLP)')\n",
    "plt.plot(mlp_history.history['val_accuracy'], label='Val Acc (MLP)')\n",
    "plt.xlabel('Epoch')\n",
    "plt.ylabel('Accuracy')\n",
    "plt.legend()\n",
    "plt.title('MLP Training Performance')\n",
    "plt.grid()\n",
    "plt.show()\n"
   ]
  },
  {
   "cell_type": "code",
   "execution_count": null,
   "id": "75d721fe",
   "metadata": {},
   "outputs": [],
   "source": [
    "#VGGISH Backbone\n",
    "waveforms = np.stack([\n",
    "    librosa.util.fix_length(\n",
    "        librosa.load(fp, sr=SAMPLE_RATE, mono=True, duration=DURATION_SEC)[0],\n",
    "        size=int(SAMPLE_RATE * DURATION_SEC)\n",
    "    )\n",
    "    for fp in files_tl\n",
    "], axis=0).astype(np.float32)\n",
    "\n",
    "os.environ[\"TFHUB_CACHE_DIR\"] = os.path.expanduser(\"~/my_project/tfhub_cache\")\n",
    "print(\"Loading VGGish from TF-Hub…\")\n",
    "vggish_layer = hub.KerasLayer(\n",
    "    \"https://tfhub.dev/google/vggish/1\",\n",
    "    dtype=tf.float32,\n",
    "    trainable=False\n",
    ")\n",
    "inputs = tf.keras.Input(shape=(SAMPLE_RATE * int(DURATION_SEC),), dtype=tf.float32)\n",
    "patches = vggish_layer(inputs)                 # (None, T, 128)\n",
    "mean_embed = tf.reduce_mean(patches, axis=1)   # (None, 128)\n",
    "embed_model = tf.keras.Model(inputs, mean_embed)\n",
    "\n",
    "X_vgg = embed_model.predict(waveforms, batch_size=256, verbose=1)\n",
    "y_vgg = y[valid_indices].astype(np.float32)\n",
    "\n",
    "\n"
   ]
  },
  {
   "cell_type": "code",
   "execution_count": 38,
   "id": "d5174d6e",
   "metadata": {},
   "outputs": [],
   "source": [
    "files_tl = [filepaths[i] for i in valid_indices]\n",
    "ds = tf.data.Dataset.from_tensor_slices(files_tl)\n",
    "\n",
    "def load_and_pad(path):\n",
    "    # read file, decode WAV to float32 [samples,1]\n",
    "    wav, _ = tf.audio.decode_wav(tf.io.read_file(path),\n",
    "                                 desired_channels=1,\n",
    "                                 desired_samples=SAMPLE_RATE * int(DURATION_SEC))\n",
    "    wav = tf.squeeze(wav, axis=-1)                    # (samples,)\n",
    "    return wav\n",
    "\n",
    "ds = (\n",
    "    ds\n",
    "    .map(load_and_pad, num_parallel_calls=tf.data.AUTOTUNE)\n",
    "    .batch(256)          # tune this up or down to fit your GPU/CPU\n",
    "    .prefetch(tf.data.AUTOTUNE)\n",
    ")\n"
   ]
  },
  {
   "cell_type": "code",
   "execution_count": 39,
   "id": "821a2a88",
   "metadata": {},
   "outputs": [],
   "source": [
    "def batched_vggish(batch_waveforms):\n",
    "    # batch_waveforms: (batch_size, samples)\n",
    "    # tf.map_fn will call vggish(x) for each x in the batch\n",
    "    patches = tf.map_fn(lambda x: vggish(x), batch_waveforms,\n",
    "                        fn_output_signature=tf.float32)\n",
    "    # patches: (batch_size, T, 128)\n",
    "    return tf.reduce_mean(patches, axis=1)\n",
    "\n",
    "embeds = []\n",
    "for batch_wavs in ds:                  # ds yields (batch_size, samples)\n",
    "    mean_emb = batched_vggish(batch_wavs)\n",
    "    embeds.append(mean_emb)\n",
    "\n",
    "X_vgg = tf.concat(embeds, axis=0).numpy().astype(np.float32)"
   ]
  },
  {
   "cell_type": "code",
   "execution_count": 40,
   "id": "fec82ee9",
   "metadata": {},
   "outputs": [
    {
     "name": "stdout",
     "output_type": "stream",
     "text": [
      "Computing VGGish embeddings…\n"
     ]
    },
    {
     "ename": "KeyboardInterrupt",
     "evalue": "",
     "output_type": "error",
     "traceback": [
      "\u001b[1;31m---------------------------------------------------------------------------\u001b[0m",
      "\u001b[1;31mKeyboardInterrupt\u001b[0m                         Traceback (most recent call last)",
      "Cell \u001b[1;32mIn[40], line 2\u001b[0m\n\u001b[0;32m      1\u001b[0m \u001b[38;5;28mprint\u001b[39m(\u001b[38;5;124m\"\u001b[39m\u001b[38;5;124mComputing VGGish embeddings…\u001b[39m\u001b[38;5;124m\"\u001b[39m)\n\u001b[1;32m----> 2\u001b[0m X_vgg \u001b[38;5;241m=\u001b[39m np\u001b[38;5;241m.\u001b[39mstack([extract_vggish(fp) \u001b[38;5;28;01mfor\u001b[39;00m fp \u001b[38;5;129;01min\u001b[39;00m files_tl], axis\u001b[38;5;241m=\u001b[39m\u001b[38;5;241m0\u001b[39m)  \u001b[38;5;66;03m# (N_valid,128)\u001b[39;00m\n\u001b[0;32m      3\u001b[0m y_vgg \u001b[38;5;241m=\u001b[39m y[valid_indices]\u001b[38;5;241m.\u001b[39mastype(np\u001b[38;5;241m.\u001b[39mfloat32)\n",
      "Cell \u001b[1;32mIn[37], line 16\u001b[0m, in \u001b[0;36mextract_vggish\u001b[1;34m(path)\u001b[0m\n\u001b[0;32m     14\u001b[0m \u001b[38;5;28;01mif\u001b[39;00m \u001b[38;5;28mlen\u001b[39m(y) \u001b[38;5;241m<\u001b[39m SAMPLE_RATE \u001b[38;5;241m*\u001b[39m DURATION_SEC:\n\u001b[0;32m     15\u001b[0m     y \u001b[38;5;241m=\u001b[39m np\u001b[38;5;241m.\u001b[39mpad(y, (\u001b[38;5;241m0\u001b[39m, SAMPLE_RATE \u001b[38;5;241m*\u001b[39m DURATION_SEC \u001b[38;5;241m-\u001b[39m \u001b[38;5;28mlen\u001b[39m(y)))\n\u001b[1;32m---> 16\u001b[0m patches \u001b[38;5;241m=\u001b[39m vggish(y)                         \u001b[38;5;66;03m# returns shape (T,128)\u001b[39;00m\n\u001b[0;32m     17\u001b[0m mean_emb \u001b[38;5;241m=\u001b[39m tf\u001b[38;5;241m.\u001b[39mreduce_mean(patches, axis\u001b[38;5;241m=\u001b[39m\u001b[38;5;241m0\u001b[39m) \u001b[38;5;66;03m# ← NEW: mean-pool the time dimension\u001b[39;00m\n\u001b[0;32m     18\u001b[0m \u001b[38;5;28;01mreturn\u001b[39;00m mean_emb\u001b[38;5;241m.\u001b[39mnumpy()\u001b[38;5;241m.\u001b[39mastype(np\u001b[38;5;241m.\u001b[39mfloat32)\n",
      "File \u001b[1;32mc:\\Users\\mmthe\\anaconda3\\Lib\\site-packages\\tf_keras\\src\\utils\\traceback_utils.py:65\u001b[0m, in \u001b[0;36mfilter_traceback.<locals>.error_handler\u001b[1;34m(*args, **kwargs)\u001b[0m\n\u001b[0;32m     63\u001b[0m filtered_tb \u001b[38;5;241m=\u001b[39m \u001b[38;5;28;01mNone\u001b[39;00m\n\u001b[0;32m     64\u001b[0m \u001b[38;5;28;01mtry\u001b[39;00m:\n\u001b[1;32m---> 65\u001b[0m     \u001b[38;5;28;01mreturn\u001b[39;00m fn(\u001b[38;5;241m*\u001b[39margs, \u001b[38;5;241m*\u001b[39m\u001b[38;5;241m*\u001b[39mkwargs)\n\u001b[0;32m     66\u001b[0m \u001b[38;5;28;01mexcept\u001b[39;00m \u001b[38;5;167;01mException\u001b[39;00m \u001b[38;5;28;01mas\u001b[39;00m e:\n\u001b[0;32m     67\u001b[0m     filtered_tb \u001b[38;5;241m=\u001b[39m _process_traceback_frames(e\u001b[38;5;241m.\u001b[39m__traceback__)\n",
      "File \u001b[1;32mc:\\Users\\mmthe\\anaconda3\\Lib\\site-packages\\tf_keras\\src\\engine\\base_layer.py:1142\u001b[0m, in \u001b[0;36mLayer.__call__\u001b[1;34m(self, *args, **kwargs)\u001b[0m\n\u001b[0;32m   1137\u001b[0m     inputs \u001b[38;5;241m=\u001b[39m \u001b[38;5;28mself\u001b[39m\u001b[38;5;241m.\u001b[39m_maybe_cast_inputs(inputs, input_list)\n\u001b[0;32m   1139\u001b[0m \u001b[38;5;28;01mwith\u001b[39;00m autocast_variable\u001b[38;5;241m.\u001b[39menable_auto_cast_variables(\n\u001b[0;32m   1140\u001b[0m     \u001b[38;5;28mself\u001b[39m\u001b[38;5;241m.\u001b[39m_compute_dtype_object\n\u001b[0;32m   1141\u001b[0m ):\n\u001b[1;32m-> 1142\u001b[0m     outputs \u001b[38;5;241m=\u001b[39m call_fn(inputs, \u001b[38;5;241m*\u001b[39margs, \u001b[38;5;241m*\u001b[39m\u001b[38;5;241m*\u001b[39mkwargs)\n\u001b[0;32m   1144\u001b[0m \u001b[38;5;28;01mif\u001b[39;00m \u001b[38;5;28mself\u001b[39m\u001b[38;5;241m.\u001b[39m_activity_regularizer:\n\u001b[0;32m   1145\u001b[0m     \u001b[38;5;28mself\u001b[39m\u001b[38;5;241m.\u001b[39m_handle_activity_regularization(inputs, outputs)\n",
      "File \u001b[1;32mc:\\Users\\mmthe\\anaconda3\\Lib\\site-packages\\tf_keras\\src\\utils\\traceback_utils.py:96\u001b[0m, in \u001b[0;36minject_argument_info_in_traceback.<locals>.error_handler\u001b[1;34m(*args, **kwargs)\u001b[0m\n\u001b[0;32m     94\u001b[0m bound_signature \u001b[38;5;241m=\u001b[39m \u001b[38;5;28;01mNone\u001b[39;00m\n\u001b[0;32m     95\u001b[0m \u001b[38;5;28;01mtry\u001b[39;00m:\n\u001b[1;32m---> 96\u001b[0m     \u001b[38;5;28;01mreturn\u001b[39;00m fn(\u001b[38;5;241m*\u001b[39margs, \u001b[38;5;241m*\u001b[39m\u001b[38;5;241m*\u001b[39mkwargs)\n\u001b[0;32m     97\u001b[0m \u001b[38;5;28;01mexcept\u001b[39;00m \u001b[38;5;167;01mException\u001b[39;00m \u001b[38;5;28;01mas\u001b[39;00m e:\n\u001b[0;32m     98\u001b[0m     \u001b[38;5;28;01mif\u001b[39;00m \u001b[38;5;28mhasattr\u001b[39m(e, \u001b[38;5;124m\"\u001b[39m\u001b[38;5;124m_keras_call_info_injected\u001b[39m\u001b[38;5;124m\"\u001b[39m):\n\u001b[0;32m     99\u001b[0m         \u001b[38;5;66;03m# Only inject info for the innermost failing call\u001b[39;00m\n",
      "File \u001b[1;32mc:\\Users\\mmthe\\anaconda3\\Lib\\site-packages\\tensorflow_hub\\keras_layer.py:242\u001b[0m, in \u001b[0;36mKerasLayer.call\u001b[1;34m(self, inputs, training)\u001b[0m\n\u001b[0;32m    236\u001b[0m \u001b[38;5;66;03m# ...but we may also have to pass a Python boolean for `training`, which\u001b[39;00m\n\u001b[0;32m    237\u001b[0m \u001b[38;5;66;03m# is the logical \"and\" of this layer's trainability and what the surrounding\u001b[39;00m\n\u001b[0;32m    238\u001b[0m \u001b[38;5;66;03m# model is doing (analogous to keras.layers.BatchNormalization in TF2).\u001b[39;00m\n\u001b[0;32m    239\u001b[0m \u001b[38;5;66;03m# For the latter, we have to look in two places: the `training` argument,\u001b[39;00m\n\u001b[0;32m    240\u001b[0m \u001b[38;5;66;03m# or else Keras' global `learning_phase`, which might actually be a tensor.\u001b[39;00m\n\u001b[0;32m    241\u001b[0m \u001b[38;5;28;01mif\u001b[39;00m \u001b[38;5;129;01mnot\u001b[39;00m \u001b[38;5;28mself\u001b[39m\u001b[38;5;241m.\u001b[39m_has_training_argument:\n\u001b[1;32m--> 242\u001b[0m   result \u001b[38;5;241m=\u001b[39m f()\n\u001b[0;32m    243\u001b[0m \u001b[38;5;28;01melse\u001b[39;00m:\n\u001b[0;32m    244\u001b[0m   \u001b[38;5;28;01mif\u001b[39;00m \u001b[38;5;28mself\u001b[39m\u001b[38;5;241m.\u001b[39mtrainable:\n",
      "File \u001b[1;32mc:\\Users\\mmthe\\anaconda3\\Lib\\site-packages\\tensorflow\\python\\saved_model\\load.py:817\u001b[0m, in \u001b[0;36m_call_attribute\u001b[1;34m(instance, *args, **kwargs)\u001b[0m\n\u001b[0;32m    816\u001b[0m \u001b[38;5;28;01mdef\u001b[39;00m \u001b[38;5;21m_call_attribute\u001b[39m(instance, \u001b[38;5;241m*\u001b[39margs, \u001b[38;5;241m*\u001b[39m\u001b[38;5;241m*\u001b[39mkwargs):\n\u001b[1;32m--> 817\u001b[0m   \u001b[38;5;28;01mreturn\u001b[39;00m instance\u001b[38;5;241m.\u001b[39m\u001b[38;5;21m__call__\u001b[39m(\u001b[38;5;241m*\u001b[39margs, \u001b[38;5;241m*\u001b[39m\u001b[38;5;241m*\u001b[39mkwargs)\n",
      "File \u001b[1;32mc:\\Users\\mmthe\\anaconda3\\Lib\\site-packages\\tensorflow\\python\\util\\traceback_utils.py:150\u001b[0m, in \u001b[0;36mfilter_traceback.<locals>.error_handler\u001b[1;34m(*args, **kwargs)\u001b[0m\n\u001b[0;32m    148\u001b[0m filtered_tb \u001b[38;5;241m=\u001b[39m \u001b[38;5;28;01mNone\u001b[39;00m\n\u001b[0;32m    149\u001b[0m \u001b[38;5;28;01mtry\u001b[39;00m:\n\u001b[1;32m--> 150\u001b[0m   \u001b[38;5;28;01mreturn\u001b[39;00m fn(\u001b[38;5;241m*\u001b[39margs, \u001b[38;5;241m*\u001b[39m\u001b[38;5;241m*\u001b[39mkwargs)\n\u001b[0;32m    151\u001b[0m \u001b[38;5;28;01mexcept\u001b[39;00m \u001b[38;5;167;01mException\u001b[39;00m \u001b[38;5;28;01mas\u001b[39;00m e:\n\u001b[0;32m    152\u001b[0m   filtered_tb \u001b[38;5;241m=\u001b[39m _process_traceback_frames(e\u001b[38;5;241m.\u001b[39m__traceback__)\n",
      "File \u001b[1;32mc:\\Users\\mmthe\\anaconda3\\Lib\\site-packages\\tensorflow\\python\\eager\\polymorphic_function\\polymorphic_function.py:833\u001b[0m, in \u001b[0;36mFunction.__call__\u001b[1;34m(self, *args, **kwds)\u001b[0m\n\u001b[0;32m    830\u001b[0m compiler \u001b[38;5;241m=\u001b[39m \u001b[38;5;124m\"\u001b[39m\u001b[38;5;124mxla\u001b[39m\u001b[38;5;124m\"\u001b[39m \u001b[38;5;28;01mif\u001b[39;00m \u001b[38;5;28mself\u001b[39m\u001b[38;5;241m.\u001b[39m_jit_compile \u001b[38;5;28;01melse\u001b[39;00m \u001b[38;5;124m\"\u001b[39m\u001b[38;5;124mnonXla\u001b[39m\u001b[38;5;124m\"\u001b[39m\n\u001b[0;32m    832\u001b[0m \u001b[38;5;28;01mwith\u001b[39;00m OptionalXlaContext(\u001b[38;5;28mself\u001b[39m\u001b[38;5;241m.\u001b[39m_jit_compile):\n\u001b[1;32m--> 833\u001b[0m   result \u001b[38;5;241m=\u001b[39m \u001b[38;5;28mself\u001b[39m\u001b[38;5;241m.\u001b[39m_call(\u001b[38;5;241m*\u001b[39margs, \u001b[38;5;241m*\u001b[39m\u001b[38;5;241m*\u001b[39mkwds)\n\u001b[0;32m    835\u001b[0m new_tracing_count \u001b[38;5;241m=\u001b[39m \u001b[38;5;28mself\u001b[39m\u001b[38;5;241m.\u001b[39mexperimental_get_tracing_count()\n\u001b[0;32m    836\u001b[0m without_tracing \u001b[38;5;241m=\u001b[39m (tracing_count \u001b[38;5;241m==\u001b[39m new_tracing_count)\n",
      "File \u001b[1;32mc:\\Users\\mmthe\\anaconda3\\Lib\\site-packages\\tensorflow\\python\\eager\\polymorphic_function\\polymorphic_function.py:878\u001b[0m, in \u001b[0;36mFunction._call\u001b[1;34m(self, *args, **kwds)\u001b[0m\n\u001b[0;32m    875\u001b[0m \u001b[38;5;28mself\u001b[39m\u001b[38;5;241m.\u001b[39m_lock\u001b[38;5;241m.\u001b[39mrelease()\n\u001b[0;32m    876\u001b[0m \u001b[38;5;66;03m# In this case we have not created variables on the first call. So we can\u001b[39;00m\n\u001b[0;32m    877\u001b[0m \u001b[38;5;66;03m# run the first trace but we should fail if variables are created.\u001b[39;00m\n\u001b[1;32m--> 878\u001b[0m results \u001b[38;5;241m=\u001b[39m tracing_compilation\u001b[38;5;241m.\u001b[39mcall_function(\n\u001b[0;32m    879\u001b[0m     args, kwds, \u001b[38;5;28mself\u001b[39m\u001b[38;5;241m.\u001b[39m_variable_creation_config\n\u001b[0;32m    880\u001b[0m )\n\u001b[0;32m    881\u001b[0m \u001b[38;5;28;01mif\u001b[39;00m \u001b[38;5;28mself\u001b[39m\u001b[38;5;241m.\u001b[39m_created_variables:\n\u001b[0;32m    882\u001b[0m   \u001b[38;5;28;01mraise\u001b[39;00m \u001b[38;5;167;01mValueError\u001b[39;00m(\u001b[38;5;124m\"\u001b[39m\u001b[38;5;124mCreating variables on a non-first call to a function\u001b[39m\u001b[38;5;124m\"\u001b[39m\n\u001b[0;32m    883\u001b[0m                    \u001b[38;5;124m\"\u001b[39m\u001b[38;5;124m decorated with tf.function.\u001b[39m\u001b[38;5;124m\"\u001b[39m)\n",
      "File \u001b[1;32mc:\\Users\\mmthe\\anaconda3\\Lib\\site-packages\\tensorflow\\python\\eager\\polymorphic_function\\tracing_compilation.py:139\u001b[0m, in \u001b[0;36mcall_function\u001b[1;34m(args, kwargs, tracing_options)\u001b[0m\n\u001b[0;32m    137\u001b[0m bound_args \u001b[38;5;241m=\u001b[39m function\u001b[38;5;241m.\u001b[39mfunction_type\u001b[38;5;241m.\u001b[39mbind(\u001b[38;5;241m*\u001b[39margs, \u001b[38;5;241m*\u001b[39m\u001b[38;5;241m*\u001b[39mkwargs)\n\u001b[0;32m    138\u001b[0m flat_inputs \u001b[38;5;241m=\u001b[39m function\u001b[38;5;241m.\u001b[39mfunction_type\u001b[38;5;241m.\u001b[39munpack_inputs(bound_args)\n\u001b[1;32m--> 139\u001b[0m \u001b[38;5;28;01mreturn\u001b[39;00m function\u001b[38;5;241m.\u001b[39m_call_flat(  \u001b[38;5;66;03m# pylint: disable=protected-access\u001b[39;00m\n\u001b[0;32m    140\u001b[0m     flat_inputs, captured_inputs\u001b[38;5;241m=\u001b[39mfunction\u001b[38;5;241m.\u001b[39mcaptured_inputs\n\u001b[0;32m    141\u001b[0m )\n",
      "File \u001b[1;32mc:\\Users\\mmthe\\anaconda3\\Lib\\site-packages\\tensorflow\\python\\eager\\polymorphic_function\\concrete_function.py:1322\u001b[0m, in \u001b[0;36mConcreteFunction._call_flat\u001b[1;34m(self, tensor_inputs, captured_inputs)\u001b[0m\n\u001b[0;32m   1318\u001b[0m possible_gradient_type \u001b[38;5;241m=\u001b[39m gradients_util\u001b[38;5;241m.\u001b[39mPossibleTapeGradientTypes(args)\n\u001b[0;32m   1319\u001b[0m \u001b[38;5;28;01mif\u001b[39;00m (possible_gradient_type \u001b[38;5;241m==\u001b[39m gradients_util\u001b[38;5;241m.\u001b[39mPOSSIBLE_GRADIENT_TYPES_NONE\n\u001b[0;32m   1320\u001b[0m     \u001b[38;5;129;01mand\u001b[39;00m executing_eagerly):\n\u001b[0;32m   1321\u001b[0m   \u001b[38;5;66;03m# No tape is watching; skip to running the function.\u001b[39;00m\n\u001b[1;32m-> 1322\u001b[0m   \u001b[38;5;28;01mreturn\u001b[39;00m \u001b[38;5;28mself\u001b[39m\u001b[38;5;241m.\u001b[39m_inference_function\u001b[38;5;241m.\u001b[39mcall_preflattened(args)\n\u001b[0;32m   1323\u001b[0m forward_backward \u001b[38;5;241m=\u001b[39m \u001b[38;5;28mself\u001b[39m\u001b[38;5;241m.\u001b[39m_select_forward_and_backward_functions(\n\u001b[0;32m   1324\u001b[0m     args,\n\u001b[0;32m   1325\u001b[0m     possible_gradient_type,\n\u001b[0;32m   1326\u001b[0m     executing_eagerly)\n\u001b[0;32m   1327\u001b[0m forward_function, args_with_tangents \u001b[38;5;241m=\u001b[39m forward_backward\u001b[38;5;241m.\u001b[39mforward()\n",
      "File \u001b[1;32mc:\\Users\\mmthe\\anaconda3\\Lib\\site-packages\\tensorflow\\python\\eager\\polymorphic_function\\atomic_function.py:216\u001b[0m, in \u001b[0;36mAtomicFunction.call_preflattened\u001b[1;34m(self, args)\u001b[0m\n\u001b[0;32m    214\u001b[0m \u001b[38;5;28;01mdef\u001b[39;00m \u001b[38;5;21mcall_preflattened\u001b[39m(\u001b[38;5;28mself\u001b[39m, args: Sequence[core\u001b[38;5;241m.\u001b[39mTensor]) \u001b[38;5;241m-\u001b[39m\u001b[38;5;241m>\u001b[39m Any:\n\u001b[0;32m    215\u001b[0m \u001b[38;5;250m  \u001b[39m\u001b[38;5;124;03m\"\"\"Calls with flattened tensor inputs and returns the structured output.\"\"\"\u001b[39;00m\n\u001b[1;32m--> 216\u001b[0m   flat_outputs \u001b[38;5;241m=\u001b[39m \u001b[38;5;28mself\u001b[39m\u001b[38;5;241m.\u001b[39mcall_flat(\u001b[38;5;241m*\u001b[39margs)\n\u001b[0;32m    217\u001b[0m   \u001b[38;5;28;01mreturn\u001b[39;00m \u001b[38;5;28mself\u001b[39m\u001b[38;5;241m.\u001b[39mfunction_type\u001b[38;5;241m.\u001b[39mpack_output(flat_outputs)\n",
      "File \u001b[1;32mc:\\Users\\mmthe\\anaconda3\\Lib\\site-packages\\tensorflow\\python\\eager\\polymorphic_function\\atomic_function.py:251\u001b[0m, in \u001b[0;36mAtomicFunction.call_flat\u001b[1;34m(self, *args)\u001b[0m\n\u001b[0;32m    249\u001b[0m \u001b[38;5;28;01mwith\u001b[39;00m record\u001b[38;5;241m.\u001b[39mstop_recording():\n\u001b[0;32m    250\u001b[0m   \u001b[38;5;28;01mif\u001b[39;00m \u001b[38;5;28mself\u001b[39m\u001b[38;5;241m.\u001b[39m_bound_context\u001b[38;5;241m.\u001b[39mexecuting_eagerly():\n\u001b[1;32m--> 251\u001b[0m     outputs \u001b[38;5;241m=\u001b[39m \u001b[38;5;28mself\u001b[39m\u001b[38;5;241m.\u001b[39m_bound_context\u001b[38;5;241m.\u001b[39mcall_function(\n\u001b[0;32m    252\u001b[0m         \u001b[38;5;28mself\u001b[39m\u001b[38;5;241m.\u001b[39mname,\n\u001b[0;32m    253\u001b[0m         \u001b[38;5;28mlist\u001b[39m(args),\n\u001b[0;32m    254\u001b[0m         \u001b[38;5;28mlen\u001b[39m(\u001b[38;5;28mself\u001b[39m\u001b[38;5;241m.\u001b[39mfunction_type\u001b[38;5;241m.\u001b[39mflat_outputs),\n\u001b[0;32m    255\u001b[0m     )\n\u001b[0;32m    256\u001b[0m   \u001b[38;5;28;01melse\u001b[39;00m:\n\u001b[0;32m    257\u001b[0m     outputs \u001b[38;5;241m=\u001b[39m make_call_op_in_graph(\n\u001b[0;32m    258\u001b[0m         \u001b[38;5;28mself\u001b[39m,\n\u001b[0;32m    259\u001b[0m         \u001b[38;5;28mlist\u001b[39m(args),\n\u001b[0;32m    260\u001b[0m         \u001b[38;5;28mself\u001b[39m\u001b[38;5;241m.\u001b[39m_bound_context\u001b[38;5;241m.\u001b[39mfunction_call_options\u001b[38;5;241m.\u001b[39mas_attrs(),\n\u001b[0;32m    261\u001b[0m     )\n",
      "File \u001b[1;32mc:\\Users\\mmthe\\anaconda3\\Lib\\site-packages\\tensorflow\\python\\eager\\context.py:1688\u001b[0m, in \u001b[0;36mContext.call_function\u001b[1;34m(self, name, tensor_inputs, num_outputs)\u001b[0m\n\u001b[0;32m   1686\u001b[0m cancellation_context \u001b[38;5;241m=\u001b[39m cancellation\u001b[38;5;241m.\u001b[39mcontext()\n\u001b[0;32m   1687\u001b[0m \u001b[38;5;28;01mif\u001b[39;00m cancellation_context \u001b[38;5;129;01mis\u001b[39;00m \u001b[38;5;28;01mNone\u001b[39;00m:\n\u001b[1;32m-> 1688\u001b[0m   outputs \u001b[38;5;241m=\u001b[39m execute\u001b[38;5;241m.\u001b[39mexecute(\n\u001b[0;32m   1689\u001b[0m       name\u001b[38;5;241m.\u001b[39mdecode(\u001b[38;5;124m\"\u001b[39m\u001b[38;5;124mutf-8\u001b[39m\u001b[38;5;124m\"\u001b[39m),\n\u001b[0;32m   1690\u001b[0m       num_outputs\u001b[38;5;241m=\u001b[39mnum_outputs,\n\u001b[0;32m   1691\u001b[0m       inputs\u001b[38;5;241m=\u001b[39mtensor_inputs,\n\u001b[0;32m   1692\u001b[0m       attrs\u001b[38;5;241m=\u001b[39mattrs,\n\u001b[0;32m   1693\u001b[0m       ctx\u001b[38;5;241m=\u001b[39m\u001b[38;5;28mself\u001b[39m,\n\u001b[0;32m   1694\u001b[0m   )\n\u001b[0;32m   1695\u001b[0m \u001b[38;5;28;01melse\u001b[39;00m:\n\u001b[0;32m   1696\u001b[0m   outputs \u001b[38;5;241m=\u001b[39m execute\u001b[38;5;241m.\u001b[39mexecute_with_cancellation(\n\u001b[0;32m   1697\u001b[0m       name\u001b[38;5;241m.\u001b[39mdecode(\u001b[38;5;124m\"\u001b[39m\u001b[38;5;124mutf-8\u001b[39m\u001b[38;5;124m\"\u001b[39m),\n\u001b[0;32m   1698\u001b[0m       num_outputs\u001b[38;5;241m=\u001b[39mnum_outputs,\n\u001b[1;32m   (...)\u001b[0m\n\u001b[0;32m   1702\u001b[0m       cancellation_manager\u001b[38;5;241m=\u001b[39mcancellation_context,\n\u001b[0;32m   1703\u001b[0m   )\n",
      "File \u001b[1;32mc:\\Users\\mmthe\\anaconda3\\Lib\\site-packages\\tensorflow\\python\\eager\\execute.py:53\u001b[0m, in \u001b[0;36mquick_execute\u001b[1;34m(op_name, num_outputs, inputs, attrs, ctx, name)\u001b[0m\n\u001b[0;32m     51\u001b[0m \u001b[38;5;28;01mtry\u001b[39;00m:\n\u001b[0;32m     52\u001b[0m   ctx\u001b[38;5;241m.\u001b[39mensure_initialized()\n\u001b[1;32m---> 53\u001b[0m   tensors \u001b[38;5;241m=\u001b[39m pywrap_tfe\u001b[38;5;241m.\u001b[39mTFE_Py_Execute(ctx\u001b[38;5;241m.\u001b[39m_handle, device_name, op_name,\n\u001b[0;32m     54\u001b[0m                                       inputs, attrs, num_outputs)\n\u001b[0;32m     55\u001b[0m \u001b[38;5;28;01mexcept\u001b[39;00m core\u001b[38;5;241m.\u001b[39m_NotOkStatusException \u001b[38;5;28;01mas\u001b[39;00m e:\n\u001b[0;32m     56\u001b[0m   \u001b[38;5;28;01mif\u001b[39;00m name \u001b[38;5;129;01mis\u001b[39;00m \u001b[38;5;129;01mnot\u001b[39;00m \u001b[38;5;28;01mNone\u001b[39;00m:\n",
      "\u001b[1;31mKeyboardInterrupt\u001b[0m: "
     ]
    }
   ],
   "source": [
    "\n",
    "print(\"Computing VGGish embeddings…\")\n",
    "X_vgg = np.stack([extract_vggish(fp) for fp in files_tl], axis=0)  # (N_valid,128)\n",
    "y_vgg = y[valid_indices].astype(np.float32) \n"
   ]
  },
  {
   "cell_type": "code",
   "execution_count": null,
   "id": "cfaeec3d",
   "metadata": {},
   "outputs": [
    {
     "ename": "KeyboardInterrupt",
     "evalue": "",
     "output_type": "error",
     "traceback": [
      "\u001b[1;31m---------------------------------------------------------------------------\u001b[0m",
      "\u001b[1;31mKeyboardInterrupt\u001b[0m                         Traceback (most recent call last)",
      "Cell \u001b[1;32mIn[29], line 2\u001b[0m\n\u001b[0;32m      1\u001b[0m \u001b[38;5;66;03m#Train/test split\u001b[39;00m\n\u001b[1;32m----> 2\u001b[0m X_vgg \u001b[38;5;241m=\u001b[39m np\u001b[38;5;241m.\u001b[39mstack([extract_vggish(fp) \u001b[38;5;28;01mfor\u001b[39;00m fp \u001b[38;5;129;01min\u001b[39;00m files_tl], axis\u001b[38;5;241m=\u001b[39m\u001b[38;5;241m0\u001b[39m)  \u001b[38;5;66;03m# (N_valid,128)\u001b[39;00m\n\u001b[0;32m      3\u001b[0m y_vgg \u001b[38;5;241m=\u001b[39m y[valid_indices]\u001b[38;5;241m.\u001b[39mastype(np\u001b[38;5;241m.\u001b[39mfloat32) \n\u001b[0;32m      5\u001b[0m Xv_train, Xv_test, yv_train, yv_test \u001b[38;5;241m=\u001b[39m train_test_split(\n\u001b[0;32m      6\u001b[0m     X_vgg, y_vgg,\n\u001b[0;32m      7\u001b[0m     test_size\u001b[38;5;241m=\u001b[39m\u001b[38;5;241m0.2\u001b[39m,\n\u001b[0;32m      8\u001b[0m     stratify\u001b[38;5;241m=\u001b[39mnp\u001b[38;5;241m.\u001b[39margmax(y_vgg, axis\u001b[38;5;241m=\u001b[39m\u001b[38;5;241m1\u001b[39m),\n\u001b[0;32m      9\u001b[0m     random_state\u001b[38;5;241m=\u001b[39m\u001b[38;5;241m42\u001b[39m\n\u001b[0;32m     10\u001b[0m )\n",
      "Cell \u001b[1;32mIn[22], line 2\u001b[0m, in \u001b[0;36mextract_vggish\u001b[1;34m(path)\u001b[0m\n\u001b[0;32m      1\u001b[0m \u001b[38;5;28;01mdef\u001b[39;00m \u001b[38;5;21mextract_vggish\u001b[39m(path):\n\u001b[1;32m----> 2\u001b[0m     y, _ \u001b[38;5;241m=\u001b[39m librosa\u001b[38;5;241m.\u001b[39mload(path, sr\u001b[38;5;241m=\u001b[39mSAMPLE_RATE, mono\u001b[38;5;241m=\u001b[39m\u001b[38;5;28;01mTrue\u001b[39;00m, duration\u001b[38;5;241m=\u001b[39mDURATION_SEC)\n\u001b[0;32m      3\u001b[0m     \u001b[38;5;28;01mif\u001b[39;00m \u001b[38;5;28mlen\u001b[39m(y) \u001b[38;5;241m<\u001b[39m SAMPLE_RATE \u001b[38;5;241m*\u001b[39m DURATION_SEC:\n\u001b[0;32m      4\u001b[0m         y \u001b[38;5;241m=\u001b[39m np\u001b[38;5;241m.\u001b[39mpad(y, (\u001b[38;5;241m0\u001b[39m, SAMPLE_RATE \u001b[38;5;241m*\u001b[39m DURATION_SEC \u001b[38;5;241m-\u001b[39m \u001b[38;5;28mlen\u001b[39m(y)))\n",
      "File \u001b[1;32mc:\\Users\\mmthe\\anaconda3\\Lib\\site-packages\\librosa\\core\\audio.py:190\u001b[0m, in \u001b[0;36mload\u001b[1;34m(path, sr, mono, offset, duration, dtype, res_type)\u001b[0m\n\u001b[0;32m    188\u001b[0m \u001b[38;5;66;03m# Final cleanup for dtype and contiguity\u001b[39;00m\n\u001b[0;32m    189\u001b[0m \u001b[38;5;28;01mif\u001b[39;00m mono:\n\u001b[1;32m--> 190\u001b[0m     y \u001b[38;5;241m=\u001b[39m to_mono(y)\n\u001b[0;32m    192\u001b[0m \u001b[38;5;28;01mif\u001b[39;00m sr \u001b[38;5;129;01mis\u001b[39;00m \u001b[38;5;129;01mnot\u001b[39;00m \u001b[38;5;28;01mNone\u001b[39;00m:\n\u001b[0;32m    193\u001b[0m     y \u001b[38;5;241m=\u001b[39m resample(y, orig_sr\u001b[38;5;241m=\u001b[39msr_native, target_sr\u001b[38;5;241m=\u001b[39msr, res_type\u001b[38;5;241m=\u001b[39mres_type)\n",
      "File \u001b[1;32mc:\\Users\\mmthe\\anaconda3\\Lib\\site-packages\\librosa\\core\\audio.py:505\u001b[0m, in \u001b[0;36mto_mono\u001b[1;34m(y)\u001b[0m\n\u001b[0;32m    479\u001b[0m \u001b[38;5;250m\u001b[39m\u001b[38;5;124;03m\"\"\"Convert an audio signal to mono by averaging samples across channels.\u001b[39;00m\n\u001b[0;32m    480\u001b[0m \n\u001b[0;32m    481\u001b[0m \u001b[38;5;124;03mParameters\u001b[39;00m\n\u001b[1;32m   (...)\u001b[0m\n\u001b[0;32m    502\u001b[0m \u001b[38;5;124;03m(117601,)\u001b[39;00m\n\u001b[0;32m    503\u001b[0m \u001b[38;5;124;03m\"\"\"\u001b[39;00m\n\u001b[0;32m    504\u001b[0m \u001b[38;5;66;03m# Validate the buffer\u001b[39;00m\n\u001b[1;32m--> 505\u001b[0m util\u001b[38;5;241m.\u001b[39mvalid_audio(y)\n\u001b[0;32m    507\u001b[0m \u001b[38;5;28;01mif\u001b[39;00m y\u001b[38;5;241m.\u001b[39mndim \u001b[38;5;241m>\u001b[39m \u001b[38;5;241m1\u001b[39m:\n\u001b[0;32m    508\u001b[0m     y \u001b[38;5;241m=\u001b[39m np\u001b[38;5;241m.\u001b[39mmean(y, axis\u001b[38;5;241m=\u001b[39m\u001b[38;5;28mtuple\u001b[39m(\u001b[38;5;28mrange\u001b[39m(y\u001b[38;5;241m.\u001b[39mndim \u001b[38;5;241m-\u001b[39m \u001b[38;5;241m1\u001b[39m)))\n",
      "File \u001b[1;32mc:\\Users\\mmthe\\anaconda3\\Lib\\site-packages\\librosa\\util\\utils.py:297\u001b[0m, in \u001b[0;36mvalid_audio\u001b[1;34m(y)\u001b[0m\n\u001b[0;32m    292\u001b[0m \u001b[38;5;28;01mif\u001b[39;00m y\u001b[38;5;241m.\u001b[39mndim \u001b[38;5;241m==\u001b[39m \u001b[38;5;241m0\u001b[39m:\n\u001b[0;32m    293\u001b[0m     \u001b[38;5;28;01mraise\u001b[39;00m ParameterError(\n\u001b[0;32m    294\u001b[0m         \u001b[38;5;124mf\u001b[39m\u001b[38;5;124m\"\u001b[39m\u001b[38;5;124mAudio data must be at least one-dimensional, given y.shape=\u001b[39m\u001b[38;5;132;01m{\u001b[39;00my\u001b[38;5;241m.\u001b[39mshape\u001b[38;5;132;01m}\u001b[39;00m\u001b[38;5;124m\"\u001b[39m\n\u001b[0;32m    295\u001b[0m     )\n\u001b[1;32m--> 297\u001b[0m \u001b[38;5;28;01mif\u001b[39;00m \u001b[38;5;129;01mnot\u001b[39;00m np\u001b[38;5;241m.\u001b[39misfinite(y)\u001b[38;5;241m.\u001b[39mall():\n\u001b[0;32m    298\u001b[0m     \u001b[38;5;28;01mraise\u001b[39;00m ParameterError(\u001b[38;5;124m\"\u001b[39m\u001b[38;5;124mAudio buffer is not finite everywhere\u001b[39m\u001b[38;5;124m\"\u001b[39m)\n\u001b[0;32m    300\u001b[0m \u001b[38;5;28;01mreturn\u001b[39;00m \u001b[38;5;28;01mTrue\u001b[39;00m\n",
      "File \u001b[1;32mc:\\Users\\mmthe\\anaconda3\\Lib\\site-packages\\numpy\\core\\_methods.py:64\u001b[0m, in \u001b[0;36m_all\u001b[1;34m(a, axis, dtype, out, keepdims, where)\u001b[0m\n\u001b[0;32m     61\u001b[0m \u001b[38;5;28;01mdef\u001b[39;00m \u001b[38;5;21m_all\u001b[39m(a, axis\u001b[38;5;241m=\u001b[39m\u001b[38;5;28;01mNone\u001b[39;00m, dtype\u001b[38;5;241m=\u001b[39m\u001b[38;5;28;01mNone\u001b[39;00m, out\u001b[38;5;241m=\u001b[39m\u001b[38;5;28;01mNone\u001b[39;00m, keepdims\u001b[38;5;241m=\u001b[39m\u001b[38;5;28;01mFalse\u001b[39;00m, \u001b[38;5;241m*\u001b[39m, where\u001b[38;5;241m=\u001b[39m\u001b[38;5;28;01mTrue\u001b[39;00m):\n\u001b[0;32m     62\u001b[0m     \u001b[38;5;66;03m# Parsing keyword arguments is currently fairly slow, so avoid it for now\u001b[39;00m\n\u001b[0;32m     63\u001b[0m     \u001b[38;5;28;01mif\u001b[39;00m where \u001b[38;5;129;01mis\u001b[39;00m \u001b[38;5;28;01mTrue\u001b[39;00m:\n\u001b[1;32m---> 64\u001b[0m         \u001b[38;5;28;01mreturn\u001b[39;00m umr_all(a, axis, dtype, out, keepdims)\n\u001b[0;32m     65\u001b[0m     \u001b[38;5;28;01mreturn\u001b[39;00m umr_all(a, axis, dtype, out, keepdims, where\u001b[38;5;241m=\u001b[39mwhere)\n",
      "\u001b[1;31mKeyboardInterrupt\u001b[0m: "
     ]
    }
   ],
   "source": [
    "#Train/test split\n",
    "Xv_train, Xv_test, yv_train, yv_test = train_test_split(\n",
    "    X_vgg, y_vgg,\n",
    "    test_size=0.2,\n",
    "    stratify=np.argmax(y_vgg, axis=1),\n",
    "    random_state=42\n",
    ")"
   ]
  },
  {
   "cell_type": "code",
   "execution_count": 27,
   "id": "eb933cff",
   "metadata": {},
   "outputs": [
    {
     "name": "stdout",
     "output_type": "stream",
     "text": [
      "Epoch 1/20\n"
     ]
    },
    {
     "ename": "ValueError",
     "evalue": "dtype='string' is not a valid dtype for Keras type promotion.",
     "output_type": "error",
     "traceback": [
      "\u001b[1;31m---------------------------------------------------------------------------\u001b[0m",
      "\u001b[1;31mValueError\u001b[0m                                Traceback (most recent call last)",
      "Cell \u001b[1;32mIn[27], line 21\u001b[0m\n\u001b[0;32m     18\u001b[0m Xv_te_c \u001b[38;5;241m=\u001b[39m Xv_test[\u001b[38;5;241m.\u001b[39m\u001b[38;5;241m.\u001b[39m\u001b[38;5;241m.\u001b[39m,  np\u001b[38;5;241m.\u001b[39mnewaxis]\n\u001b[0;32m     20\u001b[0m cnn_tl \u001b[38;5;241m=\u001b[39m make_cnn1d_vgg(\u001b[38;5;241m128\u001b[39m, y_vgg\u001b[38;5;241m.\u001b[39mshape[\u001b[38;5;241m1\u001b[39m])\n\u001b[1;32m---> 21\u001b[0m hist_cnn_tl \u001b[38;5;241m=\u001b[39m cnn_tl\u001b[38;5;241m.\u001b[39mfit(\n\u001b[0;32m     22\u001b[0m     Xv_tr_c, yv_train,\n\u001b[0;32m     23\u001b[0m     validation_data\u001b[38;5;241m=\u001b[39m(Xv_te_c, yv_test),\n\u001b[0;32m     24\u001b[0m     epochs\u001b[38;5;241m=\u001b[39m\u001b[38;5;241m20\u001b[39m,\n\u001b[0;32m     25\u001b[0m     batch_size\u001b[38;5;241m=\u001b[39m\u001b[38;5;241m64\u001b[39m,\n\u001b[0;32m     26\u001b[0m     callbacks\u001b[38;5;241m=\u001b[39m[\n\u001b[0;32m     27\u001b[0m         EarlyStopping(monitor\u001b[38;5;241m=\u001b[39m\u001b[38;5;124m\"\u001b[39m\u001b[38;5;124mval_loss\u001b[39m\u001b[38;5;124m\"\u001b[39m, patience\u001b[38;5;241m=\u001b[39m\u001b[38;5;241m5\u001b[39m, restore_best_weights\u001b[38;5;241m=\u001b[39m\u001b[38;5;28;01mTrue\u001b[39;00m),\n\u001b[0;32m     28\u001b[0m         ReduceLROnPlateau(monitor\u001b[38;5;241m=\u001b[39m\u001b[38;5;124m\"\u001b[39m\u001b[38;5;124mval_loss\u001b[39m\u001b[38;5;124m\"\u001b[39m, patience\u001b[38;5;241m=\u001b[39m\u001b[38;5;241m2\u001b[39m, factor\u001b[38;5;241m=\u001b[39m\u001b[38;5;241m0.2\u001b[39m, verbose\u001b[38;5;241m=\u001b[39m\u001b[38;5;241m1\u001b[39m)\n\u001b[0;32m     29\u001b[0m     ]\n\u001b[0;32m     30\u001b[0m )\n",
      "File \u001b[1;32mc:\\Users\\mmthe\\anaconda3\\Lib\\site-packages\\keras\\src\\utils\\traceback_utils.py:122\u001b[0m, in \u001b[0;36mfilter_traceback.<locals>.error_handler\u001b[1;34m(*args, **kwargs)\u001b[0m\n\u001b[0;32m    119\u001b[0m     filtered_tb \u001b[38;5;241m=\u001b[39m _process_traceback_frames(e\u001b[38;5;241m.\u001b[39m__traceback__)\n\u001b[0;32m    120\u001b[0m     \u001b[38;5;66;03m# To get the full stack trace, call:\u001b[39;00m\n\u001b[0;32m    121\u001b[0m     \u001b[38;5;66;03m# `keras.config.disable_traceback_filtering()`\u001b[39;00m\n\u001b[1;32m--> 122\u001b[0m     \u001b[38;5;28;01mraise\u001b[39;00m e\u001b[38;5;241m.\u001b[39mwith_traceback(filtered_tb) \u001b[38;5;28;01mfrom\u001b[39;00m \u001b[38;5;28;01mNone\u001b[39;00m\n\u001b[0;32m    123\u001b[0m \u001b[38;5;28;01mfinally\u001b[39;00m:\n\u001b[0;32m    124\u001b[0m     \u001b[38;5;28;01mdel\u001b[39;00m filtered_tb\n",
      "File \u001b[1;32mc:\\Users\\mmthe\\anaconda3\\Lib\\site-packages\\keras\\src\\backend\\common\\dtypes.py:151\u001b[0m, in \u001b[0;36m_least_upper_bound\u001b[1;34m(*nodes)\u001b[0m\n\u001b[0;32m    149\u001b[0m \u001b[38;5;28;01mexcept\u001b[39;00m \u001b[38;5;167;01mKeyError\u001b[39;00m:\n\u001b[0;32m    150\u001b[0m     dtype \u001b[38;5;241m=\u001b[39m \u001b[38;5;28mnext\u001b[39m(n \u001b[38;5;28;01mfor\u001b[39;00m n \u001b[38;5;129;01min\u001b[39;00m N \u001b[38;5;28;01mif\u001b[39;00m n \u001b[38;5;129;01mnot\u001b[39;00m \u001b[38;5;129;01min\u001b[39;00m UB)\n\u001b[1;32m--> 151\u001b[0m     \u001b[38;5;28;01mraise\u001b[39;00m \u001b[38;5;167;01mValueError\u001b[39;00m(\n\u001b[0;32m    152\u001b[0m         \u001b[38;5;124mf\u001b[39m\u001b[38;5;124m\"\u001b[39m\u001b[38;5;132;01m{\u001b[39;00mdtype\u001b[38;5;132;01m=}\u001b[39;00m\u001b[38;5;124m is not a valid dtype for Keras type promotion.\u001b[39m\u001b[38;5;124m\"\u001b[39m\n\u001b[0;32m    153\u001b[0m     )\n\u001b[0;32m    154\u001b[0m CUB \u001b[38;5;241m=\u001b[39m \u001b[38;5;28mset\u001b[39m\u001b[38;5;241m.\u001b[39mintersection(\u001b[38;5;241m*\u001b[39mbounds)\n\u001b[0;32m    155\u001b[0m LUB \u001b[38;5;241m=\u001b[39m (CUB \u001b[38;5;241m&\u001b[39m N) \u001b[38;5;129;01mor\u001b[39;00m {c \u001b[38;5;28;01mfor\u001b[39;00m c \u001b[38;5;129;01min\u001b[39;00m CUB \u001b[38;5;28;01mif\u001b[39;00m CUB\u001b[38;5;241m.\u001b[39missubset(UB[c])}\n",
      "\u001b[1;31mValueError\u001b[0m: dtype='string' is not a valid dtype for Keras type promotion."
     ]
    }
   ],
   "source": [
    "#1D CNN with VGGISH\n",
    "def make_cnn1d_vgg(input_dim, n_classes):\n",
    "    inp = tf.keras.Input(shape=(input_dim,1))\n",
    "    x = Conv1D(64, 3, padding=\"same\", activation=\"relu\")(inp)\n",
    "    x = MaxPooling1D(2)(x)\n",
    "    x = Conv1D(128, 3, padding=\"same\", activation=\"relu\")(x)\n",
    "    x = MaxPooling1D(2)(x)\n",
    "    x = GlobalAveragePooling1D()(x)\n",
    "    x = Dense(128, activation=\"relu\")(x)\n",
    "    x = Dropout(0.3)(x)\n",
    "    out = Dense(n_classes, activation=\"softmax\")(x)\n",
    "    m = Model(inp, out, name=\"cnn1d_vggish\")\n",
    "    m.compile(Adam(1e-4), \"categorical_crossentropy\", [\"accuracy\"])\n",
    "    return m\n",
    "\n",
    "# reshape embeddings for Conv1D\n",
    "Xv_tr_c = Xv_train[..., np.newaxis]\n",
    "Xv_te_c = Xv_test[...,  np.newaxis]\n",
    "\n",
    "cnn_tl = make_cnn1d_vgg(128, y_vgg.shape[1])\n",
    "hist_cnn_tl = cnn_tl.fit(\n",
    "    Xv_tr_c, yv_train,\n",
    "    validation_data=(Xv_te_c, yv_test),\n",
    "    epochs=20,\n",
    "    batch_size=64,\n",
    "    callbacks=[\n",
    "        EarlyStopping(monitor=\"val_loss\", patience=5, restore_best_weights=True),\n",
    "        ReduceLROnPlateau(monitor=\"val_loss\", patience=2, factor=0.2, verbose=1)\n",
    "    ]\n",
    ")\n"
   ]
  },
  {
   "cell_type": "code",
   "execution_count": null,
   "id": "37e43caf",
   "metadata": {},
   "outputs": [],
   "source": [
    "#MLP on VGGish\n",
    "def make_mlp_vgg(input_dim, n_classes):\n",
    "    inp = tf.keras.Input(shape=(input_dim,))\n",
    "    x = Dense(256, activation=\"relu\")(inp)\n",
    "    x = Dropout(0.5)(x)\n",
    "    x = Dense(128, activation=\"relu\")(x)\n",
    "    x = Dropout(0.3)(x)\n",
    "    out = Dense(n_classes, activation=\"softmax\")(x)\n",
    "    m = Model(inp, out, name=\"mlp_vggish\")\n",
    "    m.compile(Adam(1e-4), \"categorical_crossentropy\", [\"accuracy\"])\n",
    "    return m\n",
    "\n",
    "mlp_tl = make_mlp_vgg(128, y_vgg.shape[1])\n",
    "hist_mlp_tl = mlp_tl.fit(\n",
    "    Xv_train, yv_train,\n",
    "    validation_data=(Xv_test, yv_test),\n",
    "    epochs=20,\n",
    "    batch_size=64,\n",
    "    callbacks=[\n",
    "        EarlyStopping(monitor=\"val_loss\", patience=5, restore_best_weights=True),\n",
    "        ReduceLROnPlateau(monitor=\"val_loss\", patience=2, factor=0.2, verbose=1)\n",
    "    ]\n",
    ")"
   ]
  },
  {
   "cell_type": "code",
   "execution_count": null,
   "id": "9f94032b",
   "metadata": {},
   "outputs": [],
   "source": [
    "#Evaluate Both Transfer Learning Models\n",
    "def report_tl(model, X, y, title):\n",
    "    y_pred = np.argmax(model.predict(X), axis=1)\n",
    "    y_true = np.argmax(y, axis=1)\n",
    "    print(f\"\\n=== {title} ===\")\n",
    "    print(classification_report(y_true, y_pred, target_names=label_encoder.classes_))\n",
    "    cm = confusion_matrix(y_true, y_pred)\n",
    "    plt.figure(figsize=(7,6))\n",
    "    sns.heatmap(cm, annot=True, fmt=\"d\", cmap=\"Blues\",\n",
    "                xticklabels=label_encoder.classes_,\n",
    "                yticklabels=label_encoder.classes_)\n",
    "    plt.title(f\"{title} Confusion Matrix\")\n",
    "    plt.xticks(rotation=45); plt.yticks(rotation=45)\n",
    "    plt.tight_layout()\n",
    "    plt.show()\n",
    "\n",
    "report_tl(mlp_tl, Xv_test,      yv_test, \"MLP + VGGish (TL)\")\n",
    "report_tl(cnn_tl, Xv_te_c,      yv_test, \"1D-CNN + VGGish (TL)\")"
   ]
  },
  {
   "cell_type": "code",
   "execution_count": null,
   "id": "1a85f8db",
   "metadata": {},
   "outputs": [],
   "source": [
    "#Plots\n",
    "plt.figure(figsize=(10,4))\n",
    "plt.plot(history.history['val_accuracy'],   'k--', label='CNN scratch')\n",
    "plt.plot(mlp_history.history['val_accuracy'],'k:', label='MLP scratch')\n",
    "plt.plot(hist_mlp_tl.history['val_accuracy'],'b-', label='MLP + VGGish')\n",
    "plt.plot(hist_cnn_tl.history['val_accuracy'],'r-', label='CNN + VGGish')\n",
    "plt.title(\"Val Accuracy: Scratch vs. Transfer-Learned\")\n",
    "plt.xlabel(\"Epoch\"); plt.ylabel(\"Accuracy\")\n",
    "plt.legend(); plt.grid(True); plt.tight_layout()\n",
    "plt.show()"
   ]
  }
 ],
 "metadata": {
  "kernelspec": {
   "display_name": "base",
   "language": "python",
   "name": "python3"
  },
  "language_info": {
   "codemirror_mode": {
    "name": "ipython",
    "version": 3
   },
   "file_extension": ".py",
   "mimetype": "text/x-python",
   "name": "python",
   "nbconvert_exporter": "python",
   "pygments_lexer": "ipython3",
   "version": "3.12.3"
  }
 },
 "nbformat": 4,
 "nbformat_minor": 5
}
