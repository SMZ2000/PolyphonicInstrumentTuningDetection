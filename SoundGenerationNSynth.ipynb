{
 "cells": [
  {
   "cell_type": "code",
   "execution_count": null,
   "metadata": {},
   "outputs": [
    {
     "name": "stderr",
     "output_type": "stream",
     "text": [
      "c:\\Users\\mmthe\\anaconda3\\Lib\\site-packages\\deeplake\\util\\check_latest_version.py:32: UserWarning: A newer version of deeplake (4.1.19) is available. It's recommended that you update to the latest version using `pip install -U deeplake`.\n",
      "  warnings.warn(\n"
     ]
    },
    {
     "name": "stdout",
     "output_type": "stream",
     "text": [
      "Opening dataset in read-only mode as you don't have write permissions.\n"
     ]
    },
    {
     "name": "stderr",
     "output_type": "stream",
     "text": [
      "|"
     ]
    },
    {
     "name": "stdout",
     "output_type": "stream",
     "text": [
      "This dataset can be visualized in Jupyter Notebook by ds.visualize() or at https://app.activeloop.ai/activeloop/nsynth-train\n",
      "\n"
     ]
    },
    {
     "name": "stderr",
     "output_type": "stream",
     "text": [
      " \r"
     ]
    },
    {
     "name": "stdout",
     "output_type": "stream",
     "text": [
      "hub://activeloop/nsynth-train loaded successfully.\n",
      "\n"
     ]
    },
    {
     "name": "stderr",
     "output_type": "stream",
     "text": []
    },
    {
     "name": "stdout",
     "output_type": "stream",
     "text": [
      "Generating samples (single-core)...\n"
     ]
    },
    {
     "name": "stderr",
     "output_type": "stream",
     "text": [
      "  0%|          | 0/100000 [00:00<?, ?it/s]c:\\Users\\mmthe\\anaconda3\\Lib\\site-packages\\paramiko\\pkey.py:82: CryptographyDeprecationWarning: TripleDES has been moved to cryptography.hazmat.decrepit.ciphers.algorithms.TripleDES and will be removed from this module in 48.0.0.\n",
      "  \"cipher\": algorithms.TripleDES,\n",
      "c:\\Users\\mmthe\\anaconda3\\Lib\\site-packages\\paramiko\\transport.py:219: CryptographyDeprecationWarning: Blowfish has been moved to cryptography.hazmat.decrepit.ciphers.algorithms.Blowfish and will be removed from this module in 45.0.0.\n",
      "  \"class\": algorithms.Blowfish,\n",
      "c:\\Users\\mmthe\\anaconda3\\Lib\\site-packages\\paramiko\\transport.py:243: CryptographyDeprecationWarning: TripleDES has been moved to cryptography.hazmat.decrepit.ciphers.algorithms.TripleDES and will be removed from this module in 48.0.0.\n",
      "  \"class\": algorithms.TripleDES,\n",
      "  0%|          | 179/100000 [01:42<11:44:20,  2.36it/s]"
     ]
    }
   ],
   "source": [
    "import os\n",
    "import random\n",
    "import librosa\n",
    "import numpy as np\n",
    "import soundfile as sf\n",
    "import pandas as pd\n",
    "import deeplake\n",
    "import pickle\n",
    "from tqdm import tqdm\n",
    "from multiprocessing import Pool, cpu_count\n",
    "\n",
    "# CONFIGURATION \n",
    "OUTPUT_PATH = \"mixed_out_of_tune_samples\"\n",
    "USE_MULTIPROCESSING = False   # Set to True to enable multiprocessing\n",
    "SAVE_EVERY = 10000            # Save metadata every N samples\n",
    "TOTAL_SAMPLES = 100_000\n",
    "SAMPLE_RATE = 16000\n",
    "DURATION_SEC = 4\n",
    "PITCH_SHIFT_RANGE = [-2, -1, 1, 2]\n",
    "MIX_SIZE = 3\n",
    "FILTERED_CACHE = \"filtered_samples.pkl\"\n",
    "\n",
    "# INSTRUMENT MAP\n",
    "INSTRUMENT_MAP = {\n",
    "    0: 'string_bass', 1: 'bass_guitar', 18: 'flute', 20: 'trumpet', 21: 'trombone',\n",
    "    22: 'tuba', 24: 'guitar_acoustic', 26: 'guitar_electric', 47: 'viola',\n",
    "    48: 'violin', 50: 'saxophone', 54: 'oboe', 55: 'bassoon'\n",
    "}\n",
    "target_instruments = set(INSTRUMENT_MAP.keys())\n",
    "\n",
    "# CREATE OUTPUT FOLDER\n",
    "if os.path.isfile(OUTPUT_PATH):\n",
    "    os.remove(OUTPUT_PATH)\n",
    "os.makedirs(OUTPUT_PATH, exist_ok=True)\n",
    "\n",
    "# LOAD DATASET \n",
    "ds = deeplake.load(\"hub://activeloop/nsynth-train\")\n",
    "\n",
    "# FILTER TARGET INSTRUMENTS\n",
    "if os.path.exists(FILTERED_CACHE):\n",
    "    with open(FILTERED_CACHE, \"rb\") as f:\n",
    "        filtered_samples = pickle.load(f)\n",
    "else:\n",
    "    print(\"Filtering target instruments...\")\n",
    "    filtered_samples = []\n",
    "    for i, sample in tqdm(enumerate(ds), total=len(ds)):\n",
    "        instrument_id = int(sample['instrument'].numpy())\n",
    "        if instrument_id in target_instruments:\n",
    "            filtered_samples.append((i, instrument_id))\n",
    "    with open(FILTERED_CACHE, \"wb\") as f:\n",
    "        pickle.dump(filtered_samples, f)\n",
    "\n",
    "# PITCH SHIFT FUNCTION\n",
    "def simple_pitch_shift(y, semitones, sr):\n",
    "    rate = 2 ** (semitones / 12)\n",
    "    y_stretched = librosa.effects.time_stretch(y, rate=1 / rate)\n",
    "    y_shifted = librosa.resample(y_stretched, orig_sr=sr, target_sr=sr)\n",
    "    return librosa.util.fix_length(y_shifted, size=len(y))\n",
    "\n",
    "# SAMPLE GENERATION FUNCTION\n",
    "def generate_sample(i):\n",
    "    chosen = random.sample(filtered_samples, MIX_SIZE)\n",
    "    out_of_tune_idx = random.randint(0, MIX_SIZE - 1)\n",
    "    pitch_shift = random.choice(PITCH_SHIFT_RANGE)\n",
    "\n",
    "    mixture = np.zeros((SAMPLE_RATE * DURATION_SEC,), dtype=np.float32)\n",
    "    label = {}\n",
    "    all_instruments = []\n",
    "\n",
    "    for idx, (sample_idx, instrument_id) in enumerate(chosen):\n",
    "        instrument_name = INSTRUMENT_MAP.get(instrument_id, str(instrument_id))\n",
    "        all_instruments.append(instrument_name)\n",
    "\n",
    "        sample = ds[sample_idx]\n",
    "        y = np.array(sample['audios'], dtype=np.float32).flatten()\n",
    "        y = librosa.util.fix_length(y, size=SAMPLE_RATE * DURATION_SEC)\n",
    "\n",
    "        if idx == out_of_tune_idx:\n",
    "            y = simple_pitch_shift(y, pitch_shift, SAMPLE_RATE)\n",
    "            label['out_of_tune'] = instrument_name\n",
    "        else:\n",
    "            label.setdefault('in_tune', []).append(instrument_name)\n",
    "\n",
    "        mixture += y\n",
    "\n",
    "    # Normalize\n",
    "    mixture /= np.max(np.abs(mixture) + 1e-6)\n",
    "\n",
    "    # Generate filename\n",
    "    filename = f\"mix_{i}.wav\"\n",
    "    file_path = os.path.normpath(os.path.join(OUTPUT_PATH, filename))\n",
    "    sf.write(file_path, mixture, SAMPLE_RATE)\n",
    "\n",
    "    # Metadata\n",
    "    label['filename'] = filename\n",
    "    label['instruments_all'] = all_instruments\n",
    "    return label\n",
    "\n",
    "# GENERATION LOOP\n",
    "if USE_MULTIPROCESSING:\n",
    "    print(f\"Using multiprocessing with {cpu_count()} cores...\")\n",
    "    with Pool(cpu_count()) as pool:\n",
    "        metadata = []\n",
    "        for i, label in enumerate(tqdm(pool.imap(generate_sample, range(TOTAL_SAMPLES)), total=TOTAL_SAMPLES)):\n",
    "            metadata.append(label)\n",
    "            if i > 0 and i % SAVE_EVERY == 0:\n",
    "                pd.DataFrame(metadata).to_csv(os.path.join(OUTPUT_PATH, f\"labels_part_{i}.csv\"), index=False)\n",
    "                metadata = []\n",
    "        if metadata:\n",
    "            pd.DataFrame(metadata).to_csv(os.path.join(OUTPUT_PATH, f\"labels_part_final.csv\"), index=False)\n",
    "else:\n",
    "    print(\"Generating samples (single-core)...\")\n",
    "    metadata = []\n",
    "    for i in tqdm(range(TOTAL_SAMPLES)):\n",
    "        try:\n",
    "            label = generate_sample(i)\n",
    "            metadata.append(label)\n",
    "        except Exception as e:\n",
    "            print(f\"Error on sample {i}: {e}\")\n",
    "        if i > 0 and i % SAVE_EVERY == 0:\n",
    "            pd.DataFrame(metadata).to_csv(os.path.join(OUTPUT_PATH, f\"labels_part_{i}.csv\"), index=False)\n",
    "            metadata = []\n",
    "\n",
    "    if metadata:\n",
    "        pd.DataFrame(metadata).to_csv(os.path.join(OUTPUT_PATH, f\"labels_part_final.csv\"), index=False)\n",
    "\n",
    "print(\"All samples generated.\")\n"
   ]
  }
 ],
 "metadata": {
  "kernelspec": {
   "display_name": "base",
   "language": "python",
   "name": "python3"
  },
  "language_info": {
   "codemirror_mode": {
    "name": "ipython",
    "version": 3
   },
   "file_extension": ".py",
   "mimetype": "text/x-python",
   "name": "python",
   "nbconvert_exporter": "python",
   "pygments_lexer": "ipython3",
   "version": "3.12.7"
  }
 },
 "nbformat": 4,
 "nbformat_minor": 2
}
