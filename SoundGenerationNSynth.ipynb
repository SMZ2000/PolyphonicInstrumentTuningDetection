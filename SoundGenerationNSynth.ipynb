{
 "cells": [
  {
   "cell_type": "code",
   "execution_count": null,
   "metadata": {},
   "outputs": [
    {
     "name": "stderr",
     "output_type": "stream",
     "text": [
      "c:\\Users\\mmthe\\anaconda3\\Lib\\site-packages\\deeplake\\util\\check_latest_version.py:32: UserWarning: A newer version of deeplake (4.1.19) is available. It's recommended that you update to the latest version using `pip install -U deeplake`.\n",
      "  warnings.warn(\n",
      "-"
     ]
    },
    {
     "name": "stdout",
     "output_type": "stream",
     "text": [
      "Opening dataset in read-only mode as you don't have write permissions.\n"
     ]
    },
    {
     "name": "stderr",
     "output_type": "stream",
     "text": [
      "\\"
     ]
    },
    {
     "name": "stdout",
     "output_type": "stream",
     "text": [
      "This dataset can be visualized in Jupyter Notebook by ds.visualize() or at https://app.activeloop.ai/activeloop/nsynth-train\n",
      "\n"
     ]
    },
    {
     "name": "stderr",
     "output_type": "stream",
     "text": [
      "\\"
     ]
    },
    {
     "name": "stdout",
     "output_type": "stream",
     "text": [
      "hub://activeloop/nsynth-train loaded successfully.\n",
      "\n"
     ]
    },
    {
     "name": "stderr",
     "output_type": "stream",
     "text": [
      " "
     ]
    }
   ],
   "source": []
  },
  {
   "cell_type": "code",
   "execution_count": 1,
   "metadata": {},
   "outputs": [
    {
     "name": "stderr",
     "output_type": "stream",
     "text": [
      "c:\\Users\\mmthe\\anaconda3\\Lib\\site-packages\\deeplake\\util\\check_latest_version.py:32: UserWarning: A newer version of deeplake (4.1.19) is available. It's recommended that you update to the latest version using `pip install -U deeplake`.\n",
      "  warnings.warn(\n",
      "|"
     ]
    },
    {
     "name": "stdout",
     "output_type": "stream",
     "text": [
      "Opening dataset in read-only mode as you don't have write permissions.\n"
     ]
    },
    {
     "name": "stderr",
     "output_type": "stream",
     "text": [
      "\\"
     ]
    },
    {
     "name": "stdout",
     "output_type": "stream",
     "text": [
      "This dataset can be visualized in Jupyter Notebook by ds.visualize() or at https://app.activeloop.ai/activeloop/nsynth-train\n",
      "\n"
     ]
    },
    {
     "name": "stderr",
     "output_type": "stream",
     "text": [
      "|"
     ]
    },
    {
     "name": "stdout",
     "output_type": "stream",
     "text": [
      "hub://activeloop/nsynth-train loaded successfully.\n",
      "\n"
     ]
    },
    {
     "name": "stderr",
     "output_type": "stream",
     "text": [
      "  0%|          | 0/1000 [00:00<?, ?it/s]c:\\Users\\mmthe\\anaconda3\\Lib\\site-packages\\paramiko\\pkey.py:82: CryptographyDeprecationWarning: TripleDES has been moved to cryptography.hazmat.decrepit.ciphers.algorithms.TripleDES and will be removed from this module in 48.0.0.\n",
      "  \"cipher\": algorithms.TripleDES,\n",
      "c:\\Users\\mmthe\\anaconda3\\Lib\\site-packages\\paramiko\\transport.py:219: CryptographyDeprecationWarning: Blowfish has been moved to cryptography.hazmat.decrepit.ciphers.algorithms.Blowfish and will be removed from this module in 45.0.0.\n",
      "  \"class\": algorithms.Blowfish,\n",
      "c:\\Users\\mmthe\\anaconda3\\Lib\\site-packages\\paramiko\\transport.py:243: CryptographyDeprecationWarning: TripleDES has been moved to cryptography.hazmat.decrepit.ciphers.algorithms.TripleDES and will be removed from this module in 48.0.0.\n",
      "  \"class\": algorithms.TripleDES,\n",
      "100%|██████████| 1000/1000 [5:25:15<00:00, 19.52s/it] \n"
     ]
    }
   ],
   "source": [
    "import os\n",
    "import random\n",
    "import librosa\n",
    "import numpy as np\n",
    "import soundfile as sf\n",
    "import pandas as pd\n",
    "from tqdm import tqdm\n",
    "import deeplake\n",
    "\n",
    "# Load NSynth from DeepLake\n",
    "ds = deeplake.load(\"hub://activeloop/nsynth-train\")\n",
    "\n",
    "# Output folder\n",
    "OUTPUT_PATH = \"mixed_out_of_tune_samples\"\n",
    "os.makedirs(OUTPUT_PATH, exist_ok=True)\n",
    "\n",
    "# Parameters\n",
    "sample_rate = 16000\n",
    "duration_sec = 4\n",
    "pitch_shift_range = [-2, -1, 1, 2]  # in semitonesA\n",
    "mix_size = 3\n",
    "total_samples = 1000\n",
    "\n",
    "# Memory-friendly pitch shift function\n",
    "def simple_pitch_shift(y, semitones, sr):\n",
    "    rate = 2 ** (semitones / 12)\n",
    "    y_stretched = librosa.effects.time_stretch(y, rate=1 / rate)\n",
    "    y_shifted = librosa.resample(y_stretched, orig_sr=sr, target_sr=sr)\n",
    "    # Use keyword arguments to ensure compatibility\n",
    "    return librosa.util.fix_length(data=y_shifted, size=len(y))\n",
    "\n",
    "metadata = []\n",
    "\n",
    "for i in tqdm(range(total_samples)):\n",
    "    # Pick mix_size random samples\n",
    "    chosen_samples = random.sample(list(ds), mix_size)\n",
    "    out_of_tune_idx = random.randint(0, mix_size - 1)\n",
    "    pitch_shift = random.choice(pitch_shift_range)\n",
    "\n",
    "    # Initialize mixture once per outer iteration\n",
    "    mixture = np.zeros((sample_rate * duration_sec,), dtype=np.float32)\n",
    "    label = {}\n",
    "\n",
    "    for idx, sample in enumerate(chosen_samples):\n",
    "        # Get the audio array from the sample\n",
    "        y = np.array(sample[\"audios\"], dtype=np.float32)\n",
    "        \n",
    "        # Flatten to 1D if needed and fix the length to the specified duration\n",
    "        if y.ndim > 1:\n",
    "            y = y.flatten()\n",
    "        y = librosa.util.fix_length(y, size=sample_rate * duration_sec)\n",
    "        \n",
    "        # Convert instrument value to string.\n",
    "        # Here, instrument is stored as a tensor integer so we convert it.\n",
    "        instrument_val = sample[\"instrument\"].numpy()\n",
    "        if instrument_val.ndim == 0:\n",
    "            instrument_val = instrument_val.item()\n",
    "        instrument_name = str(instrument_val)\n",
    "        \n",
    "        # Apply pitch shift to one sample and note the instrument\n",
    "        if idx == out_of_tune_idx:\n",
    "            y = simple_pitch_shift(y, pitch_shift, sample_rate)\n",
    "            label['out_of_tune'] = instrument_name\n",
    "        else:\n",
    "            label.setdefault('in_tune', []).append(instrument_name)\n",
    "        \n",
    "        # Add the audio sample to the mixture\n",
    "        mixture += y\n",
    "\n",
    "    # Normalize the mixed audio\n",
    "    mixture /= np.max(np.abs(mixture) + 1e-6)\n",
    "\n",
    "    # Write the output file\n",
    "    filename = f\"mix_{i}.wav\"\n",
    "    sf.write(os.path.join(OUTPUT_PATH, filename), mixture, sample_rate)\n",
    "\n",
    "    label['filename'] = filename\n",
    "    metadata.append(label)\n",
    "\n",
    "# Save metadata to CSV\n",
    "df = pd.DataFrame(metadata)\n",
    "df.to_csv(os.path.join(OUTPUT_PATH, \"labels.csv\"), index=False)\n",
    "\n"
   ]
  }
 ],
 "metadata": {
  "kernelspec": {
   "display_name": "base",
   "language": "python",
   "name": "python3"
  },
  "language_info": {
   "codemirror_mode": {
    "name": "ipython",
    "version": 3
   },
   "file_extension": ".py",
   "mimetype": "text/x-python",
   "name": "python",
   "nbconvert_exporter": "python",
   "pygments_lexer": "ipython3",
   "version": "3.12.7"
  }
 },
 "nbformat": 4,
 "nbformat_minor": 2
}
