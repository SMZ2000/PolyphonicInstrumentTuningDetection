{
 "cells": [
  {
   "cell_type": "code",
   "execution_count": 4,
   "metadata": {},
   "outputs": [
    {
     "name": "stderr",
     "output_type": "stream",
     "text": [
      "/"
     ]
    },
    {
     "name": "stdout",
     "output_type": "stream",
     "text": [
      "Opening dataset in read-only mode as you don't have write permissions.\n"
     ]
    },
    {
     "name": "stderr",
     "output_type": "stream",
     "text": [
      "\\"
     ]
    },
    {
     "name": "stdout",
     "output_type": "stream",
     "text": [
      "This dataset can be visualized in Jupyter Notebook by ds.visualize() or at https://app.activeloop.ai/activeloop/nsynth-train\n",
      "\n"
     ]
    },
    {
     "name": "stderr",
     "output_type": "stream",
     "text": [
      "|"
     ]
    },
    {
     "name": "stdout",
     "output_type": "stream",
     "text": [
      "hub://activeloop/nsynth-train loaded successfully.\n",
      "\n"
     ]
    },
    {
     "name": "stderr",
     "output_type": "stream",
     "text": [
      " "
     ]
    },
    {
     "ename": "OSError",
     "evalue": "[WinError 433] A device which does not exist was specified: 'mixed_out_of_tune_samples'",
     "output_type": "error",
     "traceback": [
      "\u001b[1;31m---------------------------------------------------------------------------\u001b[0m",
      "\u001b[1;31mOSError\u001b[0m                                   Traceback (most recent call last)",
      "Cell \u001b[1;32mIn[4], line 15\u001b[0m\n\u001b[0;32m     13\u001b[0m \u001b[38;5;66;03m# Output folder\u001b[39;00m\n\u001b[0;32m     14\u001b[0m OUTPUT_PATH \u001b[38;5;241m=\u001b[39m \u001b[38;5;124m\"\u001b[39m\u001b[38;5;124mmixed_out_of_tune_samples\u001b[39m\u001b[38;5;124m\"\u001b[39m\n\u001b[1;32m---> 15\u001b[0m os\u001b[38;5;241m.\u001b[39mmakedirs(OUTPUT_PATH, exist_ok\u001b[38;5;241m=\u001b[39m\u001b[38;5;28;01mTrue\u001b[39;00m)\n\u001b[0;32m     17\u001b[0m \u001b[38;5;66;03m# Parameters\u001b[39;00m\n\u001b[0;32m     18\u001b[0m sample_rate \u001b[38;5;241m=\u001b[39m \u001b[38;5;241m16000\u001b[39m\n",
      "File \u001b[1;32m<frozen os>:225\u001b[0m, in \u001b[0;36mmakedirs\u001b[1;34m(name, mode, exist_ok)\u001b[0m\n",
      "\u001b[1;31mOSError\u001b[0m: [WinError 433] A device which does not exist was specified: 'mixed_out_of_tune_samples'"
     ]
    }
   ],
   "source": [
    "import os\n",
    "import random\n",
    "import librosa\n",
    "import numpy as np\n",
    "import soundfile as sf\n",
    "import pandas as pd\n",
    "from tqdm import tqdm\n",
    "import deeplake\n",
    "\n",
    "# Load NSynth dataset\n",
    "ds = deeplake.load(\"hub://activeloop/nsynth-train\")\n",
    "\n",
    "# Output folder\n",
    "OUTPUT_PATH = \"mixed_out_of_tune_samples\"\n",
    "os.makedirs(OUTPUT_PATH, exist_ok=True)\n",
    "\n",
    "# Parameters\n",
    "sample_rate = 16000\n",
    "duration_sec = 4\n",
    "pitch_shift_range = [-2, -1, 1, 2]\n",
    "mix_size = 3\n",
    "total_samples = 1000\n",
    "\n",
    "# Instrument mapping: human-readable names\n",
    "INSTRUMENT_MAP = {\n",
    "    0: 'string_bass',\n",
    "    1: 'bass_guitar',\n",
    "    18: 'flute',\n",
    "    20: 'trumpet',\n",
    "    21: 'trombone',\n",
    "    22: 'tuba',\n",
    "    24: 'guitar_acoustic',\n",
    "    26: 'guitar_electric',\n",
    "    47: 'viola',\n",
    "    48: 'violin',\n",
    "    50: 'saxophone',\n",
    "    54: 'oboe',\n",
    "    55: 'bassoon'\n",
    "}\n",
    "\n",
    "target_instruments = set(INSTRUMENT_MAP.keys())\n",
    "\n",
    "# Filter dataset once to only include target instruments\n",
    "filtered_indices = [\n",
    "    i for i in range(len(ds))\n",
    "    if int(ds[i]['instrument'].numpy()) in target_instruments\n",
    "]\n",
    "\n",
    "# Preload instrument IDs for fast access\n",
    "filtered_samples = [(i, int(ds[i]['instrument'].numpy())) for i in filtered_indices]\n",
    "\n",
    "# Memory-efficient pitch shift\n",
    "def simple_pitch_shift(y, semitones, sr):\n",
    "    rate = 2 ** (semitones / 12)\n",
    "    y_stretched = librosa.effects.time_stretch(y, rate=1 / rate)\n",
    "    y_shifted = librosa.resample(y_stretched, orig_sr=sr, target_sr=sr)\n",
    "    return librosa.util.fix_length(y_shifted, size=len(y))\n",
    "\n",
    "# Metadata storage\n",
    "metadata = []\n",
    "\n",
    "# Sample generation loop\n",
    "for i in tqdm(range(total_samples)):\n",
    "    chosen = random.sample(filtered_samples, mix_size)\n",
    "    out_of_tune_idx = random.randint(0, mix_size - 1)\n",
    "    pitch_shift = random.choice(pitch_shift_range)\n",
    "\n",
    "    mixture = np.zeros((sample_rate * duration_sec,), dtype=np.float32)\n",
    "    label = {}\n",
    "    all_instruments = []\n",
    "\n",
    "    for idx, (sample_idx, instrument_id) in enumerate(chosen):\n",
    "        sample = ds[sample_idx]\n",
    "        instrument_name = INSTRUMENT_MAP.get(instrument_id, str(instrument_id))\n",
    "        all_instruments.append(instrument_name)\n",
    "\n",
    "        y = np.array(sample['audios'], dtype=np.float32)\n",
    "        if y.ndim > 1:\n",
    "            y = y.flatten()\n",
    "        y = librosa.util.fix_length(y, size=sample_rate * duration_sec)\n",
    "\n",
    "        if idx == out_of_tune_idx:\n",
    "            y = simple_pitch_shift(y, pitch_shift, sample_rate)\n",
    "            label['out_of_tune'] = instrument_name\n",
    "        else:\n",
    "            label.setdefault('in_tune', []).append(instrument_name)\n",
    "\n",
    "        mixture += y\n",
    "\n",
    "    # Normalize audio\n",
    "    mixture /= np.max(np.abs(mixture) + 1e-6)\n",
    "\n",
    "    # Save file\n",
    "    filename = f\"mix_{i}.wav\"\n",
    "    sf.write(os.path.join(OUTPUT_PATH, filename), mixture, sample_rate)\n",
    "\n",
    "    # Metadata\n",
    "    label['filename'] = filename\n",
    "    label['instruments_all'] = all_instruments\n",
    "    metadata.append(label)\n",
    "\n",
    "# Save metadata CSV\n",
    "df = pd.DataFrame(metadata)\n",
    "df.to_csv(os.path.join(OUTPUT_PATH, \"labels.csv\"), index=False)\n"
   ]
  }
 ],
 "metadata": {
  "kernelspec": {
   "display_name": "base",
   "language": "python",
   "name": "python3"
  },
  "language_info": {
   "codemirror_mode": {
    "name": "ipython",
    "version": 3
   },
   "file_extension": ".py",
   "mimetype": "text/x-python",
   "name": "python",
   "nbconvert_exporter": "python",
   "pygments_lexer": "ipython3",
   "version": "3.11.4"
  }
 },
 "nbformat": 4,
 "nbformat_minor": 2
}
