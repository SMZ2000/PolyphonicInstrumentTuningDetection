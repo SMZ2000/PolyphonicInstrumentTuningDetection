{
 "cells": [
  {
   "cell_type": "code",
   "execution_count": null,
   "metadata": {},
<<<<<<< HEAD
   "outputs": [
    {
     "name": "stderr",
     "output_type": "stream",
     "text": [
      "c:\\Users\\mmthe\\anaconda3\\Lib\\site-packages\\deeplake\\util\\check_latest_version.py:32: UserWarning: A newer version of deeplake (4.1.19) is available. It's recommended that you update to the latest version using `pip install -U deeplake`.\n",
      "  warnings.warn(\n",
      " \r"
     ]
    },
    {
     "name": "stdout",
     "output_type": "stream",
     "text": [
      "Opening dataset in read-only mode as you don't have write permissions.\n"
     ]
    },
    {
     "name": "stderr",
     "output_type": "stream",
     "text": [
      "-"
     ]
    },
    {
     "name": "stdout",
     "output_type": "stream",
     "text": [
      "This dataset can be visualized in Jupyter Notebook by ds.visualize() or at https://app.activeloop.ai/activeloop/nsynth-train\n",
      "\n"
     ]
    },
    {
     "name": "stderr",
     "output_type": "stream",
     "text": [
      "-\\"
     ]
    },
    {
     "name": "stdout",
     "output_type": "stream",
     "text": [
      "hub://activeloop/nsynth-train loaded successfully.\n",
      "\n"
     ]
    },
    {
     "name": "stderr",
     "output_type": "stream",
     "text": [
      "  0%|          | 0/1000 [00:00<?, ?it/s]c:\\Users\\mmthe\\anaconda3\\Lib\\site-packages\\paramiko\\pkey.py:82: CryptographyDeprecationWarning: TripleDES has been moved to cryptography.hazmat.decrepit.ciphers.algorithms.TripleDES and will be removed from this module in 48.0.0.\n",
      "  \"cipher\": algorithms.TripleDES,\n",
      "c:\\Users\\mmthe\\anaconda3\\Lib\\site-packages\\paramiko\\transport.py:219: CryptographyDeprecationWarning: Blowfish has been moved to cryptography.hazmat.decrepit.ciphers.algorithms.Blowfish and will be removed from this module in 45.0.0.\n",
      "  \"class\": algorithms.Blowfish,\n",
      "c:\\Users\\mmthe\\anaconda3\\Lib\\site-packages\\paramiko\\transport.py:243: CryptographyDeprecationWarning: TripleDES has been moved to cryptography.hazmat.decrepit.ciphers.algorithms.TripleDES and will be removed from this module in 48.0.0.\n",
      "  \"class\": algorithms.TripleDES,\n",
      "  0%|          | 0/1000 [00:29<?, ?it/s]\n"
     ]
    },
    {
     "ename": "TypeError",
     "evalue": "melspectrogram() takes 0 positional arguments but 1 positional argument (and 1 keyword-only argument) were given",
     "output_type": "error",
     "traceback": [
      "\u001b[1;31m---------------------------------------------------------------------------\u001b[0m",
      "\u001b[1;31mTypeError\u001b[0m                                 Traceback (most recent call last)",
      "Cell \u001b[1;32mIn[1], line 72\u001b[0m\n\u001b[0;32m     70\u001b[0m \u001b[38;5;66;03m# Generate and save the mel-spectrogram image\u001b[39;00m\n\u001b[0;32m     71\u001b[0m filename_png \u001b[38;5;241m=\u001b[39m \u001b[38;5;124mf\u001b[39m\u001b[38;5;124m\"\u001b[39m\u001b[38;5;124mmix_\u001b[39m\u001b[38;5;132;01m{\u001b[39;00mi\u001b[38;5;132;01m}\u001b[39;00m\u001b[38;5;124m_spec.png\u001b[39m\u001b[38;5;124m\"\u001b[39m\n\u001b[1;32m---> 72\u001b[0m S \u001b[38;5;241m=\u001b[39m librosa\u001b[38;5;241m.\u001b[39mfeature\u001b[38;5;241m.\u001b[39mmelspectrogram(mixture, sr\u001b[38;5;241m=\u001b[39msample_rate, n_mels\u001b[38;5;241m=\u001b[39m\u001b[38;5;241m128\u001b[39m)\n\u001b[0;32m     73\u001b[0m S_dB \u001b[38;5;241m=\u001b[39m librosa\u001b[38;5;241m.\u001b[39mpower_to_db(S, ref\u001b[38;5;241m=\u001b[39mnp\u001b[38;5;241m.\u001b[39mmax)\n\u001b[0;32m     75\u001b[0m plt\u001b[38;5;241m.\u001b[39mfigure(figsize\u001b[38;5;241m=\u001b[39m(\u001b[38;5;241m10\u001b[39m, \u001b[38;5;241m4\u001b[39m))\n",
      "\u001b[1;31mTypeError\u001b[0m: melspectrogram() takes 0 positional arguments but 1 positional argument (and 1 keyword-only argument) were given"
     ]
    }
   ],
=======
   "outputs": [],
>>>>>>> 73832f6fbae4d8e4ee0182bdecb0c16b81f1332a
   "source": [
    "import os\n",
    "import random\n",
    "import librosa\n",
    "import librosa.display\n",
    "import numpy as np\n",
    "import pandas as pd\n",
    "from tqdm import tqdm\n",
    "import deeplake\n",
    "import matplotlib.pyplot as plt\n",
    "\n",
    "# Load NSynth from DeepLake\n",
    "ds = deeplake.load(\"hub://activeloop/nsynth-train\")\n",
    "\n",
    "# Output folder\n",
<<<<<<< HEAD
    "OUTPUT_PATH = \"mixed_out_of_tune_samples_spectogram\"\n",
=======
    "OUTPUT_PATH = \"mixed_out_of_tune_samples\"\n",
>>>>>>> 73832f6fbae4d8e4ee0182bdecb0c16b81f1332a
    "os.makedirs(OUTPUT_PATH, exist_ok=True)\n",
    "\n",
    "# Parameters\n",
    "sample_rate = 16000\n",
    "duration_sec = 4\n",
    "pitch_shift_range = [-2, -1, 1, 2]  # in semitones\n",
    "mix_size = 3   # number of instruments to mix\n",
<<<<<<< HEAD
    "total_samples = 1000  # number of mixed samples to generate\n",
=======
    "total_samples = 10  # number of mixed samples to generate\n",
>>>>>>> 73832f6fbae4d8e4ee0182bdecb0c16b81f1332a
    "\n",
    "# Memory-friendly pitch shift function\n",
    "def simple_pitch_shift(y, semitones, sr):\n",
    "    rate = 2 ** (semitones / 12)\n",
    "    y_stretched = librosa.effects.time_stretch(y, rate=1 / rate)\n",
    "    y_shifted = librosa.resample(y_stretched, orig_sr=sr, target_sr=sr)\n",
    "    return librosa.util.fix_length(y_shifted, size=len(y))\n",
    "\n",
    "metadata = []\n",
    "\n",
    "for i in tqdm(range(total_samples)):\n",
    "    # Randomly choose mix_size samples from NSynth\n",
    "    chosen_samples = random.sample(list(ds), mix_size)\n",
    "    out_of_tune_idx = random.randint(0, mix_size - 1)\n",
    "    pitch_shift = random.choice(pitch_shift_range)\n",
    "    \n",
    "    # Initialize the mixture\n",
    "    mixture = np.zeros((sample_rate * duration_sec,), dtype=np.float32)\n",
    "    label = {}\n",
    "    \n",
    "    for idx, sample in enumerate(chosen_samples):\n",
    "        # Get the audio array from the sample and flatten if necessary\n",
    "        y = np.array(sample[\"audios\"], dtype=np.float32)\n",
    "        if y.ndim > 1:\n",
    "            y = y.flatten()\n",
    "        y = librosa.util.fix_length(y, size=sample_rate * duration_sec)\n",
    "        \n",
    "        # Convert instrument value to a string\n",
    "        instrument_val = sample[\"instrument\"].numpy()\n",
    "        if instrument_val.ndim == 0:\n",
    "            instrument_val = instrument_val.item()\n",
    "        instrument_name = str(instrument_val)\n",
    "        \n",
    "        # Apply pitch shifting if this is the out-of-tune sample\n",
    "        if idx == out_of_tune_idx:\n",
    "            y = simple_pitch_shift(y, pitch_shift, sample_rate)\n",
    "            label['out_of_tune'] = instrument_name\n",
    "        else:\n",
    "            label.setdefault('in_tune', []).append(instrument_name)\n",
    "        \n",
    "        # Add to the overall mixture\n",
    "        mixture += y\n",
    "    \n",
    "    # Normalize the mixed audio to prevent clipping\n",
    "    mixture /= np.max(np.abs(mixture) + 1e-6)\n",
    "    \n",
    "    # Generate and save the mel-spectrogram image\n",
    "    filename_png = f\"mix_{i}_spec.png\"\n",
<<<<<<< HEAD
    "    S = librosa.feature.melspectrogram(y=mixture, sr=sample_rate, n_mels=128)\n",
=======
    "    S = librosa.feature.melspectrogram(mixture, sr=sample_rate, n_mels=128)\n",
>>>>>>> 73832f6fbae4d8e4ee0182bdecb0c16b81f1332a
    "    S_dB = librosa.power_to_db(S, ref=np.max)\n",
    "    \n",
    "    plt.figure(figsize=(10, 4))\n",
    "    librosa.display.specshow(S_dB, sr=sample_rate, x_axis='time', y_axis='mel')\n",
    "    plt.colorbar(format='%+2.0f dB')\n",
    "    plt.title('Mel-frequency Spectrogram')\n",
    "    plt.tight_layout()\n",
    "    plt.savefig(os.path.join(OUTPUT_PATH, filename_png))\n",
    "    plt.close()\n",
    "    \n",
    "    label['spectrogram_filename'] = filename_png\n",
    "    metadata.append(label)\n",
    "\n",
    "# Save metadata to CSV\n",
    "df = pd.DataFrame(metadata)\n",
    "df.to_csv(os.path.join(OUTPUT_PATH, \"labels.csv\"), index=False)\n"
   ]
  }
 ],
 "metadata": {
  "kernelspec": {
   "display_name": "base",
   "language": "python",
   "name": "python3"
  },
  "language_info": {
   "codemirror_mode": {
    "name": "ipython",
    "version": 3
   },
   "file_extension": ".py",
   "mimetype": "text/x-python",
   "name": "python",
   "nbconvert_exporter": "python",
   "pygments_lexer": "ipython3",
   "version": "3.12.7"
  }
 },
 "nbformat": 4,
 "nbformat_minor": 2
}
